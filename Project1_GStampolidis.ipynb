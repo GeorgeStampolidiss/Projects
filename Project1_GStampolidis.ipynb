{
 "cells": [
  {
   "cell_type": "markdown",
   "id": "cd56e6fc",
   "metadata": {},
   "source": [
    "# Rossmann's Retail Chain Sales\n",
    "### Data Cleansing & EDA"
   ]
  },
  {
   "cell_type": "code",
   "execution_count": null,
   "id": "ac9f0fc7",
   "metadata": {},
   "outputs": [],
   "source": [
    "#library\n",
    "import pandas as pd\n",
    "\n",
    "#data\n",
    "ss=pd.read_csv(r\"/mnt/c/Users/GStampolidis/Desktop/Projects/sample_submission.csv\")\n",
    "store=pd.read_csv(r\"/mnt/c/Users/GStampolidis/Desktop/Projects/store.csv\")\n",
    "test=pd.read_csv(r\"/mnt/c/Users/GStampolidis/Desktop/Projects/test.csv\")\n",
    "train=pd.read_csv(r\"/mnt/c/Users/GStampolidis/Desktop/Projects/train.csv\")"
   ]
  },
  {
   "cell_type": "code",
   "execution_count": null,
   "id": "92ffd18e",
   "metadata": {},
   "outputs": [],
   "source": [
    "ss"
   ]
  },
  {
   "cell_type": "code",
   "execution_count": null,
   "id": "f76f843b",
   "metadata": {},
   "outputs": [],
   "source": [
    "store"
   ]
  },
  {
   "cell_type": "code",
   "execution_count": null,
   "id": "8a6313c4",
   "metadata": {},
   "outputs": [],
   "source": [
    "train"
   ]
  },
  {
   "cell_type": "code",
   "execution_count": null,
   "id": "39789672",
   "metadata": {},
   "outputs": [],
   "source": [
    "test"
   ]
  },
  {
   "cell_type": "code",
   "execution_count": null,
   "id": "bb7a71cc",
   "metadata": {},
   "outputs": [],
   "source": [
    "#nrows and ncols of ss\n",
    "nrow1 = ss.shape[0]\n",
    "print(nrow1)\n",
    "\n",
    "ncol1 = ss.shape[1]\n",
    "print(ncol1)"
   ]
  },
  {
   "cell_type": "code",
   "execution_count": null,
   "id": "928b92c1",
   "metadata": {},
   "outputs": [],
   "source": [
    "#nrows and ncols of Store data\n",
    "nrow2 = store.shape[0]\n",
    "print(nrow2)\n",
    "\n",
    "ncol2 = store.shape[1]\n",
    "print(ncol2)"
   ]
  },
  {
   "cell_type": "code",
   "execution_count": null,
   "id": "61c4d0b1",
   "metadata": {},
   "outputs": [],
   "source": [
    "#nrows and ncols of Test data\n",
    "nrow3 = test.shape[0]\n",
    "print(nrow3)\n",
    "\n",
    "ncol3 = test.shape[1]\n",
    "print(ncol3)"
   ]
  },
  {
   "cell_type": "code",
   "execution_count": null,
   "id": "57bb6c80",
   "metadata": {},
   "outputs": [],
   "source": [
    "#nrows and ncols of Train data\n",
    "nrow4 = train.shape[0]\n",
    "print(nrow4)\n",
    "\n",
    "ncol4 = train.shape[1]\n",
    "print(ncol4)"
   ]
  },
  {
   "cell_type": "code",
   "execution_count": null,
   "id": "d40d4e28",
   "metadata": {},
   "outputs": [],
   "source": [
    "#Merge Train data with Store data \n",
    "#The main dataset that will be used in this project\n",
    "data=pd.merge(train,store, on=\"Store\", how=\"left\")"
   ]
  },
  {
   "cell_type": "code",
   "execution_count": null,
   "id": "3999ebc8",
   "metadata": {},
   "outputs": [],
   "source": [
    "#Nrows and ncols of DATA\n",
    "nrow5 = data.shape[0]\n",
    "print(nrow5)\n",
    "\n",
    "ncol5= data.shape[1]\n",
    "print(ncol5)"
   ]
  },
  {
   "cell_type": "code",
   "execution_count": null,
   "id": "0536149c",
   "metadata": {},
   "outputs": [],
   "source": [
    "#Dataset that will contribute for predictions with ML models\n",
    "#It contains information about future factors\n",
    "t=pd.merge(test,store, on=\"Store\", how=\"left\")"
   ]
  },
  {
   "cell_type": "code",
   "execution_count": null,
   "id": "396da20c",
   "metadata": {},
   "outputs": [],
   "source": [
    "data"
   ]
  },
  {
   "cell_type": "code",
   "execution_count": null,
   "id": "b78312cc",
   "metadata": {},
   "outputs": [],
   "source": [
    "#Variable types\n",
    "print(data.info())"
   ]
  },
  {
   "cell_type": "code",
   "execution_count": null,
   "id": "7db3b7b6",
   "metadata": {},
   "outputs": [],
   "source": [
    "#change type of integers as factor\n",
    "data['DayOfWeek'] = data['DayOfWeek'].astype('category')\n",
    "data['Promo'] = data['Promo'].astype('category')\n",
    "data['Open'] = data['Open'].astype('category')\n",
    "data['SchoolHoliday'] = data['SchoolHoliday'].astype('category')\n",
    "data['Promo2'] = data['Promo2'].astype('category')\n",
    "data['CompetitionOpenSinceMonth'] = data['CompetitionOpenSinceMonth'].astype('category')\n",
    "data['CompetitionOpenSinceYear'] = data['CompetitionOpenSinceYear'].astype('category')\n",
    "data['Promo2SinceWeek'] = data['Promo2SinceWeek'].astype('category')\n",
    "data['Promo2SinceYear'] = data['Promo2SinceYear'].astype('category')"
   ]
  },
  {
   "cell_type": "code",
   "execution_count": null,
   "id": "366d4a88",
   "metadata": {},
   "outputs": [],
   "source": [
    "#change type of integers as factor\n",
    "t['DayOfWeek'] = t['DayOfWeek'].astype('category')\n",
    "t['Promo'] = t['Promo'].astype('category')\n",
    "t['Open'] = t['Open'].astype('category')\n",
    "t['SchoolHoliday'] = t['SchoolHoliday'].astype('category')\n",
    "t['Promo2'] = t['Promo2'].astype('category')\n",
    "t['CompetitionOpenSinceMonth'] = t['CompetitionOpenSinceMonth'].astype('category')\n",
    "t['CompetitionOpenSinceYear'] = t['CompetitionOpenSinceYear'].astype('category')\n",
    "t['Promo2SinceWeek'] = t['Promo2SinceWeek'].astype('category')\n",
    "t['Promo2SinceYear'] = t['Promo2SinceYear'].astype('category')"
   ]
  },
  {
   "cell_type": "code",
   "execution_count": null,
   "id": "b144e53b",
   "metadata": {},
   "outputs": [],
   "source": [
    "#check for NA or NaN\n",
    "na_columns=data.isna().any()\n",
    "print(na_columns)"
   ]
  },
  {
   "cell_type": "code",
   "execution_count": null,
   "id": "12dd1c8f",
   "metadata": {},
   "outputs": [],
   "source": [
    "#check for NA or NaN\n",
    "na_columns=t.isna().any()\n",
    "print(na_columns)"
   ]
  },
  {
   "cell_type": "code",
   "execution_count": null,
   "id": "bf9e567d",
   "metadata": {},
   "outputs": [],
   "source": [
    "#SD CALCULATION IN ORDER TO DECIDE IF I AM GOING TO USE MEDIAN OR MEAN VALUE TO REPLACE NA\n",
    "#PANDAS IGNORE NA & NAN\n",
    "print(data.describe())\n",
    "\n",
    "#Variables have large sd so it is better to replace with median value\n",
    "#I replace NAs in categorical variables with the most frequent value"
   ]
  },
  {
   "cell_type": "code",
   "execution_count": null,
   "id": "dd972f7e",
   "metadata": {},
   "outputs": [],
   "source": [
    "median_value = data[\"CompetitionDistance\"].median()\n",
    "data[\"CompetitionDistance\"] = data[\"CompetitionDistance\"].fillna(median_value)"
   ]
  },
  {
   "cell_type": "code",
   "execution_count": null,
   "id": "58de40c3",
   "metadata": {},
   "outputs": [],
   "source": [
    "m_freq = data[\"CompetitionOpenSinceMonth\"].mode()[0]\n",
    "data[\"CompetitionOpenSinceMonth\"] = data[\"CompetitionOpenSinceMonth\"].fillna(m_freq)"
   ]
  },
  {
   "cell_type": "code",
   "execution_count": null,
   "id": "ccd592ac",
   "metadata": {},
   "outputs": [],
   "source": [
    "m_freq = data[\"CompetitionOpenSinceYear\"].mode()[0]\n",
    "data[\"CompetitionOpenSinceYear\"] = data[\"CompetitionOpenSinceYear\"].fillna(m_freq)"
   ]
  },
  {
   "cell_type": "code",
   "execution_count": null,
   "id": "634f5b52",
   "metadata": {},
   "outputs": [],
   "source": [
    "m_freq = data[\"Promo2SinceWeek\"].mode()[0]\n",
    "data[\"Promo2SinceWeek\"] = data[\"Promo2SinceWeek\"].fillna(m_freq)"
   ]
  },
  {
   "cell_type": "code",
   "execution_count": null,
   "id": "bd5fc820",
   "metadata": {},
   "outputs": [],
   "source": [
    "m_freq = data[\"Promo2SinceYear\"].mode()[0]\n",
    "data[\"Promo2SinceYear\"] = data[\"Promo2SinceYear\"].fillna(m_freq)"
   ]
  },
  {
   "cell_type": "code",
   "execution_count": null,
   "id": "9ea482be",
   "metadata": {},
   "outputs": [],
   "source": [
    "most_frequent = data[\"PromoInterval\"].mode()[0]\n",
    "data[\"PromoInterval\"] = data[\"PromoInterval\"].fillna(most_frequent)"
   ]
  },
  {
   "cell_type": "code",
   "execution_count": null,
   "id": "a046a5f8",
   "metadata": {},
   "outputs": [],
   "source": [
    "#Replace NAs in test data\n",
    "m_freq = t[\"Open\"].mode()[0]\n",
    "t[\"Open\"] = t[\"Open\"].fillna(m_freq)\n",
    "median_value = t[\"CompetitionDistance\"].median()\n",
    "t[\"CompetitionDistance\"] =t[\"CompetitionDistance\"].fillna(median_value)\n",
    "m_freq = t[\"CompetitionOpenSinceMonth\"].mode()[0]\n",
    "t[\"CompetitionOpenSinceMonth\"] = t[\"CompetitionOpenSinceMonth\"].fillna(m_freq)\n",
    "m_freq = t[\"CompetitionOpenSinceYear\"].mode()[0]\n",
    "t[\"CompetitionOpenSinceYear\"] = t[\"CompetitionOpenSinceYear\"].fillna(m_freq)\n",
    "m_freq = t[\"Promo2SinceWeek\"].mode()[0]\n",
    "t[\"Promo2SinceWeek\"] = t[\"Promo2SinceWeek\"].fillna(m_freq)\n",
    "m_freq = t[\"Promo2SinceYear\"].mode()[0]\n",
    "t[\"Promo2SinceYear\"] = t[\"Promo2SinceYear\"].fillna(m_freq)\n",
    "most_frequent = t[\"PromoInterval\"].mode()[0]\n",
    "t[\"PromoInterval\"] = t[\"PromoInterval\"].fillna(most_frequent)"
   ]
  },
  {
   "cell_type": "code",
   "execution_count": null,
   "id": "9bb263d7",
   "metadata": {},
   "outputs": [],
   "source": [
    "#check that everything is ok\n",
    "na_columns=t.isna().any()\n",
    "print(na_columns)"
   ]
  },
  {
   "cell_type": "code",
   "execution_count": null,
   "id": "9f61d075",
   "metadata": {},
   "outputs": [],
   "source": [
    "#Open stores with no sales for some reasons\n",
    "data[(data.Open == 1) & (data.Sales== 0)]"
   ]
  },
  {
   "cell_type": "code",
   "execution_count": null,
   "id": "f572af2d",
   "metadata": {},
   "outputs": [],
   "source": [
    "#number of stores with zero sales\n",
    "open_zero_sales=data[(data['Open']==1)&(data['Sales']==0)]\n",
    "stores_with_zero_sales=open_zero_sales['Store'].nunique()\n",
    "print(stores_with_zero_sales)"
   ]
  },
  {
   "cell_type": "code",
   "execution_count": null,
   "id": "e996f829",
   "metadata": {},
   "outputs": [],
   "source": [
    "#Replace zero sales for open stores with median value\n",
    "median_sales=data[(data['Open'] == 1)&(data['Sales'] > 0)]['Sales'].median()\n",
    "data.loc[(data['Open'] == 1) & (data['Sales'] == 0), 'Sales'] = median_sales"
   ]
  },
  {
   "cell_type": "code",
   "execution_count": null,
   "id": "5f384505",
   "metadata": {},
   "outputs": [],
   "source": [
    "#There are open stores with no customers\n",
    "#Replace with median value of customers\n",
    "median_cust = data[(data['Open'] == 1) & (data['Customers'] > 0)]['Customers'].median()\n",
    "data.loc[(data['Open'] == 1) & (data['Customers'] == 0), 'Customers'] = median_cust"
   ]
  },
  {
   "cell_type": "code",
   "execution_count": null,
   "id": "971ed925",
   "metadata": {},
   "outputs": [],
   "source": [
    "#rows in data with closed stores and withouts sales\n",
    "data[(data[\"Open\"]==0) & (data[\"Sales\"]==0)]"
   ]
  },
  {
   "cell_type": "code",
   "execution_count": null,
   "id": "b31f04ab",
   "metadata": {},
   "outputs": [],
   "source": [
    "#Check tha we have replaced NAs\n",
    "na_columns_check1 = data.isna().any()\n",
    "print(na_columns_check1)"
   ]
  },
  {
   "cell_type": "code",
   "execution_count": null,
   "id": "865d002f",
   "metadata": {},
   "outputs": [],
   "source": [
    "#Check for wrong data\n",
    "data[data[\"Sales\"]<0]"
   ]
  },
  {
   "cell_type": "code",
   "execution_count": null,
   "id": "707b2747",
   "metadata": {},
   "outputs": [],
   "source": [
    "#Check for wrong data\n",
    "data[data[\"Customers\"]<0]"
   ]
  },
  {
   "cell_type": "code",
   "execution_count": null,
   "id": "1b15e627",
   "metadata": {},
   "outputs": [],
   "source": [
    "#Check for variable levels\n",
    "print(data[\"Open\"].unique())\n",
    "data[\"StateHoliday\"] =data[\"StateHoliday\"].astype(str)\n",
    "print(data[\"StateHoliday\"].unique())\n",
    "print(data[\"SchoolHoliday\"].unique())\n",
    "print(data[\"StoreType\"].unique())\n",
    "print(data[\"Assortment\"].unique())\n",
    "print(data[\"CompetitionOpenSinceMonth\"].unique())\n",
    "print(data[\"CompetitionOpenSinceYear\"].unique())\n",
    "print(data[\"Promo2\"].unique())\n",
    "print(data[\"Promo2SinceWeek\"].unique())\n",
    "print(data[\"Promo2SinceYear\"].unique())\n",
    "print(data[\"PromoInterval\"].unique())"
   ]
  },
  {
   "cell_type": "code",
   "execution_count": null,
   "id": "ceee4409",
   "metadata": {},
   "outputs": [],
   "source": [
    "#change variable's type\n",
    "data['StateHoliday']=data['StateHoliday'].astype(str).str.strip()"
   ]
  },
  {
   "cell_type": "code",
   "execution_count": null,
   "id": "7a2d125a",
   "metadata": {},
   "outputs": [],
   "source": [
    "#Check for wrong data\n",
    "data[data[\"CompetitionDistance\"]<0]"
   ]
  },
  {
   "cell_type": "markdown",
   "id": "1443fd8d",
   "metadata": {},
   "source": [
    "# Descriptive statistics & Frequencies "
   ]
  },
  {
   "cell_type": "code",
   "execution_count": null,
   "id": "a2f84080",
   "metadata": {},
   "outputs": [],
   "source": [
    "#Library for skewness and kurtosis\n",
    "from scipy.stats import skew, kurtosis"
   ]
  },
  {
   "cell_type": "code",
   "execution_count": null,
   "id": "6b42285f",
   "metadata": {},
   "outputs": [],
   "source": [
    "#Frequency\n",
    "data[\"PromoInterval\"].value_counts()"
   ]
  },
  {
   "cell_type": "code",
   "execution_count": null,
   "id": "5122d99b",
   "metadata": {},
   "outputs": [],
   "source": [
    "#Freq\n",
    "data[\"Promo2\"].value_counts()"
   ]
  },
  {
   "cell_type": "code",
   "execution_count": null,
   "id": "52a23397",
   "metadata": {},
   "outputs": [],
   "source": [
    "#Frequency table\n",
    "data[\"Promo2SinceYear\"].value_counts()"
   ]
  },
  {
   "cell_type": "code",
   "execution_count": null,
   "id": "961d2c9b",
   "metadata": {},
   "outputs": [],
   "source": [
    "data[\"Promo2SinceWeek\"].value_counts()"
   ]
  },
  {
   "cell_type": "code",
   "execution_count": null,
   "id": "6b04ce3e",
   "metadata": {},
   "outputs": [],
   "source": [
    "#Freq\n",
    "data[\"CompetitionOpenSinceYear\"].value_counts()"
   ]
  },
  {
   "cell_type": "code",
   "execution_count": null,
   "id": "8cc36e28",
   "metadata": {},
   "outputs": [],
   "source": [
    "#Frequency\n",
    "data[\"CompetitionOpenSinceMonth\"].value_counts()"
   ]
  },
  {
   "cell_type": "code",
   "execution_count": null,
   "id": "5aea85d0",
   "metadata": {},
   "outputs": [],
   "source": [
    "#Summary\n",
    "data[\"CompetitionDistance\"].describe()"
   ]
  },
  {
   "cell_type": "code",
   "execution_count": null,
   "id": "ba9fdea8",
   "metadata": {},
   "outputs": [],
   "source": [
    "data[\"CompetitionDistance\"].median()"
   ]
  },
  {
   "cell_type": "code",
   "execution_count": null,
   "id": "bc87cc35",
   "metadata": {},
   "outputs": [],
   "source": [
    "#Skewness & Kurtosis for Competition Distance\n",
    "print(skew(data[\"CompetitionDistance\"]))\n",
    "print(kurtosis(data[\"CompetitionDistance\"]))"
   ]
  },
  {
   "cell_type": "code",
   "execution_count": null,
   "id": "157f1259",
   "metadata": {},
   "outputs": [],
   "source": [
    "#Freq\n",
    "data[\"Assortment\"].value_counts()"
   ]
  },
  {
   "cell_type": "code",
   "execution_count": null,
   "id": "d36ac5db",
   "metadata": {},
   "outputs": [],
   "source": [
    "#Frequency\n",
    "data[\"StoreType\"].value_counts()"
   ]
  },
  {
   "cell_type": "code",
   "execution_count": null,
   "id": "f099407f",
   "metadata": {},
   "outputs": [],
   "source": [
    "#Frequency table\n",
    "data[\"SchoolHoliday\"].value_counts()"
   ]
  },
  {
   "cell_type": "code",
   "execution_count": null,
   "id": "a1bb59a4",
   "metadata": {},
   "outputs": [],
   "source": [
    "data[\"StateHoliday\"].value_counts()"
   ]
  },
  {
   "cell_type": "code",
   "execution_count": null,
   "id": "2efa0753",
   "metadata": {},
   "outputs": [],
   "source": [
    "data[\"Promo\"].value_counts()"
   ]
  },
  {
   "cell_type": "code",
   "execution_count": null,
   "id": "5366d697",
   "metadata": {},
   "outputs": [],
   "source": [
    "#Freq\n",
    "data[\"Open\"].value_counts()"
   ]
  },
  {
   "cell_type": "code",
   "execution_count": null,
   "id": "b7d855eb",
   "metadata": {},
   "outputs": [],
   "source": [
    "#Descriptive statistics\n",
    "data[\"Customers\"].describe()"
   ]
  },
  {
   "cell_type": "code",
   "execution_count": null,
   "id": "048277ed",
   "metadata": {},
   "outputs": [],
   "source": [
    "data[\"Customers\"].median()"
   ]
  },
  {
   "cell_type": "code",
   "execution_count": null,
   "id": "188e99ba",
   "metadata": {},
   "outputs": [],
   "source": [
    "#Kurtosis and Skewness for customers\n",
    "print(kurtosis(data[\"Customers\"]))\n",
    "print(skew(data[\"Customers\"]))"
   ]
  },
  {
   "cell_type": "code",
   "execution_count": null,
   "id": "df8530a0",
   "metadata": {},
   "outputs": [],
   "source": [
    "#Statistics\n",
    "data[\"Sales\"].describe()"
   ]
  },
  {
   "cell_type": "code",
   "execution_count": null,
   "id": "117b0c0d",
   "metadata": {},
   "outputs": [],
   "source": [
    "#Skewness and Kyrtosis\n",
    "skewness=skew(data[\"Sales\"])\n",
    "kyr=kurtosis(data[\"Sales\"])"
   ]
  },
  {
   "cell_type": "code",
   "execution_count": null,
   "id": "538e1244",
   "metadata": {},
   "outputs": [],
   "source": [
    "print(skewness)\n",
    "print(kyr)"
   ]
  },
  {
   "cell_type": "code",
   "execution_count": null,
   "id": "da255902",
   "metadata": {},
   "outputs": [],
   "source": [
    "data[\"DayOfWeek\"].value_counts() #frequency table"
   ]
  },
  {
   "cell_type": "markdown",
   "id": "cb867a31",
   "metadata": {},
   "source": [
    "# Univariate Analysis with Plots"
   ]
  },
  {
   "cell_type": "code",
   "execution_count": null,
   "id": "5dc1464d",
   "metadata": {},
   "outputs": [],
   "source": [
    "#libraries for plots\n",
    "import matplotlib as plt\n",
    "import seaborn as sns\n",
    "import matplotlib.pyplot as plt\n",
    "from matplotlib.patches import Patch"
   ]
  },
  {
   "cell_type": "code",
   "execution_count": null,
   "id": "073adc00",
   "metadata": {},
   "outputs": [],
   "source": [
    "#Barplot for Promo2SinceWeek\n",
    "plt.figure(figsize=(8, 6))\n",
    "sns.countplot(y=\"Promo2SinceWeek\", data=data, color=\"cyan\")\n",
    "plt.title(\"Barplot - Promo2SinceWeek\")\n",
    "plt.xlabel(\"Frequency\")\n",
    "plt.ylabel(\"Promo2SinceWeek\")\n",
    "plt.tight_layout()\n",
    "plt.show()"
   ]
  },
  {
   "cell_type": "code",
   "execution_count": null,
   "id": "11f403be",
   "metadata": {},
   "outputs": [],
   "source": [
    "#Barplot for Promo2SinceYear\n",
    "plt.figure(figsize=(8,6))\n",
    "sns.countplot(y=\"Promo2SinceYear\", data=data,color=\"cyan\")\n",
    "plt.title(\"Barplot - Promo2 Since Year\")\n",
    "plt.xlabel(\"Frequency\")\n",
    "plt.ylabel(\"Promo2SinceYear\")\n",
    "plt.tight_layout()\n",
    "plt.show()"
   ]
  },
  {
   "cell_type": "code",
   "execution_count": null,
   "id": "17677524",
   "metadata": {},
   "outputs": [],
   "source": [
    "#Barplot for PromoInterval\n",
    "sns.countplot(x=\"PromoInterval\", data=data,color=\"cyan\")\n",
    "plt.title(\"Barplot - PromoInterval\")\n",
    "plt.xlabel(\"PromoInterval\")\n",
    "plt.ylabel(\"Frequency\")\n",
    "plt.show()"
   ]
  },
  {
   "cell_type": "code",
   "execution_count": null,
   "id": "5699bb14",
   "metadata": {},
   "outputs": [],
   "source": [
    "#Pie chart for Promo Interval with percentages\n",
    "promo_counts=data['PromoInterval'].value_counts()\n",
    "plt.pie(promo_counts,labels=promo_counts.index,autopct='%1.1f%%')\n",
    "plt.title(\"Pie Chart-PromoInterval\")"
   ]
  },
  {
   "cell_type": "code",
   "execution_count": null,
   "id": "b379028d",
   "metadata": {},
   "outputs": [],
   "source": [
    "##Barplot for Promo2\n",
    "sns.countplot(x=\"Promo2\", data=data,color=\"cyan\")\n",
    "plt.title(\"Barplot - Promo2\")\n",
    "plt.xlabel(\"Promo2\")\n",
    "plt.ylabel(\"Frequency\")\n",
    "from matplotlib.patches import Patch\n",
    "custom_legend = [Patch(color=\"cyan\", label=\"0=not participating/1=participating\")]\n",
    "plt.legend(handles=custom_legend, title=\"\")\n",
    "plt.show()"
   ]
  },
  {
   "cell_type": "code",
   "execution_count": null,
   "id": "21a7c180",
   "metadata": {},
   "outputs": [],
   "source": [
    "## Horizontal Barplot for CompetitionOpenSinceYear\n",
    "plt.figure(figsize=(8, 6))\n",
    "sns.countplot(y=\"CompetitionOpenSinceYear\", data=data, color=\"cyan\")\n",
    "plt.title(\"Barplot - Competition Open Since Year\")\n",
    "plt.xlabel(\"Frequency\")\n",
    "plt.ylabel(\"CompetitionOpenSinceYear\")\n",
    "plt.tight_layout()\n",
    "plt.show()"
   ]
  },
  {
   "cell_type": "code",
   "execution_count": null,
   "id": "c478543e",
   "metadata": {},
   "outputs": [],
   "source": [
    "#Barplot for CompetitionOpenSinceMonth\n",
    "sns.countplot(x=\"CompetitionOpenSinceMonth\", data=data,color=\"cyan\")\n",
    "plt.title(\"Barplot - CompetitionOpenSinceMonth\")\n",
    "plt.xlabel(\"CompetitionOpenSinceMonth\")\n",
    "plt.ylabel(\"Frequency\")\n",
    "plt.show()"
   ]
  },
  {
   "cell_type": "code",
   "execution_count": null,
   "id": "c4197211",
   "metadata": {},
   "outputs": [],
   "source": [
    "#Boxplot for CompetitionDistance\n",
    "sns.boxplot(y=\"CompetitionDistance\", data=data, color=\"cyan\")\n",
    "plt.title(\"Boxplot -CompetitionDistance\")\n",
    "plt.ylabel(\"CompetitionDistance\")\n",
    "plt.show()"
   ]
  },
  {
   "cell_type": "code",
   "execution_count": null,
   "id": "0bfa2147",
   "metadata": {},
   "outputs": [],
   "source": [
    "#Histogram of CompetitionDistance\n",
    "sns.histplot(data=data, x=\"CompetitionDistance\",color=\"Cyan\")\n",
    "plt.title(\"Histogram of CompetitionDistance\")\n",
    "plt.xlabel(\"CompetitionDIstance\")\n",
    "plt.ylabel(\"Frequency\")\n",
    "plt.show()"
   ]
  },
  {
   "cell_type": "code",
   "execution_count": null,
   "id": "f31ccc5a",
   "metadata": {},
   "outputs": [],
   "source": [
    "#Barplot for variety of products\n",
    "sns.countplot(x=\"Assortment\", data=data,color=\"cyan\")\n",
    "plt.title(\"Barplot - Assortment\")\n",
    "plt.xlabel(\"Assortment\")\n",
    "plt.ylabel(\"Frequency\")\n",
    "from matplotlib.patches import Patch\n",
    "custom_legend = [Patch(color=\"cyan\", label=\"a=basic/b=extra/c=extended\")]\n",
    "plt.legend(handles=custom_legend, title=\"\")\n",
    "plt.show()"
   ]
  },
  {
   "cell_type": "code",
   "execution_count": null,
   "id": "f5c69a3d",
   "metadata": {},
   "outputs": [],
   "source": [
    "#Pie chart for variety of products with percentages\n",
    "a=data['Assortment'].value_counts()\n",
    "colors=['lightblue','lightgreen','lightcoral']\n",
    "plt.pie(a,labels=a.index,colors=colors,autopct='%1.1f%%')\n",
    "plt.title(\"Pie Chart - Assortment\")\n",
    "plt.legend([\"Basic\",\"Extended\",\"Extra\"],loc=\"best\")\n",
    "plt.show()"
   ]
  },
  {
   "cell_type": "code",
   "execution_count": null,
   "id": "687c6d7e",
   "metadata": {},
   "outputs": [],
   "source": [
    "#Barplot for StoreType\n",
    "sns.countplot(x=\"StoreType\", data=data,color=\"cyan\")\n",
    "plt.title(\"Barplot - Storetype\")\n",
    "plt.xlabel(\"StoreType\")\n",
    "plt.ylabel(\"Frequency\")\n",
    "from matplotlib.patches import Patch\n",
    "custom_legend = [Patch(color=\"cyan\", label=\"a=Beauty|b=Online |c=Health |d=Home\")]\n",
    "plt.legend(handles=custom_legend, title=\"\")\n",
    "plt.show()"
   ]
  },
  {
   "cell_type": "code",
   "execution_count": null,
   "id": "c07d77f5",
   "metadata": {},
   "outputs": [],
   "source": [
    "#Pie chart for storetype with percentages\n",
    "st=data['StoreType'].value_counts()\n",
    "colors=['lightblue','lightgreen','lightcoral',\"lightyellow\"]\n",
    "plt.pie(st,labels=st.index,colors=colors,autopct='%1.1f%%')\n",
    "plt.title(\"Pie Chart - StoreType\")\n",
    "plt.legend([\"Beauty\",\"Home\",\"Health\",\"Online\"],loc=\"best\")\n",
    "plt.show()"
   ]
  },
  {
   "cell_type": "code",
   "execution_count": null,
   "id": "a61633fd",
   "metadata": {},
   "outputs": [],
   "source": [
    "#Barplot with frequencies for SchoolHoliday\n",
    "sns.countplot(x=\"SchoolHoliday\", data=data,color=\"cyan\")\n",
    "plt.title(\"Barplot - SchoolHoliday\")\n",
    "plt.xlabel(\"SchoolHoliday\")\n",
    "plt.ylabel(\"Frequency\")\n",
    "from matplotlib.patches import Patch\n",
    "custom_legend = [Patch(color=\"cyan\", label=\"0=Not Affected / 1=Affected\")]\n",
    "plt.legend(handles=custom_legend, title=\"\")\n",
    "plt.show()"
   ]
  },
  {
   "cell_type": "code",
   "execution_count": null,
   "id": "e5aa556b",
   "metadata": {},
   "outputs": [],
   "source": [
    "#Barplot for StateHoliday\n",
    "sns.countplot(x=\"StateHoliday\", data=data,color=\"cyan\")\n",
    "plt.title(\"Barplot - StateHoliday\")\n",
    "plt.xlabel(\"StateHoliday\")\n",
    "plt.ylabel(\"Frequency\")\n",
    "from matplotlib.patches import Patch\n",
    "custom_legend = [Patch(color=\"cyan\", label=\"a=Public Holiday/ b=Easter/ c=Christmas/0=None\")]\n",
    "plt.legend(handles=custom_legend, title=\"\")\n",
    "plt.show()"
   ]
  },
  {
   "cell_type": "code",
   "execution_count": null,
   "id": "716f3609",
   "metadata": {},
   "outputs": [],
   "source": [
    "##Barplot for Promo\n",
    "sns.countplot(x=\"Promo\", data=data, color=\"cyan\")\n",
    "plt.title(\"Barplot - Promo\")\n",
    "plt.xlabel(\"Promo\")\n",
    "plt.ylabel(\"Frequency\")\n",
    "from matplotlib.patches import Patch\n",
    "custom_legend = [Patch(color=\"cyan\", label=\"0 = No Promo / 1 = Promo\")]\n",
    "plt.legend(handles=custom_legend, title=\"\")\n",
    "plt.show()"
   ]
  },
  {
   "cell_type": "code",
   "execution_count": null,
   "id": "0cee2db5",
   "metadata": {},
   "outputs": [],
   "source": [
    "#Barplot for open and closed stores\n",
    "sns.countplot(x=\"Open\", data=data, color=\"cyan\")\n",
    "plt.title(\"Barplot - Open\")\n",
    "plt.xlabel(\"Open\")\n",
    "plt.ylabel(\"Frequency\")\n",
    "from matplotlib.patches import Patch\n",
    "custom_legend = [Patch(color=\"cyan\", label=\"0 = Closed / 1 = Open\")]\n",
    "plt.legend(handles=custom_legend, title=\"\")\n",
    "plt.show()"
   ]
  },
  {
   "cell_type": "code",
   "execution_count": null,
   "id": "4aaf2092",
   "metadata": {},
   "outputs": [],
   "source": [
    "#Barplot for Dayofweek\n",
    "sns.countplot(x=\"DayOfWeek\", data=data, color=\"cyan\")\n",
    "plt.title(\"Barplot - DayOfWeek\")\n",
    "plt.xlabel(\"Day Of Week\")\n",
    "plt.ylabel(\"Frequency\")\n",
    "plt.show()"
   ]
  },
  {
   "cell_type": "code",
   "execution_count": null,
   "id": "a493b4e8",
   "metadata": {},
   "outputs": [],
   "source": [
    "#Histogram for sales\n",
    "#Some stores were temporarily closed for refurbishment!\n",
    "sns.histplot(data=data, x=\"Sales\",color=\"Cyan\")\n",
    "plt.title(\"Histogram of Sales\")\n",
    "plt.xlabel(\"Sales\")\n",
    "plt.ylabel(\"Frequency\")\n",
    "plt.show()"
   ]
  },
  {
   "cell_type": "code",
   "execution_count": null,
   "id": "658c2b72",
   "metadata": {},
   "outputs": [],
   "source": [
    "#Histogram of sales for open stores\n",
    "os = data[data['Open'] == 1]\n",
    "sns.histplot(data=os, x=\"Sales\", color=\"cyan\")\n",
    "plt.title(\"Histogram of Sales for Open Stores\")\n",
    "plt.xlabel(\"Sales\")\n",
    "plt.ylabel(\"Frequency\")\n",
    "plt.show()"
   ]
  },
  {
   "cell_type": "code",
   "execution_count": null,
   "id": "6d43bce1",
   "metadata": {},
   "outputs": [],
   "source": [
    "#Boxplot of sales\n",
    "sns.boxplot(y=\"Sales\", data=data, color=\"cyan\")\n",
    "plt.title(\"Boxplot of Sales\")\n",
    "plt.ylabel(\"Sales\")\n",
    "plt.show()"
   ]
  },
  {
   "cell_type": "code",
   "execution_count": null,
   "id": "63079603",
   "metadata": {},
   "outputs": [],
   "source": [
    "#Histogram of customers\n",
    "sns.histplot(data=data, x=\"Customers\",color=\"Cyan\")\n",
    "plt.title(\"Histogram of Customers\")\n",
    "plt.xlabel(\"Customers\")\n",
    "plt.ylabel(\"Frequency\")\n",
    "plt.show()"
   ]
  },
  {
   "cell_type": "code",
   "execution_count": null,
   "id": "36879da4",
   "metadata": {},
   "outputs": [],
   "source": [
    "#Boxplot of customers\n",
    "sns.boxplot(y=\"Customers\", data=data, color=\"cyan\")\n",
    "plt.title(\"Boxplot of Customers\")\n",
    "plt.ylabel(\"Customers\")\n",
    "plt.show()"
   ]
  },
  {
   "cell_type": "markdown",
   "id": "768d5767",
   "metadata": {},
   "source": [
    "# Correlation between variables"
   ]
  },
  {
   "cell_type": "code",
   "execution_count": null,
   "id": "1f785320",
   "metadata": {},
   "outputs": [],
   "source": [
    "#Libraries\n",
    "from scipy.stats import kstest\n",
    "import statsmodels.formula.api as smf\n",
    "import numpy as np"
   ]
  },
  {
   "cell_type": "code",
   "execution_count": null,
   "id": "2b6171ac",
   "metadata": {},
   "outputs": [],
   "source": [
    "#Sales~Customers\n",
    "print(data[\"Sales\"].corr(data[\"Customers\"], method='pearson'),\n",
    "data[\"Sales\"].corr(data[\"Customers\"], method='spearman'),\n",
    "data[\"Sales\"].corr(data[\"Customers\"], method='kendall'))"
   ]
  },
  {
   "cell_type": "code",
   "execution_count": null,
   "id": "079b1489",
   "metadata": {},
   "outputs": [],
   "source": [
    "#Plot between Sales~Customers\n",
    "plt.scatter(data[\"Sales\"], data[\"Customers\"])\n",
    "plt.title(\"Sales~Customers\")\n",
    "plt.xlabel(\"Sales\")\n",
    "plt.ylabel(\"Customers\")"
   ]
  },
  {
   "cell_type": "markdown",
   "id": "a4732b66",
   "metadata": {},
   "source": [
    "### Assumptions:\n",
    "### Normality of residuals\n",
    "### Homoscedasticity \n",
    "### Linearity\n",
    "### Outliers\n",
    "### Independence\n",
    "\n",
    "### If model assumptions are not met then we use Kendall & Spearman methods for correlation"
   ]
  },
  {
   "cell_type": "code",
   "execution_count": null,
   "id": "80ae1c56",
   "metadata": {},
   "outputs": [],
   "source": [
    "#library\n",
    "import statsmodels.formula.api as smf\n",
    "#model sales~customers\n",
    "model1=smf.ols(\"Sales~Customers\",data=data).fit()\n",
    "print(model1.summary())\n",
    "\n",
    "#Jarque-Bera normality test (n>2000) indicates that residuals are not normally distributed \n",
    "#We have many outliers in Sales & Customers \n",
    "#We dont reject H0: Uncorrelated Residuals in Durbin Watson test"
   ]
  },
  {
   "cell_type": "code",
   "execution_count": null,
   "id": "997abf9a",
   "metadata": {},
   "outputs": [],
   "source": [
    "#Normality test\n",
    "residuals=model1.resid\n",
    "statistic,p_value=kstest(residuals,'norm',args=(np.mean(residuals),np.std(residuals)))\n",
    "print(f\"Kolmogorov-Smirnov Statistic:{statistic}\")\n",
    "print(f\"P-value:{p_value}\")"
   ]
  },
  {
   "cell_type": "code",
   "execution_count": null,
   "id": "aa6f0b50",
   "metadata": {},
   "outputs": [],
   "source": [
    "#Sales~CompetitionDistance\n",
    "print(data[\"Sales\"].corr(data[\"CompetitionDistance\"], method='pearson'),\n",
    "data[\"Sales\"].corr(data[\"CompetitionDistance\"], method='spearman'),\n",
    "data[\"Sales\"].corr(data[\"CompetitionDistance\"], method='kendall'))"
   ]
  },
  {
   "cell_type": "code",
   "execution_count": null,
   "id": "b1dabbc7",
   "metadata": {},
   "outputs": [],
   "source": [
    "#Correlation Plot for Sales~CompetitionDistance\n",
    "plt.scatter(data[\"Sales\"], data[\"CompetitionDistance\"],color=\"cyan\")\n",
    "plt.title(\"Sales~CompetitionDistance\")\n",
    "plt.xlabel(\"Sales\")\n",
    "plt.ylabel(\"CompetitionDistance\")"
   ]
  },
  {
   "cell_type": "code",
   "execution_count": null,
   "id": "b3d7a490",
   "metadata": {},
   "outputs": [],
   "source": [
    "#model Sales~CompetitionDistance\n",
    "model2=smf.ols(\"Sales~CompetitionDistance\",data=data).fit()\n",
    "print(model2.summary())\n",
    "#Jarque-Bera normality test indicates that residulas are not normally distributed \n",
    "#We have many outliers in Sales & CompetitionDistance\n",
    "#We dont reject H0: Uncorrelated Residuals in Durbin Watson test\n",
    "#There is no correlation between the 2 variables"
   ]
  },
  {
   "cell_type": "code",
   "execution_count": null,
   "id": "b4db2a6e",
   "metadata": {},
   "outputs": [],
   "source": [
    "#Normality test with Kolmogorov Smirnov\n",
    "residuals=model2.resid\n",
    "statistic,p_value=kstest(residuals,'norm',args=(np.mean(residuals),np.std(residuals)))\n",
    "print(f\"Kolmogorov-Smirnov Statistic:{statistic}\")\n",
    "print(f\"P-value:{p_value}\")"
   ]
  },
  {
   "cell_type": "code",
   "execution_count": null,
   "id": "705ba2bc",
   "metadata": {},
   "outputs": [],
   "source": [
    "#Customers~CompetitionDistance\n",
    "print(data[\"Customers\"].corr(data[\"CompetitionDistance\"], method='pearson'),\n",
    "data[\"Customers\"].corr(data[\"CompetitionDistance\"], method='spearman'),\n",
    "data[\"Customers\"].corr(data[\"CompetitionDistance\"], method='kendall'))"
   ]
  },
  {
   "cell_type": "code",
   "execution_count": null,
   "id": "d95b4e20",
   "metadata": {},
   "outputs": [],
   "source": [
    "#Plot customers~competitionDistance\n",
    "plt.scatter(data[\"Customers\"], data[\"CompetitionDistance\"],color=\"cyan\")\n",
    "plt.title(\"Customers~CompetitionDistance\")\n",
    "plt.xlabel(\"Customers\")\n",
    "plt.ylabel(\"CompetitionDistance\")"
   ]
  },
  {
   "cell_type": "code",
   "execution_count": null,
   "id": "e9ce54ec",
   "metadata": {},
   "outputs": [],
   "source": [
    "#model Customers~CompetitionDistance\n",
    "model3=smf.ols(\"Customers~CompetitionDistance\",data=data).fit()\n",
    "print(model3.summary())\n",
    "#Jarque-Bera normality test indicates that residulas are not normally distributed \n",
    "#We have many outliers in Customers & CompetitionDistance\n",
    "#We dont reject H0: Uncorrelated Residuals in Durbin Watson test\n",
    "#There is no correlation between the 2 variables"
   ]
  },
  {
   "cell_type": "code",
   "execution_count": null,
   "id": "fe13ffcf",
   "metadata": {},
   "outputs": [],
   "source": [
    "#Normality test\n",
    "residuals=model3.resid\n",
    "statistic,p_value=kstest(residuals,'norm',args=(np.mean(residuals),np.std(residuals)))\n",
    "print(f\"Kolmogorov-Smirnov Statistic:{statistic}\")\n",
    "print(f\"P-value:{p_value}\")"
   ]
  },
  {
   "cell_type": "markdown",
   "id": "f491c570",
   "metadata": {},
   "source": [
    "### Dependency for categorical~categorical\n",
    "### X^2 test with H0: No relationship vs H1:There is relationship \n",
    "### a=5%"
   ]
  },
  {
   "cell_type": "code",
   "execution_count": null,
   "id": "9cdb8744",
   "metadata": {},
   "outputs": [],
   "source": [
    "#PROMO~SCHOOLHOLIDAY\n",
    "from scipy import stats\n",
    "table=pd.crosstab(data['Promo'],data['SchoolHoliday'])\n",
    "chi_stat, p_value, df, expected = stats.chi2_contingency(table)\n",
    "print(p_value,chi_stat,expected)\n",
    "\n",
    "#p-value<a so we reject H0\n",
    "#School Holidays have impact on whether a promo will take place or not"
   ]
  },
  {
   "cell_type": "code",
   "execution_count": null,
   "id": "af0bf2d5",
   "metadata": {},
   "outputs": [],
   "source": [
    "#PROMO~STATEHOLIDAY\n",
    "#data['Promo'] = data['Promo'].astype(str)\n",
    "data['StateHoliday'] = data['StateHoliday'].astype(str)\n",
    "table1 = pd.crosstab(data['Promo'], data['StateHoliday'])\n",
    "chi_stat,p_val,df,expected_val=stats.chi2_contingency(table1)\n",
    "print(p_val,chi_stat)\n",
    "\n",
    "#State Holidays have impact on whether a promo will take place or not"
   ]
  },
  {
   "cell_type": "markdown",
   "id": "69057467",
   "metadata": {},
   "source": [
    "### Non parametric Wilcoxon test for Sales~Promo & Promo2 \n",
    "### H0:There aren't differences between the mean values VS H1:Not H0\n"
   ]
  },
  {
   "cell_type": "code",
   "execution_count": null,
   "id": "30e75bd2",
   "metadata": {},
   "outputs": [],
   "source": [
    "from scipy.stats import mannwhitneyu\n",
    "#Check if there is statistical important differences in sales between stores that run either promo or promo 2 and stores that do not\n",
    "\n",
    "#promo\n",
    "promo_sales_yes=data[data['Promo']==1]['Sales']  \n",
    "promo_sales_no=data[data['Promo']==0]['Sales'] \n",
    "\n",
    "#promo2\n",
    "promo2_sales_yes=data[data['Promo2']==1]['Sales']  \n",
    "promo2_sales_no=data[data['Promo2']==0]['Sales'] \n",
    "\n",
    "#Wilcoxon Test\n",
    "w_stat_promo, p_value_promo = mannwhitneyu(promo_sales_yes, promo_sales_no)\n",
    "print(w_stat_promo,p_value_promo)\n",
    "w_stat_promo2,p_value_promo2 = mannwhitneyu(promo2_sales_yes, promo2_sales_no)\n",
    "print(w_stat_promo2,p_value_promo2)\n",
    "\n",
    "#Both promo and promo2 have impact on sales"
   ]
  },
  {
   "cell_type": "markdown",
   "id": "99d8063d",
   "metadata": {},
   "source": [
    "## Multivariate Analysis with Plots"
   ]
  },
  {
   "cell_type": "code",
   "execution_count": null,
   "id": "88adf30d",
   "metadata": {},
   "outputs": [],
   "source": [
    "import numpy as np\n",
    "#Date as DataTime \n",
    "if not np.issubdtype(data['Date'].dtype,np.datetime64):\n",
    "    data['Date']=pd.to_datetime(data['Date'],format='%Y-%m-%d')\n",
    "#Cut Date\n",
    "data['year']=data['Date'].dt.year\n",
    "data['month']=data['Date'].dt.month\n",
    "data['day']=data['Date'].dt.day"
   ]
  },
  {
   "cell_type": "code",
   "execution_count": null,
   "id": "95ba6c65",
   "metadata": {},
   "outputs": [],
   "source": [
    "#Sales ~ Date\n",
    "data['Date']=pd.to_datetime(data['Date'])\n",
    "data=data.sort_values(by='Date')\n",
    "\n",
    "# Plot\n",
    "plt.figure(figsize=(10,5))\n",
    "plt.plot(data['Date'],data['Sales'],color='blue')\n",
    "plt.title(\"Total Sales per Day\")\n",
    "plt.xlabel(\"Date\")\n",
    "plt.ylabel(\"Sales\")\n",
    "plt.show()"
   ]
  },
  {
   "cell_type": "code",
   "execution_count": null,
   "id": "1c6890be",
   "metadata": {},
   "outputs": [],
   "source": [
    "#Boxplot for Sales per Year\n",
    "sns.boxplot(x='year',y='Sales',data=data,color=\"cyan\")\n",
    "plt.title('Sales per Year')\n",
    "plt.xlabel('Year')\n",
    "plt.ylabel('Sales')\n",
    "plt.xticks(rotation=0)\n",
    "plt.tight_layout()\n",
    "plt.show()"
   ]
  },
  {
   "cell_type": "code",
   "execution_count": null,
   "id": "461b7409",
   "metadata": {},
   "outputs": [],
   "source": [
    "#Median Sales per year\n",
    "median_sales_per_year = data.groupby('year')['Sales'].median().reset_index()\n",
    "print(median_sales_per_year)"
   ]
  },
  {
   "cell_type": "code",
   "execution_count": null,
   "id": "b6df7449",
   "metadata": {},
   "outputs": [],
   "source": [
    "#Boxplot for Sales per month\n",
    "sns.boxplot(x='month',y='Sales',data=data,color=\"cyan\")\n",
    "plt.title('Sales per Month')\n",
    "plt.xlabel('Month')\n",
    "plt.ylabel('Sales')\n",
    "plt.xticks(rotation=0)\n",
    "plt.tight_layout()\n",
    "plt.show()"
   ]
  },
  {
   "cell_type": "code",
   "execution_count": null,
   "id": "33196e27",
   "metadata": {},
   "outputs": [],
   "source": [
    "#Information for Dates with most sales\n",
    "top_sales=data.sort_values(by='Sales',ascending=False).head(20) \n",
    "print(top_sales[['Date', 'Sales', 'Promo', 'StateHoliday','SchoolHoliday',\"Promo2\",\"StoreType\",\"Assortment\",\"DayOfWeek\",\"Store\"]])"
   ]
  },
  {
   "cell_type": "code",
   "execution_count": null,
   "id": "42554141",
   "metadata": {},
   "outputs": [],
   "source": [
    "#Tables with frequencies for big sales\n",
    "print(top_sales['Promo'].value_counts())\n",
    "print(top_sales['StateHoliday'].value_counts())\n",
    "print(top_sales['SchoolHoliday'].value_counts())\n",
    "print(top_sales['Promo2'].value_counts())\n",
    "print(top_sales['StoreType'].value_counts())\n",
    "print(top_sales['Assortment'].value_counts())\n",
    "print(top_sales['DayOfWeek'].value_counts())\n",
    "print(top_sales['Store'].value_counts())"
   ]
  },
  {
   "cell_type": "code",
   "execution_count": null,
   "id": "7d64fc1d",
   "metadata": {},
   "outputs": [],
   "source": [
    "#Boxplot for CompetitionStart Year\n",
    "plt.figure(figsize=(13,9))\n",
    "sns.boxplot(data=data, x='CompetitionOpenSinceYear', y='Sales',color=\"cyan\")\n",
    "plt.title('Sales by Competition Start Year', fontsize=16)\n",
    "plt.xlabel('Competition Start Year',fontsize=12)\n",
    "plt.ylabel('Sales',fontsize=12)\n",
    "plt.tight_layout()\n",
    "plt.show()"
   ]
  },
  {
   "cell_type": "code",
   "execution_count": null,
   "id": "8ffde8e9",
   "metadata": {},
   "outputs": [],
   "source": [
    "#Boxplot Sales~CompettitionStartMonth\n",
    "plt.figure(figsize=(15, 10))\n",
    "sns.boxplot(data=data, x='CompetitionOpenSinceMonth', y='Sales',color=\"cyan\")\n",
    "plt.title('Sales by Competition Start Month', fontsize=16)\n",
    "plt.xlabel('Competition Start Month',fontsize=12)\n",
    "plt.ylabel('Sales',fontsize=12)\n",
    "plt.tight_layout()\n",
    "plt.show()"
   ]
  },
  {
   "cell_type": "code",
   "execution_count": null,
   "id": "7d8f2b6a",
   "metadata": {},
   "outputs": [],
   "source": [
    "#Boxplot for sales~PromoInterval (Months that promo2 starts)\n",
    "sns.boxplot(data=data, x='PromoInterval', y='Sales',color=\"cyan\")\n",
    "plt.title(\"Sales based on PromotionInterval\")"
   ]
  },
  {
   "cell_type": "code",
   "execution_count": null,
   "id": "3aa0847e",
   "metadata": {},
   "outputs": [],
   "source": [
    "#Sales~Assortment\n",
    "sns.boxplot(data=data, x='Assortment', y='Sales',color=\"cyan\")\n",
    "plt.title(\"Sales by Assortment of Stores\")\n",
    "from matplotlib.patches import Patch\n",
    "custom_legend = [Patch(color=\"cyan\", label=\"a=basic/b=extra/c=extended\")]\n",
    "plt.legend(handles=custom_legend, title=\"\")"
   ]
  },
  {
   "cell_type": "code",
   "execution_count": null,
   "id": "7b025db3",
   "metadata": {},
   "outputs": [],
   "source": [
    "#Sales~StoreType\n",
    "sns.boxplot(data=data, x='StoreType', y='Sales',color=\"cyan\")\n",
    "plt.title(\"Sales by Type of The Store\")"
   ]
  },
  {
   "cell_type": "code",
   "execution_count": null,
   "id": "902fd3e9",
   "metadata": {},
   "outputs": [],
   "source": [
    "#Sales~SchoolHoliday\n",
    "sns.boxplot(data=data, x='SchoolHoliday', y='Sales',color=\"cyan\")\n",
    "plt.title(\"Sales in SchoolHoliday\")\n",
    "from matplotlib.patches import Patch\n",
    "custom_legend = [Patch(color=\"cyan\", label=\"0=No/1=Yes\")]\n",
    "plt.legend(handles=custom_legend, title=\"\")"
   ]
  },
  {
   "cell_type": "code",
   "execution_count": null,
   "id": "3b1c4d09",
   "metadata": {},
   "outputs": [],
   "source": [
    "#Sales~StateHoliday\n",
    "sns.boxplot(data=data, x='StateHoliday', y='Sales',color=\"cyan\")\n",
    "plt.title(\"Sales in StateHoliday\")\n",
    "from matplotlib.patches import Patch\n",
    "custom_legend = [Patch(color=\"cyan\", label=\"a=Public Holiday/ b=Easter/ c=Christmas/0=None\")]\n",
    "plt.legend(handles=custom_legend, title=\"\")"
   ]
  },
  {
   "cell_type": "code",
   "execution_count": null,
   "id": "ce882632",
   "metadata": {},
   "outputs": [],
   "source": [
    "#Daily Sales\n",
    "sns.boxplot(data=data, x='DayOfWeek', y='Sales',color=\"cyan\")\n",
    "plt.title(\"Sales per Day\")"
   ]
  },
  {
   "cell_type": "code",
   "execution_count": null,
   "id": "555a20b9",
   "metadata": {},
   "outputs": [],
   "source": [
    "#Sales based on Promo and Promo2\n",
    "fig,ax=plt.subplots(1, 2,figsize=(14, 6))\n",
    "sns.boxplot(data=data,x='Promo',y='Sales',color=\"blue\",ax=ax[0])\n",
    "ax[0].set_title(\"Sales With and Without Promo\")\n",
    "custom_legend_1=[Patch(color=\"blue\",label=\"0=No Promo/1=Promo\")]\n",
    "ax[0].legend(handles=custom_legend_1, title=\"\")\n",
    "\n",
    "sns.boxplot(data=data,x='Promo2',y='Sales',color=\"grey\",ax=ax[1])\n",
    "ax[1].set_title(\"Sales With and Without Promo2\")\n",
    "custom_legend_2=[Patch(color=\"grey\",label=\"0=No Continuous Promo /1 = Continuous Promo\")]\n",
    "ax[1].legend(handles=custom_legend_2, title=\"\")\n",
    "\n",
    "plt.suptitle(\"Sales Based on Promo and Promo2\", fontsize=16)\n",
    "\n",
    "plt.tight_layout()\n",
    "plt.subplots_adjust(top=0.85) \n",
    "plt.show()"
   ]
  },
  {
   "cell_type": "code",
   "execution_count": null,
   "id": "08bc71d8",
   "metadata": {},
   "outputs": [],
   "source": [
    "#Customers ~ Date\n",
    "data['Date']=pd.to_datetime(data['Date'])\n",
    "data=data.sort_values(by='Date')\n",
    "\n",
    "# Plot\n",
    "plt.figure(figsize=(10,5))\n",
    "plt.plot(data['Date'],data['Customers'],color='blue')\n",
    "plt.title(\"Customers per Day\")\n",
    "plt.xlabel(\"Date\")\n",
    "plt.ylabel(\"Customers\")\n",
    "plt.show()"
   ]
  },
  {
   "cell_type": "code",
   "execution_count": null,
   "id": "3cec725f",
   "metadata": {},
   "outputs": [],
   "source": [
    "#Boxplot for customers~year\n",
    "sns.boxplot(x='year',y='Customers',data=data,color=\"cyan\")\n",
    "plt.title('Customers per Year')\n",
    "plt.xlabel('Year')\n",
    "plt.ylabel('Customers')\n",
    "plt.tight_layout()\n",
    "plt.show()"
   ]
  },
  {
   "cell_type": "code",
   "execution_count": null,
   "id": "0fc1d785",
   "metadata": {},
   "outputs": [],
   "source": [
    "#Customers per month\n",
    "sns.boxplot(x='month',y='Customers',data=data,color=\"cyan\")\n",
    "plt.title('Customers per Month')\n",
    "plt.xlabel('Month')\n",
    "plt.ylabel('Customers')\n",
    "plt.tight_layout()"
   ]
  },
  {
   "cell_type": "code",
   "execution_count": null,
   "id": "a2421b6e",
   "metadata": {},
   "outputs": [],
   "source": [
    "# Dates with most customers\n",
    "top_customers=data.sort_values(by='Customers',ascending=False).head(5) \n",
    "print(top_customers[['Date', 'Customers', 'Promo', 'StateHoliday', 'SchoolHoliday',\"Promo2\",\"StoreType\",\"Assortment\",\"DayOfWeek\",\"Store\"]])"
   ]
  },
  {
   "cell_type": "code",
   "execution_count": null,
   "id": "175c9235",
   "metadata": {},
   "outputs": [],
   "source": [
    "#Tables with frequencies for many customers\n",
    "print(top_customers['Promo'].value_counts())\n",
    "print(top_customers['StateHoliday'].value_counts())\n",
    "print(top_customers['SchoolHoliday'].value_counts())\n",
    "print(top_customers['Promo2'].value_counts())\n",
    "print(top_customers['StoreType'].value_counts())\n",
    "print(top_customers['Assortment'].value_counts())"
   ]
  },
  {
   "cell_type": "code",
   "execution_count": null,
   "id": "86bbba1b",
   "metadata": {},
   "outputs": [],
   "source": [
    "#Customers per day\n",
    "sns.boxplot(data=data, x='DayOfWeek', y='Customers',color=\"cyan\")\n",
    "plt.title(\"Customers per Day\")"
   ]
  },
  {
   "cell_type": "markdown",
   "id": "72e0f818",
   "metadata": {},
   "source": [
    "## Multivariate Analysis with Plots for 3 Variables"
   ]
  },
  {
   "cell_type": "code",
   "execution_count": null,
   "id": "3b3716b0",
   "metadata": {},
   "outputs": [],
   "source": [
    "#Boxplot for sales per storetype and assortment\n",
    "plt.figure(figsize=(15, 10))\n",
    "sns.boxplot(x='StoreType', y='Sales', hue='Assortment', data=data, \n",
    "            palette={'a': 'blue', 'b': 'green', 'c': 'red'})\n",
    "plt.title('Sales by StoreType and Assortment')\n",
    "plt.xlabel('StoreType')\n",
    "plt.ylabel('Sales')\n",
    "handles, _ = plt.gca().get_legend_handles_labels()\n",
    "plt.legend(handles=handles, \n",
    "           labels=['Basic (a)',  'Extended (c)','Extra (b)'], \n",
    "           title='Assortment')\n",
    "plt.show()"
   ]
  },
  {
   "cell_type": "code",
   "execution_count": null,
   "id": "2de0e5a7",
   "metadata": {},
   "outputs": [],
   "source": [
    "#Boxplot for sales per storetype and Promo\n",
    "plt.figure(figsize=(10,6))\n",
    "sns.boxplot(x='StoreType', y='Sales',hue='Promo',data=data)\n",
    "plt.title('Sales by StoreType and Promo')\n",
    "plt.xlabel('StoreType')\n",
    "plt.ylabel('Sales')\n",
    "plt.legend(title='Promo-> 0=NO & 1=YES')"
   ]
  },
  {
   "cell_type": "code",
   "execution_count": null,
   "id": "51f2613e",
   "metadata": {},
   "outputs": [],
   "source": [
    "#Boxplot for sales per storetype and promo2\n",
    "plt.figure(figsize=(10,6))\n",
    "sns.boxplot(x='StoreType', y='Sales',hue='Promo2',data=data)\n",
    "plt.title('Sales by StoreType and Promo2')\n",
    "plt.xlabel('StoreType')\n",
    "plt.ylabel('Sales')\n",
    "plt.legend(title='Promo2-> 0=NO & 1=YES')"
   ]
  },
  {
   "cell_type": "code",
   "execution_count": null,
   "id": "338d3d5d",
   "metadata": {},
   "outputs": [],
   "source": [
    "##Boxplot for sales by assortment and stateholiday\n",
    "plt.figure(figsize=(10,6))\n",
    "sns.barplot(x='Assortment', y='Sales',hue='StateHoliday',data=data)\n",
    "plt.title('Sales by Assortment & StateHoliday')\n",
    "plt.xlabel('Assortment')\n",
    "plt.ylabel('Sales')\n",
    "plt.legend(title='StateHoliday')"
   ]
  },
  {
   "cell_type": "code",
   "execution_count": null,
   "id": "338e6e0a",
   "metadata": {},
   "outputs": [],
   "source": [
    "#Sales~Assortment & SchoolHoliday\n",
    "plt.figure(figsize=(10,6))\n",
    "sns.barplot(x='Assortment', y='Sales',hue='SchoolHoliday',data=data)\n",
    "plt.title('Sales by Assortment & SchoolHoliday')\n",
    "plt.xlabel('Assortment')\n",
    "plt.ylabel('Sales')\n",
    "plt.legend(title='SchoolHoliday-> 0=No & 1=YES')"
   ]
  },
  {
   "cell_type": "code",
   "execution_count": null,
   "id": "7443a25c",
   "metadata": {},
   "outputs": [],
   "source": [
    "#Sales~Storetype and stateholiday\n",
    "plt.figure(figsize=(15,10))\n",
    "sns.barplot(x='StoreType', y='Sales',hue='StateHoliday',data=data)\n",
    "plt.title('Sales by StoreType and StateHoliday')\n",
    "plt.xlabel('StoreType')\n",
    "plt.ylabel('Sales')\n",
    "plt.legend(title='StateHoliday->0=None/a=Public Holiday/b=Easter/ c=Christmas')"
   ]
  },
  {
   "cell_type": "code",
   "execution_count": null,
   "id": "d65671de",
   "metadata": {},
   "outputs": [],
   "source": [
    "#Sales~Storetype and schoolholiday\n",
    "plt.figure(figsize=(15,10))\n",
    "sns.boxplot(x='StoreType', y='Sales',hue='SchoolHoliday',data=data)\n",
    "plt.title('Sales by StoreType and SchoolHoliday')\n",
    "plt.xlabel('StoreType')\n",
    "plt.ylabel('Sales')\n",
    "plt.legend(title='SchoolHoliday')"
   ]
  },
  {
   "cell_type": "code",
   "execution_count": null,
   "id": "5f3841d0",
   "metadata": {},
   "outputs": [],
   "source": [
    "#Customers~Storetype and assortment\n",
    "plt.figure(figsize=(15,10))\n",
    "sns.boxplot(x='StoreType', y='Customers',hue='Assortment',data=data)\n",
    "plt.title('Customers by StoreType and Assortment')\n",
    "plt.xlabel('StoreType')\n",
    "plt.ylabel('Customers')\n",
    "plt.legend(title='Assortment')"
   ]
  },
  {
   "cell_type": "code",
   "execution_count": null,
   "id": "ada5eb73",
   "metadata": {},
   "outputs": [],
   "source": [
    "#Customers~Storetype and promo\n",
    "plt.figure(figsize=(15,10))\n",
    "sns.boxplot(x='StoreType', y='Customers',hue='Promo',data=data)\n",
    "plt.title('Customers by StoreType and Promo')\n",
    "plt.xlabel('StoreType')\n",
    "plt.ylabel('Customers')\n",
    "plt.legend(title='Promo-> 0=NO & 1=YES')"
   ]
  },
  {
   "cell_type": "code",
   "execution_count": null,
   "id": "bf42b9fa",
   "metadata": {},
   "outputs": [],
   "source": [
    "#Customers~Storetype and promo2\n",
    "plt.figure(figsize=(15,10))\n",
    "sns.boxplot(x='StoreType', y='Customers',hue='Promo2',data=data)\n",
    "plt.title('Customers by StoreType and Promo2')\n",
    "plt.xlabel('StoreType')\n",
    "plt.ylabel('Customers')\n",
    "plt.legend(title='Promo2-> 0=NO & 1=YES')"
   ]
  },
  {
   "cell_type": "code",
   "execution_count": null,
   "id": "b092a60c",
   "metadata": {},
   "outputs": [],
   "source": [
    "#Customers~Storetype and schoolholiday\n",
    "plt.figure(figsize=(15,10))\n",
    "sns.boxplot(x='StoreType', y='Customers',hue='SchoolHoliday',data=data)\n",
    "plt.title('Customers by StoreType and SchoolHoliday')\n",
    "plt.xlabel('StoreType')\n",
    "plt.ylabel('Customers')\n",
    "plt.legend(title='SchoolHoliday-> 0=NO & 1=YES')"
   ]
  },
  {
   "cell_type": "code",
   "execution_count": null,
   "id": "cd1fbd59",
   "metadata": {},
   "outputs": [],
   "source": [
    "##Customers~Storetype and stateholiday\n",
    "plt.figure(figsize=(15,10))\n",
    "sns.barplot(x='StoreType', y='Customers',hue='StateHoliday',data=data)\n",
    "plt.title('Customers by StoreType and StateHoliday')\n",
    "plt.xlabel('StoreType')\n",
    "plt.ylabel('Customers')\n",
    "plt.legend(title=\"StateHoliday-> a=Public Holiday/ b=Easter/ c=Christmas/0=None\")"
   ]
  },
  {
   "cell_type": "markdown",
   "id": "01f4b914",
   "metadata": {},
   "source": [
    "## Feature Engineering \n",
    "### PromotionFlags (Promo & Promo2) - HolidayIndicators (SchoolHoliday & StateHoliday) "
   ]
  },
  {
   "cell_type": "code",
   "execution_count": null,
   "id": "143530e0",
   "metadata": {},
   "outputs": [],
   "source": [
    "#PromotionFlags as a binary feature\n",
    "data['PromotionFlags']=((data['Promo']==1)|(data['Promo2']==1)).astype(int)\n",
    "data[\"PromotionFlags\"].value_counts() #check"
   ]
  },
  {
   "cell_type": "code",
   "execution_count": null,
   "id": "33426edd",
   "metadata": {},
   "outputs": [],
   "source": [
    "# StateHoliday as a binary variable\n",
    "data['StateHolidayIndicators']=data['StateHoliday'].apply(lambda x: 1 if str(x).strip() in ['a','b','c'] else 0).astype(int)\n",
    "data['HolidayIndicators']=((data['StateHolidayIndicators']==1)|(data['SchoolHoliday']==1)).astype(int)\n",
    "data[\"HolidayIndicators\"].value_counts() #Check"
   ]
  },
  {
   "cell_type": "code",
   "execution_count": null,
   "id": "1a21ca00",
   "metadata": {},
   "outputs": [],
   "source": [
    "#Boxplot for sales~PromotionFlags\n",
    "sns.boxplot(x=data[\"PromotionFlags\"],y=\"Sales\",data=data)\n",
    "plt.title('Sales with Promotion or not')\n",
    "plt.legend(title=\"0=No promo / 1= Promo\")"
   ]
  },
  {
   "cell_type": "code",
   "execution_count": null,
   "id": "33f480da",
   "metadata": {},
   "outputs": [],
   "source": [
    "#Sales For sales ~HolidayIndicators\n",
    "sns.boxplot(y=\"Sales\",x=\"HolidayIndicators\",data=data)\n",
    "plt.title('Sales in Holidays or not')\n",
    "plt.legend(title=\"0=No Holidays/ 1= Holidays\")"
   ]
  },
  {
   "cell_type": "code",
   "execution_count": null,
   "id": "bb4fb75b",
   "metadata": {},
   "outputs": [],
   "source": [
    "#Promo during Holiday\n",
    "holiday_with_promo=data[(data['HolidayIndicators']==1)&(data['PromotionFlags']==1)].shape[0]\n",
    "total_holidays=data[data['HolidayIndicators']==1].shape[0]\n",
    "percentage_promo_during_holiday=((holiday_with_promo/total_holidays)*100) \n",
    "\n",
    "#Promo without holiday\n",
    "non_holiday_with_promo=data[(data['HolidayIndicators']==0) &(data['PromotionFlags']==1)].shape[0]\n",
    "total_non_holidays=data[data['HolidayIndicators']==0].shape[0]\n",
    "percentage_promo_during_non_holiday=((non_holiday_with_promo/total_non_holidays) * 100) \n",
    "\n",
    "#results\n",
    "print(f\"Promo during Holiday:{percentage_promo_during_holiday:.2f}%\")\n",
    "print(f\"Promo without Holiday:{percentage_promo_during_non_holiday:.2f}%\")"
   ]
  },
  {
   "cell_type": "markdown",
   "id": "adb27228",
   "metadata": {},
   "source": [
    "# Time Series & Machine Learning Models\n",
    "\n",
    "## Time Series -> ARIMA & Prophet"
   ]
  },
  {
   "cell_type": "code",
   "execution_count": null,
   "id": "d2423547",
   "metadata": {},
   "outputs": [],
   "source": [
    "#Time Series \n",
    "#Libraries\n",
    "import numpy as np\n",
    "import pandas as pd\n",
    "import matplotlib.pyplot as plt\n",
    "from statsmodels.tsa.stattools import adfuller\n",
    "from statsmodels.graphics.tsaplots import plot_acf, plot_pacf\n",
    "from statsmodels.tsa.arima.model import ARIMA\n",
    "from statsmodels.graphics.tsaplots import month_plot,quarter_plot\n",
    "from statsmodels.tsa.seasonal import seasonal_decompose\n",
    "from sklearn.metrics import root_mean_squared_error,mean_absolute_error,mean_absolute_percentage_error\n",
    "from prophet import Prophet\n",
    "from pmdarima import auto_arima ,ARIMA, model_selection\n",
    "from prophet.diagnostics import performance_metrics\n",
    "from prophet.diagnostics import cross_validation\n",
    "from sklearn.metrics import r2_score\n",
    "from sklearn.metrics import r2_score, mean_squared_error, mean_absolute_percentage_error\n",
    "import warnings\n",
    "warnings.filterwarnings(\"ignore\")"
   ]
  },
  {
   "cell_type": "code",
   "execution_count": null,
   "id": "8d6e94ed",
   "metadata": {},
   "outputs": [],
   "source": [
    "#split the dataset in test & train\n",
    "split_date = '2015-07-01'\n",
    "train_data=data[data['Date']<split_date].copy()\n",
    "test_data =data[data['Date']>=split_date].copy()"
   ]
  },
  {
   "cell_type": "code",
   "execution_count": null,
   "id": "d0d2f9cc",
   "metadata": {},
   "outputs": [],
   "source": [
    "#check\n",
    "print(train_data[\"Date\"])\n",
    "print(test_data[\"Date\"])\n",
    "train_data['Sales']=train_data['Sales'].astype(float)"
   ]
  },
  {
   "cell_type": "code",
   "execution_count": null,
   "id": "84dba333",
   "metadata": {},
   "outputs": [],
   "source": [
    "#Rename Sales as y\n",
    "data[\"Sales\"]=data[\"Sales\"].astype(float)\n",
    "data=data.rename(columns={\"Sales\":\"y\"})\n",
    "\n",
    "train_data[\"Sales\"]=train_data[\"Sales\"].astype(float)\n",
    "train_data=train_data.rename(columns={\"Sales\":\"y\"})\n",
    "\n",
    "test_data[\"Sales\"]=test_data[\"Sales\"].astype(float)\n",
    "test_data=test_data.rename(columns={\"Sales\":\"y\"})"
   ]
  },
  {
   "cell_type": "markdown",
   "id": "19d67a84",
   "metadata": {},
   "source": [
    "### Augmented Dickey Fuller Test for time series stationarity\n",
    "### H0:Non Stationary Time series VS H1:Stationarity\n",
    "### Non Stationary Time series -> Differencing Method"
   ]
  },
  {
   "cell_type": "code",
   "execution_count": null,
   "id": "c61bd092",
   "metadata": {},
   "outputs": [],
   "source": [
    "#significance level\n",
    "alpha = 0.05\n",
    "\n",
    "#Data for every store\n",
    "stores=data['Store'].drop_duplicates()\n",
    "df_subsets={store:data[data['Store']==store] for store in stores}\n",
    "\n",
    "#Dickey Fuller test ->H0:Non Stationary H1:Stationary \n",
    "for store, store_data in df_subsets.items():\n",
    "    sales=store_data['y'] \n",
    "    result=adfuller(sales)\n",
    "    p_value=result[1]\n",
    "    \n",
    "    # check\n",
    "    if p_value > alpha:\n",
    "        print(f\"Store{store}: Non Stationary (p-value = {p_value}) Needs Differencing\")\n",
    "        sales_diff=sales.diff().dropna()  #Differencing method\n",
    "        print(f\"Differencing data for {store}:\")\n",
    "        print(sales_diff.head())\n",
    "    else:\n",
    "        print(f\"Store {store}: Stationary (p-value = {p_value})\")"
   ]
  },
  {
   "cell_type": "code",
   "execution_count": null,
   "id": "cfafc67d",
   "metadata": {},
   "outputs": [],
   "source": [
    "#ACF plot for Total sales in order to check the trend for seasonality\n",
    "grouped_sales = data.groupby('Date')['y'].sum()\n",
    "grouped_sales.index = pd.to_datetime(grouped_sales.index)\n",
    "grouped_sales.sort_index(inplace=True)\n",
    "\n",
    "#ACF plot for seasonality check\n",
    "plot_acf(grouped_sales,lags=30)\n",
    "plt.title('Autocorrelation of Total Sales')\n",
    "plt.show()"
   ]
  },
  {
   "cell_type": "code",
   "execution_count": null,
   "id": "7a7c7d5f",
   "metadata": {},
   "outputs": [],
   "source": [
    "#Seasonal decompose for store ID\n",
    "my_series=data[data[\"Store\"]==12]\n",
    "result = seasonal_decompose(my_series['y'],period=7)\n",
    "result.plot()"
   ]
  },
  {
   "cell_type": "code",
   "execution_count": null,
   "id": "1c75e7d2",
   "metadata": {},
   "outputs": [],
   "source": [
    "#seasonality for a specific store\n",
    "store_id = 7\n",
    "store_data = train_data[train_data[\"Store\"] == store_id].copy()\n",
    "store_data[\"Date\"] = pd.to_datetime(store_data[\"Date\"])\n",
    "store_data.set_index(\"Date\", inplace=True)\n",
    "store_data.sort_index(inplace=True)\n",
    "plot_acf(store_data['y'], lags=30)\n",
    "plt.title(f'Autocorrelation for Store {store_id}')\n",
    "plt.show()"
   ]
  },
  {
   "cell_type": "markdown",
   "id": "180a7ada",
   "metadata": {},
   "source": [
    "## ARIMA models for sales forecasting in StoreTypes A,B,C & D"
   ]
  },
  {
   "cell_type": "code",
   "execution_count": null,
   "id": "3196be98",
   "metadata": {},
   "outputs": [],
   "source": [
    "#future periods\n",
    "n_periods=len(test)"
   ]
  },
  {
   "cell_type": "code",
   "execution_count": null,
   "id": "995414c8",
   "metadata": {},
   "outputs": [],
   "source": [
    "#ARIMA model for Store Types\n",
    "#StoreType -> A\n",
    "store_type='a'\n",
    "\n",
    "#split data in test & train for storetype A\n",
    "train=train_data[train_data['StoreType']==store_type].groupby('Date')['y'].sum()  #Total sales for storetype A \n",
    "test=test_data[test_data['StoreType']==store_type].groupby('Date')['y'].sum()  #Total sales for store type =A\n",
    "train.index = pd.to_datetime(train.index)\n",
    "train.sort_index(inplace=True)\n",
    "test.index = pd.to_datetime(test.index)\n",
    "test.sort_index(inplace=True)\n",
    "\n",
    "#mean sales\n",
    "test_store=test_data[test_data['StoreType'] == store_type]\n",
    "mean_sales=test_store['y'].mean()\n",
    "\n",
    "#ARIMA model\n",
    "model_a=auto_arima(train,seasonal=True,m=7, trace=True,error_action='ignore',suppress_warnings=True,stepwise=True)\n",
    "model_a.fit(train)\n",
    "print(model_a.summary())\n",
    "\n",
    "#Predicitions \n",
    "n_periods=len(test)\n",
    "forecast_a=model_a.predict(n_periods=n_periods)\n",
    "print(forecast_a)\n",
    "\n",
    "#Future Predictions (August & mid-September)\n",
    "future_dates = pd.date_range(start='2015-08-01', end='2015-09-17')\n",
    "forecast_future = model_a.predict(n_periods=len(future_dates))\n",
    "\n",
    "#Model fit with statistics\n",
    "#Small AIC & BIC\n",
    "#Ljung Box Test for Autocorrelation of the resiudals -> P-value<a there is no autocorrelation\n",
    "#Heteroskedasticity test in the output -> P-value<0.05 problem with heteroskedasticity \n",
    "#Jarque Bera for Normality check\n",
    "#RMSE,MAPE,MAE\n",
    "y_real=test.values\n",
    "y_pred=forecast_a\n",
    "rmse=np.sqrt(mean_squared_error(y_real,y_pred))\n",
    "mape=mean_absolute_percentage_error(y_real,y_pred)\n",
    "mae=mean_absolute_error(y_real,y_pred)\n",
    "print(f\"RMSE: {rmse:.2f}\")\n",
    "print(f\" MAPE: {mape:.2f}\")\n",
    "print(f\" MAE: {mae:.2f}\")\n",
    "resid=pd.Series(model_a.resid()) #model residuals\n",
    "plot_acf(resid)\n",
    "plot_pacf(resid)\n",
    "plt.show()\n",
    "\n",
    "# Plot for predictions vs real sales\n",
    "plt.figure(figsize=(14,7))\n",
    "plt.plot(test.index, y_real, label='Real Sales (July)', color='blue')\n",
    "plt.plot(test.index, y_pred, label='Predicted Sales (July)', color='red')\n",
    "\n",
    "#Predicitions for August & september\n",
    "plt.plot(future_dates, forecast_future, label='Forecast (Aug - Sep)', color='green', linestyle='--')\n",
    "plt.title(f'ARIMA predicitions vs Actual for StoreType {store_type}')\n",
    "plt.xlabel('Date')\n",
    "plt.ylabel('Sales')\n",
    "plt.suptitle(f\"RMSE:{rmse:.1f}|Mean Sales:{mean_sales:.1f}|MAE:{mae:.1f}| MAPE:{mape:.1f}\",fontsize=10)\n",
    "plt.legend()\n",
    "plt.tight_layout()\n",
    "plt.show()"
   ]
  },
  {
   "cell_type": "code",
   "execution_count": null,
   "id": "98e81176",
   "metadata": {},
   "outputs": [],
   "source": [
    "#mean sales for storetypes\n",
    "s=\"a\"\n",
    "test_store=test_data[test_data['StoreType'] == s]\n",
    "mean_sales=test_store['y'].mean()\n",
    "print(mean_sales)"
   ]
  },
  {
   "cell_type": "code",
   "execution_count": null,
   "id": "f77d261b",
   "metadata": {},
   "outputs": [],
   "source": [
    "#ARIMA model for Store Types\n",
    "#StoreType -> B\n",
    "store_type='b'\n",
    "\n",
    "#split data in test & train for storetype B\n",
    "train=train_data[train_data['StoreType']==store_type].groupby('Date')['y'].sum() #total sales\n",
    "test=test_data[test_data['StoreType']==store_type].groupby('Date')['y'].sum()  #total sales\n",
    "train.index = pd.to_datetime(train.index)\n",
    "train.sort_index(inplace=True)\n",
    "test.index = pd.to_datetime(test.index)\n",
    "test.sort_index(inplace=True)\n",
    "\n",
    "#ARIMA model\n",
    "model_b=auto_arima(train,seasonal=True,m=7, trace=True,error_action='ignore',suppress_warnings=True,stepwise=True)\n",
    "model_b.fit(train)\n",
    "print(model_b.summary())\n",
    "\n",
    "#Predicitions for next month\n",
    "forecast_b=model_b.predict(n_periods=n_periods)\n",
    "print(forecast_b)\n",
    "\n",
    "#Future Predictions (August & mid-September)\n",
    "future_dates = pd.date_range(start='2015-08-01', end='2015-09-17')\n",
    "forecast_future = model_b.predict(n_periods=len(future_dates))\n",
    "\n",
    "#mean sales\n",
    "test_store=test_data[test_data['StoreType'] == store_type]\n",
    "mean_sales=test_store['y'].mean()\n",
    "\n",
    "#Model fit with statistics\n",
    "#Small AIC & BIC\n",
    "#Ljung Box Test for Autocorrelation of the resiudals -> P-value<a there is no autocorrelation\n",
    "#Heteroskedasticity test in the output -> P-value<0.05 problem with heteroskedasticity \n",
    "#Jarque Bera for Normality check\n",
    "#RMSE,MAPE,MAE\n",
    "y_real=test.values\n",
    "y_pred=forecast_b\n",
    "rmse=np.sqrt(mean_squared_error(y_real,y_pred))\n",
    "mape=mean_absolute_percentage_error(y_real,y_pred)\n",
    "mae=mean_absolute_error(y_real,y_pred)\n",
    "print(f\"RMSE: {rmse:.2f}\")\n",
    "print(f\" MAPE: {mape:.2f}\")\n",
    "print(f\" MAE: {mae:.2f}\")\n",
    "resid=pd.Series(model_b.resid()) #residuals\n",
    "plot_acf(resid)\n",
    "plot_pacf(resid)\n",
    "plt.show()\n",
    "\n",
    "# Plot for predictions vs real sales\n",
    "plt.figure(figsize=(12,6))\n",
    "plt.plot(test.index,y_real,label='Real Sales',color='blue')\n",
    "plt.plot(test.index,y_pred,label='Predictions',color='red')\n",
    "plt.plot(future_dates, forecast_future, label='Forecast (Aug - Sep)', color='green', linestyle='--')\n",
    "plt.title(f'ARIMA predicitions vs Actual for StoreType {store_type}')\n",
    "plt.xlabel('Date')\n",
    "plt.ylabel('Sales')\n",
    "plt.suptitle(f\"RMSE:{rmse:.1f}|Mean Sales:{mean_sales:.1f}|MAE:{mae:.1f}| MAPE:{mape:.1f}\",fontsize=10)\n",
    "plt.legend()\n",
    "plt.tight_layout()\n",
    "plt.show()"
   ]
  },
  {
   "cell_type": "code",
   "execution_count": null,
   "id": "d8e611e8",
   "metadata": {},
   "outputs": [],
   "source": [
    "#ARIMA model for Store Types\n",
    "#StoreType -> C\n",
    "store_type='c'\n",
    "\n",
    "#split data in test & train for storetype C\n",
    "train=train_data[train_data['StoreType']==store_type].groupby('Date')['y'].sum()\n",
    "test=test_data[test_data['StoreType']==store_type].groupby('Date')['y'].sum()\n",
    "train.index = pd.to_datetime(train.index)\n",
    "train.sort_index(inplace=True)\n",
    "test.index = pd.to_datetime(test.index)\n",
    "test.sort_index(inplace=True)\n",
    "\n",
    "#ARIMA model\n",
    "model_c=auto_arima(train,seasonal=True,m=7, trace=True,error_action='ignore',suppress_warnings=True,stepwise=True)\n",
    "model_c.fit(train)\n",
    "print(model_c.summary())\n",
    "\n",
    "#Predicitions for next month\n",
    "forecast_c=model_c.predict(n_periods=n_periods)\n",
    "print(forecast_c)\n",
    "\n",
    "#Future Predictions (August & mid-September)\n",
    "future_dates = pd.date_range(start='2015-08-01', end='2015-09-17')\n",
    "forecast_future = model_c.predict(n_periods=len(future_dates))\n",
    "\n",
    "#Model fit with statistics\n",
    "#Small AIC & BIC\n",
    "#Ljung Box Test for Autocorrelation of the resiudals -> P-value<a there is no autocorrelation\n",
    "#Heteroskedasticity test in the output -> P-value<0.05 problem with heteroskedasticity \n",
    "#Jarque Bera for Normality check\n",
    "#RMSE,MAPE,MAE\n",
    "y_real=test.values\n",
    "y_pred=forecast_c\n",
    "rmse=np.sqrt(mean_squared_error(y_real,y_pred))\n",
    "mape=mean_absolute_percentage_error(y_real,y_pred)\n",
    "mae=mean_absolute_error(y_real,y_pred)\n",
    "print(f\"RMSE: {rmse:.2f}\")\n",
    "print(f\" MAPE: {mape:.2f}\")\n",
    "print(f\" MAE: {mae:.2f}\")\n",
    "resid=pd.Series(model_c.resid())\n",
    "plot_acf(resid)\n",
    "plot_pacf(resid)\n",
    "plt.show()\n",
    "\n",
    "# Plot for predictions vs real sales\n",
    "plt.figure(figsize=(12,6))\n",
    "plt.plot(test.index,y_real,label='Real Sales',color='blue')\n",
    "plt.plot(test.index,y_pred,label='Predictions',color='red')\n",
    "plt.plot(future_dates, forecast_future, label='Forecast (Aug - Sep)', color='green', linestyle='--')\n",
    "plt.title(f'ARIMA predicitions vs actual for StoreType {store_type}')\n",
    "plt.xlabel('Date')\n",
    "plt.ylabel('Sales')\n",
    "plt.suptitle(f\"RMSE:{rmse:.1f}|MAE:{mae:.1f}| MAPE:{mape:.1f}\",fontsize=10)\n",
    "plt.legend()\n",
    "plt.tight_layout()\n",
    "plt.show()"
   ]
  },
  {
   "cell_type": "code",
   "execution_count": null,
   "id": "7e4a9d67",
   "metadata": {},
   "outputs": [],
   "source": [
    "#ARIMA model for Store Types\n",
    "#StoreType -> D\n",
    "store_type='d'\n",
    "\n",
    "#split data in test & train for storetype D\n",
    "train=train_data[train_data['StoreType']==store_type].groupby('Date')['y'].sum()\n",
    "test=test_data[test_data['StoreType']==store_type].groupby('Date')['y'].sum()\n",
    "train.index = pd.to_datetime(train.index)\n",
    "train.sort_index(inplace=True)\n",
    "test.index = pd.to_datetime(test.index)\n",
    "test.sort_index(inplace=True)\n",
    "\n",
    "#ARIMA model\n",
    "model_d=auto_arima(train,seasonal=True,m=7, trace=True,error_action='ignore',suppress_warnings=True,stepwise=True)\n",
    "model_d.fit(train)\n",
    "print(model_d.summary())\n",
    "\n",
    "#Predicitions for next month\n",
    "forecast_d=model_d.predict(n_periods=n_periods)\n",
    "print(forecast_d)\n",
    "\n",
    "#Future Predictions (August & mid-September)\n",
    "future_dates = pd.date_range(start='2015-08-01', end='2015-09-17')\n",
    "forecast_future = model_d.predict(n_periods=len(future_dates))\n",
    "\n",
    "#Model fit with statistics\n",
    "#Small AIC & BIC\n",
    "#Ljung Box Test for Autocorrelation of the resiudals -> P-value<a there is no autocorrelation\n",
    "#Heteroskedasticity test in the output -> P-value<0.05 problem with heteroskedasticity \n",
    "#Jarque Bera for Normality check\n",
    "#RMSE,MAPE,MAE\n",
    "y_real=test.values\n",
    "y_pred=forecast_d\n",
    "rmse=np.sqrt(mean_squared_error(y_real,y_pred))\n",
    "mape=mean_absolute_percentage_error(y_real,y_pred)\n",
    "mae=mean_absolute_error(y_real,y_pred)\n",
    "print(f\"RMSE: {rmse:.2f}\")\n",
    "print(f\" MAPE: {mape:.2f}\")\n",
    "print(f\" MAE: {mae:.2f}\")\n",
    "resid=pd.Series(model_d.resid())\n",
    "plot_acf(resid)\n",
    "plot_pacf(resid)\n",
    "plt.show()\n",
    "\n",
    "# Plot for predictions vs real sales\n",
    "plt.figure(figsize=(12,6))\n",
    "plt.plot(test.index,y_real,label='Real Sales',color='blue')\n",
    "plt.plot(test.index,y_pred,label='Predictions',color='red')\n",
    "plt.plot(future_dates, forecast_future, label='Forecast (Aug - Sep)', color='green', linestyle='--')\n",
    "plt.title(f'ARIMA predicitions vs Actual for StoreType {store_type}')\n",
    "plt.xlabel('Date')\n",
    "plt.ylabel('Sales')\n",
    "plt.suptitle(f\"RMSE:{rmse:.1f}|MAE:{mae:.1f}| MAPE:{mape:.1f}\",fontsize=10)\n",
    "plt.legend()\n",
    "plt.tight_layout()\n",
    "plt.show()"
   ]
  },
  {
   "cell_type": "markdown",
   "id": "2f7014d8",
   "metadata": {},
   "source": [
    "## ARIMA models for incomes from sales forecasting"
   ]
  },
  {
   "cell_type": "code",
   "execution_count": null,
   "id": "17130e70",
   "metadata": {},
   "outputs": [],
   "source": [
    "#Total sales per stores\n",
    "store_sales=data.groupby('Store')['y'].sum()\n",
    "\n",
    "#Store with most sales\n",
    "top_store=store_sales.idxmax()\n",
    "top_sales=store_sales.max()\n",
    "\n",
    "#Store with least sales\n",
    "bottom_store=store_sales.idxmin()\n",
    "bottom_sales=store_sales.min()\n",
    "\n",
    "#results\n",
    "print(f\"Store with most sales is: {top_store} with total sales {top_sales}\")\n",
    "print(f\"Store with least sales is: {bottom_store} with total sales {bottom_sales}\")\n",
    "\n",
    "print(\"Top 5 stores with most sales:\")\n",
    "print(store_sales.sort_values(ascending=False).head(5))\n",
    "\n",
    "print(\"Top 5 Stores with lowest sales:\")\n",
    "print(store_sales.sort_values(ascending=True).head(5))"
   ]
  },
  {
   "cell_type": "code",
   "execution_count": null,
   "id": "2099c896",
   "metadata": {},
   "outputs": [],
   "source": [
    "#mean sales in test data for a specific store in order to compare its model accuracy\n",
    "#a specific store can be chosen \n",
    "test_store=test_data[test_data['Store'] == 543]\n",
    "mean_sales=test_store['y'].mean()\n",
    "print(mean_sales)"
   ]
  },
  {
   "cell_type": "code",
   "execution_count": null,
   "id": "3285b2d2",
   "metadata": {},
   "outputs": [],
   "source": [
    "#Arima model for one store at a time\n",
    "Store_ID=262\n",
    "#Store_ID=np.random.choice(range(1,data[\"Store\"].max()))   #Random store \n",
    "print(Store_ID)\n",
    "\n",
    "#Train & Test data\n",
    "train_store=train_data[train_data[\"Store\"]==Store_ID].copy()\n",
    "test_store=test_data[test_data[\"Store\"]==Store_ID].copy()\n",
    "train_store[\"Date\"]=pd.to_datetime(train_store[\"Date\"])\n",
    "test_store[\"Date\"]=pd.to_datetime(test_store[\"Date\"])\n",
    "train_store.set_index(\"Date\",inplace=True)\n",
    "test_store.set_index(\"Date\",inplace=True)\n",
    "train_store.sort_index(inplace=True)\n",
    "test_store.sort_index(inplace=True)\n",
    "\n",
    "#mean sales in July\n",
    "mean_sales=test_store['y'].mean()\n",
    "\n",
    "##Arima with seasonality and data for every day\n",
    "model=auto_arima(train_store[\"y\"],seasonal=True, m=7,trace=False,suppress_warnings=False,stepwise=True)\n",
    "print(model.summary())\n",
    "\n",
    "#Predictions\n",
    "#future periods\n",
    "n_periods=len(test_store)\n",
    "prediction_arima=model.predict(n_periods=n_periods)\n",
    "prediction_arima[prediction_arima<0]=0\n",
    "print(prediction_arima)\n",
    "\n",
    "#Future Predictions (August & mid-September)\n",
    "future_dates = pd.date_range(start='2015-08-01',end='2015-09-17')\n",
    "forecast_future = model.predict(n_periods=len(future_dates))\n",
    "\n",
    "#Model Fit with statistics\n",
    "#Small AIC & BIC\n",
    "#Ljung Box Test for Autocorrelation of the resiudals -> P-value<a there is no autocorrelation\n",
    "#Heteroskedasticity test in the output -> P-value<0.05 problem with heteroskedasticity \n",
    "#Jarque Bera for Normality check\n",
    "#RMSE,MAPE,MAE\n",
    "rmse=np.sqrt(mean_squared_error(test_store[\"y\"],prediction_arima))\n",
    "mae=mean_absolute_error(test_store[\"y\"],prediction_arima)\n",
    "mape=mean_absolute_percentage_error(test_store[\"y\"],prediction_arima)\n",
    "print(f\"RMSE: {rmse:.2f}\")\n",
    "print(f\" MAPE: {mape:.2f}\")\n",
    "print(f\" MAE: {mae:.2f}\")\n",
    "resid=pd.Series(model.resid()) #residuals\n",
    "plot_acf(resid)\n",
    "plot_pacf(resid)\n",
    "plt.show()\n",
    "\n",
    "#Plot predictions vs real sales\n",
    "plt.figure(figsize=(13,7))\n",
    "plt.plot(test_store.index,test_store[\"y\"],label=\"Real Sales\", color='blue')\n",
    "plt.plot(test_store.index,prediction_arima,label=\"Predicted Sales\",color='red')\n",
    "plt.plot(future_dates, forecast_future, label='Forecast (Aug - Sep)', color='green', linestyle='--')\n",
    "plt.title(f\"ARIMA Sales Predicitions for Store {Store_ID}\")\n",
    "plt.xlabel(\"Date\")\n",
    "plt.ylabel(\"Sales\")\n",
    "plt.suptitle(f\"RMSE:{rmse:.1f}|Mean sales:{mean_sales:.1f}|MAE:{mae:.1f}| MAPE:{mape:.1f}\",fontsize=10)\n",
    "plt.legend()\n",
    "plt.show()"
   ]
  },
  {
   "cell_type": "code",
   "execution_count": null,
   "id": "197567ab",
   "metadata": {},
   "outputs": [],
   "source": [
    "#Arima model for store 543 with seasonality every 14 days\n",
    "Store_ID=543\n",
    "print(Store_ID)\n",
    "\n",
    "#Train & Test data\n",
    "train_store=train_data[train_data[\"Store\"]==Store_ID].copy()\n",
    "test_store=test_data[test_data[\"Store\"]==Store_ID].copy()\n",
    "train_store[\"Date\"]=pd.to_datetime(train_store[\"Date\"])\n",
    "test_store[\"Date\"]=pd.to_datetime(test_store[\"Date\"])\n",
    "train_store.set_index(\"Date\",inplace=True)\n",
    "test_store.set_index(\"Date\",inplace=True)\n",
    "train_store.sort_index(inplace=True)\n",
    "test_store.sort_index(inplace=True)\n",
    "\n",
    "#mean sales\n",
    "mean_sales=test_store['y'].mean()\n",
    "\n",
    "##Arima with seasonality and data for every day\n",
    "#m=14 because of seasonality\n",
    "model=auto_arima(train_store[\"y\"],seasonal=True, m=14,trace=False,suppress_warnings=False,stepwise=True)\n",
    "print(model.summary())\n",
    "\n",
    "#Predictions\n",
    "#future periods\n",
    "n_periods=len(test_store)\n",
    "prediction_arima=model.predict(n_periods=n_periods)\n",
    "prediction_arima[prediction_arima<0]=0\n",
    "print(prediction_arima)\n",
    "\n",
    "#Future Predictions (August & mid-September)\n",
    "future_dates = pd.date_range(start='2015-08-01',end='2015-09-17')\n",
    "forecast_future = model.predict(n_periods=len(future_dates))\n",
    "\n",
    "#Model Fit with statistics\n",
    "#Small AIC & BIC\n",
    "#Ljung Box Test for Autocorrelation of the resiudals -> P-value<a there is no autocorrelation\n",
    "#Heteroskedasticity test in the output -> P-value<0.05 problem with heteroskedasticity \n",
    "#Jarque Bera for Normality check\n",
    "#RMSE,MAPE,MAE\n",
    "rmse=np.sqrt(mean_squared_error(test_store[\"y\"],prediction_arima))\n",
    "mae=mean_absolute_error(test_store[\"y\"],prediction_arima)\n",
    "mape=mean_absolute_percentage_error(test_store[\"y\"],prediction_arima)\n",
    "print(f\"RMSE: {rmse:.2f}\")\n",
    "print(f\" MAPE: {mape:.2f}\")\n",
    "print(f\" MAE: {mae:.2f}\")\n",
    "resid=pd.Series(model.resid())\n",
    "plot_acf(resid)\n",
    "plot_pacf(resid)\n",
    "plt.show()\n",
    "\n",
    "#Plot predictions vs real sales\n",
    "plt.figure(figsize=(13,7))\n",
    "plt.plot(test_store.index,test_store[\"y\"],label=\"Real Sales\", color='blue')\n",
    "plt.plot(test_store.index,prediction_arima,label=\"Predicted Sales\",color='red')\n",
    "plt.plot(future_dates, forecast_future, label='Forecast (Aug - Sep)', color='green', linestyle='--')\n",
    "plt.title(f\"ARIMA Sales Predicitions for Store {Store_ID}\")\n",
    "plt.xlabel(\"Date\")\n",
    "plt.ylabel(\"Sales\")\n",
    "plt.suptitle(f\"RMSE:{rmse:.1f}|Mean sales:{mean_sales:.1f}|MAE:{mae:.1f}| MAPE:{mape:.1f}\",fontsize=10)\n",
    "plt.legend()\n",
    "plt.show()"
   ]
  },
  {
   "cell_type": "markdown",
   "id": "fc1a5676",
   "metadata": {},
   "source": [
    "## ARIMA models for store sales forecasting with specific characteristics like PromotionFlags & StoreTypes\n"
   ]
  },
  {
   "cell_type": "code",
   "execution_count": null,
   "id": "1087c64f",
   "metadata": {},
   "outputs": [],
   "source": [
    "#Arima for Stores with different characteristics (PromotionFlags& StoreTypes)\n",
    "#This code selects randomly a store with these factors\n",
    "#it is useful if we want to compare ARIMA with stores that have different or same charachteristics\n",
    "PROMO_FLAG=1 #0->No & 1->Yes\n",
    "STORE_TYPE='a'  #a,b,c or d\n",
    "\n",
    "#Data with the above information\n",
    "selected_stores=data.copy()\n",
    "if PROMO_FLAG is not None:\n",
    "    selected_stores=selected_stores[selected_stores[\"PromotionFlags\"]==PROMO_FLAG]\n",
    "\n",
    "if STORE_TYPE is not None:\n",
    "    selected_stores=selected_stores[selected_stores[\"StoreType\"]==STORE_TYPE]\n",
    "\n",
    "#Random Store\n",
    "stores=selected_stores[\"Store\"].unique()\n",
    "Store_ID=np.random.choice(stores)\n",
    "print(Store_ID)\n",
    "\n",
    "#test & train data\n",
    "store_data=data[data[\"Store\"]==Store_ID].copy()\n",
    "store_data[\"Date\"]=pd.to_datetime(store_data[\"Date\"])\n",
    "store_data=store_data.sort_values(\"Date\")\n",
    "store_data.set_index(\"Date\",inplace=True)\n",
    "split_date='2015-07-01'\n",
    "train_store=store_data[store_data.index<split_date]\n",
    "test_store=store_data[store_data.index>=split_date]\n",
    "\n",
    "#ARIMA model\n",
    "model_new=auto_arima(train_store[\"y\"],seasonal=True,m=7,trace=False,suppress_warnings=False,stepwise=True)\n",
    "print(model_new.summary())\n",
    "\n",
    "#Predictions\n",
    "pred=model_new.predict(n_periods=n_periods)\n",
    "pred[pred<0]=0 #make sure that there are no negative predictions\n",
    "print(pred)\n",
    "\n",
    "#Future Predictions (August & mid-September)\n",
    "future_dates = pd.date_range(start='2015-08-01', end='2015-09-17')\n",
    "forecast_future = model_new.predict(n_periods=len(future_dates))\n",
    "\n",
    "#Statistics for model fit\n",
    "#Small AIC & BIC\n",
    "#Ljung Box Test for Autocorrelation of the resiudals -> P-value<a there is no autocorrelation\n",
    "#Heteroskedasticity test in the output -> P-value<0.05 problem with heteroskedasticity \n",
    "#Jarque Bera for Normality check\n",
    "#RMSE,MAPE,MAE\n",
    "rmse=np.sqrt(mean_squared_error(test_store[\"y\"],pred))\n",
    "mae=mean_absolute_error(test_store[\"y\"],pred)\n",
    "mape=mean_absolute_percentage_error(test_store[\"y\"],pred)\n",
    "print(f\"RMSE: {rmse:.2f}\")\n",
    "print(f\" MAPE: {mape:.2f}\")\n",
    "print(f\" MAE: {mae:.2f}\")\n",
    "resid=pd.Series(model_new.resid()) #residuals\n",
    "plot_acf(resid)\n",
    "plot_pacf(resid)\n",
    "plt.show()\n",
    "\n",
    "#plot for real vs predicted values\n",
    "plt.figure(figsize=(14,7))\n",
    "plt.plot(test_store.index,test_store[\"y\"],label=\"Actual Sales\",color='blue')\n",
    "plt.plot(test_store.index,pred,label=\"Predictions\",color='red')\n",
    "plt.plot(future_dates, forecast_future, label='Forecast (Aug - Sep)', color='green', linestyle='--')\n",
    "plt.title(f\"Predictions for Store {Store_ID}\")\n",
    "plt.xlabel(\"Date\")\n",
    "plt.ylabel(\"Sales\")\n",
    "plt.suptitle(f\"RMSE:{rmse:.1f}|MAE:{mae:.1f}| MAPE:{mape:.1f}\",fontsize=10)\n",
    "plt.legend()\n",
    "plt.show()"
   ]
  },
  {
   "cell_type": "code",
   "execution_count": null,
   "id": "9cc59cb9",
   "metadata": {},
   "outputs": [],
   "source": [
    "##model with logarithmic tranformation\n",
    "#We will see whether we have imporved results when log-transformation is applied\n",
    "#Useful method when we have so many outliers\n",
    "Store_ID = 262\n",
    "print(Store_ID)\n",
    "\n",
    "#Data\n",
    "train_store = train_data[train_data[\"Store\"] == Store_ID].copy()\n",
    "test_store = test_data[test_data[\"Store\"] == Store_ID].copy()\n",
    "train_store[\"Date\"] = pd.to_datetime(train_store[\"Date\"])\n",
    "test_store[\"Date\"] = pd.to_datetime(test_store[\"Date\"])\n",
    "train_store.set_index(\"Date\", inplace=True)\n",
    "test_store.set_index(\"Date\", inplace=True)\n",
    "train_store.sort_index(inplace=True)\n",
    "test_store.sort_index(inplace=True)\n",
    "\n",
    "#mean sales\n",
    "mean_sales=test_store['y'].mean()\n",
    "\n",
    "#Log transformation\n",
    "train_store[\"y_log\"] = np.log1p(train_store[\"y\"])  # log(1+y)\n",
    "\n",
    "#model\n",
    "model = auto_arima(train_store[\"y_log\"], seasonal=True, m=7, trace=False, suppress_warnings=False, stepwise=True)\n",
    "print(model.summary())\n",
    "\n",
    "# Predictions\n",
    "n_periods = len(test_store)\n",
    "pred_log = model.predict(n_periods=n_periods)\n",
    "prediction_arima = np.expm1(pred_log)\n",
    "future_dates = pd.date_range(start='2015-08-01', end='2015-09-17')\n",
    "forecast_log_future = model.predict(n_periods=len(future_dates))\n",
    "forecast_future = np.expm1(forecast_log_future)\n",
    "\n",
    "#Evaluation Metrics\n",
    "rmse = np.sqrt(mean_squared_error(test_store[\"y\"], prediction_arima))\n",
    "mae = mean_absolute_error(test_store[\"y\"], prediction_arima)\n",
    "mape = mean_absolute_percentage_error(test_store[\"y\"], prediction_arima)\n",
    "print(f\"RMSE: {rmse:.2f}\")\n",
    "print(f\"MAPE: {mape:.2%}\")\n",
    "print(f\"MAE: {mae:.2f}\")\n",
    "\n",
    "#Residuals\n",
    "resid = pd.Series(model.resid())\n",
    "plot_acf(resid)\n",
    "plot_pacf(resid)\n",
    "plt.show()\n",
    "\n",
    "#Plots\n",
    "plt.figure(figsize=(13, 7))\n",
    "plt.plot(test_store.index, test_store[\"y\"], label=\"Real Sales\", color='blue')\n",
    "plt.plot(test_store.index, prediction_arima, label=\"Predicted Sales\", color='red')\n",
    "plt.plot(future_dates, forecast_future, label='Forecast (Aug - Sep)', color='green', linestyle='--')\n",
    "plt.title(f\"ARIMA Sales Predictions for Store {Store_ID} with Log-Transformation\")\n",
    "plt.xlabel(\"Date\")\n",
    "plt.ylabel(\"Sales\")\n",
    "plt.suptitle(f\"RMSE:{rmse:.1f}| Mean Sales:{mean_sales:.1f}| MAE:{mae:.1f} | MAPE:{mape:.1f}\", fontsize=10)\n",
    "plt.legend()\n",
    "plt.show()"
   ]
  },
  {
   "cell_type": "code",
   "execution_count": null,
   "id": "0054e2dc",
   "metadata": {},
   "outputs": [],
   "source": [
    "##model with log tranformation for store 543 that has m=14(seasonality)\n",
    "Store_ID = 543\n",
    "print(Store_ID)\n",
    "\n",
    "#Data\n",
    "train_store = train_data[train_data[\"Store\"] == Store_ID].copy()\n",
    "test_store = test_data[test_data[\"Store\"] == Store_ID].copy()\n",
    "train_store[\"Date\"] = pd.to_datetime(train_store[\"Date\"])\n",
    "test_store[\"Date\"] = pd.to_datetime(test_store[\"Date\"])\n",
    "train_store.set_index(\"Date\", inplace=True)\n",
    "test_store.set_index(\"Date\", inplace=True)\n",
    "train_store.sort_index(inplace=True)\n",
    "test_store.sort_index(inplace=True)\n",
    "\n",
    "#mean sales\n",
    "mean_sales=test_store['y'].mean()\n",
    "\n",
    "#Log transformation\n",
    "train_store[\"y_log\"] = np.log1p(train_store[\"y\"])  # log(1+y)\n",
    "\n",
    "#model\n",
    "model = auto_arima(train_store[\"y_log\"], seasonal=True, m=14, trace=False, suppress_warnings=False, stepwise=True)\n",
    "print(model.summary())\n",
    "\n",
    "# Predictions\n",
    "n_periods = len(test_store)\n",
    "pred_log = model.predict(n_periods=n_periods)\n",
    "prediction_arima = np.expm1(pred_log)\n",
    "future_dates = pd.date_range(start='2015-08-01', end='2015-09-17')\n",
    "forecast_log_future = model.predict(n_periods=len(future_dates))\n",
    "forecast_future = np.expm1(forecast_log_future)\n",
    "\n",
    "#Evaluation Metrics\n",
    "rmse = np.sqrt(mean_squared_error(test_store[\"y\"], prediction_arima))\n",
    "mae = mean_absolute_error(test_store[\"y\"], prediction_arima)\n",
    "mape = mean_absolute_percentage_error(test_store[\"y\"], prediction_arima)\n",
    "print(f\"RMSE: {rmse:.2f}\")\n",
    "print(f\"MAPE: {mape:.2%}\")\n",
    "print(f\"MAE: {mae:.2f}\")\n",
    "\n",
    "#Residuals\n",
    "resid = pd.Series(model.resid())\n",
    "plot_acf(resid)\n",
    "plot_pacf(resid)\n",
    "plt.show()\n",
    "\n",
    "#Plots\n",
    "plt.figure(figsize=(13, 7))\n",
    "plt.plot(test_store.index, test_store[\"y\"], label=\"Real Sales\", color='blue')\n",
    "plt.plot(test_store.index, prediction_arima, label=\"Predicted Sales\", color='red')\n",
    "plt.plot(future_dates, forecast_future, label='Forecast (Aug - Sep)', color='green', linestyle='--')\n",
    "plt.title(f\"ARIMA Sales Predictions for Store {Store_ID} with Log-Transformation\")\n",
    "plt.xlabel(\"Date\")\n",
    "plt.ylabel(\"Sales\")\n",
    "plt.suptitle(f\"RMSE:{rmse:.1f}| Mean Sales:{mean_sales:.1f}| MAE:{mae:.1f} | MAPE:{mape:.1f}\", fontsize=10)\n",
    "plt.legend()\n",
    "plt.show()"
   ]
  },
  {
   "cell_type": "markdown",
   "id": "ee4e11cb",
   "metadata": {},
   "source": [
    "## PROPHET"
   ]
  },
  {
   "cell_type": "code",
   "execution_count": null,
   "id": "61910673",
   "metadata": {},
   "outputs": [],
   "source": [
    "#Dataframe for dates that there are holidays\n",
    "state_dates=train_data[(train_data.StateHoliday=='a')|(train_data.StateHoliday=='b')|(train_data.StateHoliday=='c')].loc[:,'Date'].values\n",
    "school_dates=train_data[train_data.SchoolHoliday==1].loc[:,'Date'].values\n",
    "\n",
    "state = pd.DataFrame({'holiday': 'state_holiday',\n",
    "                      'ds': pd.to_datetime(state_dates)})\n",
    "school = pd.DataFrame({'holiday': 'school_holiday',\n",
    "                      'ds': pd.to_datetime(school_dates)})\n",
    "\n",
    "holidays=pd.concat((state,school))      \n",
    "holidays.head()"
   ]
  },
  {
   "cell_type": "code",
   "execution_count": null,
   "id": "78c32255",
   "metadata": {},
   "outputs": [],
   "source": [
    "#Prophet model\n",
    "#If we want a specific store\n",
    "Store_ID= 198\n",
    "#Random Store\n",
    "#Store_ID=np.random.choice(range(1,train_data[\"Store\"].max())) \n",
    "print(Store_ID)\n",
    "\n",
    "store_data = data[data[\"Store\"] == Store_ID].copy()\n",
    "store_data['ds'] = pd.to_datetime(store_data['Date'])\n",
    "store_data['y'] = store_data['y']\n",
    "\n",
    "# Split store data into train and test based on 'ds'\n",
    "train_df=store_data[store_data['ds']<split_date].copy()\n",
    "test_df=store_data[store_data['ds']>= split_date].copy()\n",
    "\n",
    "#mean sales for store in July\n",
    "mean_sales=test_df['y'].mean()\n",
    "\n",
    "##Columns that we will use in the regressors\n",
    "sel=['ds','y','PromotionFlags']\n",
    "train_df=train_df[sel]\n",
    "test_df=test_df[sel]\n",
    "\n",
    "#Prophet Model with the following command\n",
    "m=Prophet(holidays=holidays)\n",
    "#Regressors\n",
    "m.add_regressor(\"PromotionFlags\")\n",
    "#m.add_regressor(\"CompetitionDistance\") #IT RETURNS MORE NEGATIVE PREDICITIONS BECAUSE OF THE OUTLIERS\n",
    "#m.add_regressor(\"Customers\") #IT RETURNS MORE NEGATIVE PREDICTIONS BECAUSE OF THE OUTLIERS\n",
    "m.fit(train_df)\n",
    "\n",
    "#Future dataframe for next 31 days\n",
    "future=m.make_future_dataframe(periods=31, freq='D')\n",
    "\n",
    "#Merge with current data\n",
    "future=future.merge(store_data[['ds','PromotionFlags']],on='ds',how='left')\n",
    "future['PromotionFlags'].fillna(1, inplace=True)  #With promotion because most stores have promo\n",
    "\n",
    "#Predictions\n",
    "#There are many zeros in sales and as a result the model returns negative values that i have to set them equal to 0\n",
    "forecast=m.predict(future)\n",
    "forecast['yhat'] = forecast['yhat'].apply(lambda x: max(x, 0))\n",
    "forecast['yhat_lower'] = forecast['yhat_lower'].apply(lambda x: max(x, 0))\n",
    "forecast['yhat_upper'] = forecast['yhat_upper'].apply(lambda x: max(x, 0))\n",
    "print(forecast[['ds','yhat','yhat_lower','yhat_upper']].tail())\n",
    "\n",
    "# Forecast for Future Dates (Aug - Mid Sep) \n",
    "future_dates = pd.date_range(start='2015-08-01', end='2015-09-17')\n",
    "future_ext = pd.DataFrame({'ds': future_dates})\n",
    "future_ext = future_ext.merge(store_data[['ds', 'PromotionFlags']], on='ds', how='left')\n",
    "future_ext['PromotionFlags'].fillna(1, inplace=True)\n",
    "#predictions\n",
    "#make sure that negative predictions are replaced with zero\n",
    "forecast_future = m.predict(future_ext)\n",
    "forecast_future['yhat'] = forecast_future['yhat'].apply(lambda x: max(x, 0))\n",
    "forecast_future['yhat_lower'] = forecast_future['yhat_lower'].apply(lambda x: max(x, 0))\n",
    "forecast_future['yhat_upper'] = forecast_future['yhat_upper'].apply(lambda x: max(x, 0))\n",
    "\n",
    "#Model fit with some statistics\n",
    "merged=pd.merge(test_df[['ds','y']],forecast[['ds','yhat']],on='ds',how='inner')\n",
    "r2=r2_score(merged['y'],merged['yhat'])\n",
    "rmse=np.sqrt(mean_squared_error(merged['y'],merged['yhat']))\n",
    "mape=mean_absolute_percentage_error(merged['y'],merged['yhat'])\n",
    "mae=mean_absolute_error(merged[\"y\"],merged[\"yhat\"])\n",
    "print(f\"R_squared: {r2:.2f}\")\n",
    "print(f\"RMSE: {rmse:.2f}\")\n",
    "print(f\"MAPE: {mape:.2f}\")\n",
    "print(f\"MAE:{mae:.2f}\")\n",
    "\n",
    "#Plot real vs predicted values\n",
    "plt.figure(figsize=(14,7))\n",
    "plt.plot(merged['ds'],merged['y'],label='Actual Sales',color='blue')\n",
    "plt.plot(merged['ds'],merged['yhat'],label='Predicted Sales',color='red')\n",
    "plt.plot(forecast_future['ds'], forecast_future['yhat'], label='Forecast (Aug - Mid Sep)', color='green', linestyle='--')\n",
    "plt.title(f\"Prophet Predictions vs Actual Sales for Store {Store_ID}\")\n",
    "plt.xlabel(\"Date\")\n",
    "plt.ylabel(\"Sales\")\n",
    "plt.suptitle(f\"RMSE:{rmse:.1f}|Mean Sales:{mean_sales:.1f}|MAE:{mae:.1f}| MAPE:{mape:.1f}|R_squared:{r2:.1f}\",fontsize=10)\n",
    "plt.legend()\n",
    "plt.show()"
   ]
  },
  {
   "cell_type": "code",
   "execution_count": null,
   "id": "b6e629c6",
   "metadata": {},
   "outputs": [],
   "source": [
    "#Store types for stores\n",
    "#Select a store and find out the store type\n",
    "#\"iloc\" is used to have access on data as an index\n",
    "store_no=165\n",
    "store_type=data.loc[data[\"Store\"]==store_no, \"StoreType\"].iloc[0]\n",
    "print(f\"Store {store_no} - Type {store_type}\")"
   ]
  },
  {
   "cell_type": "code",
   "execution_count": null,
   "id": "25bd74e9",
   "metadata": {},
   "outputs": [],
   "source": [
    "#Percentages that stores were either open or closed\n",
    "#Useful for the interpretation of results\n",
    "store_id=543\n",
    "storedf=data[data[\"Store\"]==store_id]\n",
    "storedf[\"Open\"] = storedf[\"Open\"].astype(int)\n",
    "total_days=len(storedf)\n",
    "open_days=storedf[\"Open\"].sum()\n",
    "closed_days=total_days-open_days\n",
    "\n",
    "#Percentages\n",
    "open_pct=(open_days/total_days)*100\n",
    "closed_pct=(closed_days/total_days)*100\n",
    "\n",
    "#results\n",
    "print(f\"Open: {open_days} days ({open_pct:.1f}%)\")\n",
    "print(f\"Closed: {closed_days} days ({closed_pct:.1f}%)\")"
   ]
  },
  {
   "cell_type": "code",
   "execution_count": null,
   "id": "048fbfe6",
   "metadata": {},
   "outputs": [],
   "source": [
    "#Prophet model for stores with different characteristics\n",
    "#We choose a specific store type and if we want promotion or not\n",
    "#It returns predictions for a store\n",
    "PROMO_FLAG=1\n",
    "STORE_TYPE='b'\n",
    "\n",
    "#Data with the above information\n",
    "filtered_data=data.copy()\n",
    "if PROMO_FLAG is not None:\n",
    "    filtered_data=filtered_data[filtered_data[\"PromotionFlags\"]==PROMO_FLAG]\n",
    "if STORE_TYPE is not None:\n",
    "    filtered_data=filtered_data[filtered_data[\"StoreType\"]==STORE_TYPE]\n",
    "\n",
    "#Random Selection\n",
    "stores=filtered_data[\"Store\"].unique()\n",
    "Store_ID=np.random.choice(stores)\n",
    "print(Store_ID)\n",
    "\n",
    "#TEST & TRAIN DATA\n",
    "store_data=data[data[\"Store\"]==Store_ID].copy()\n",
    "store_data[\"ds\"]=pd.to_datetime(store_data[\"Date\"])\n",
    "store_data=store_data[[\"ds\",\"y\",\"PromotionFlags\"]].copy()\n",
    "train_df=store_data[store_data[\"ds\"]<split_date].copy()\n",
    "test_df=store_data[store_data[\"ds\"]>=split_date].copy()\n",
    "\n",
    "#Model\n",
    "m_new=Prophet(holidays=holidays)\n",
    "m_new.add_regressor(\"PromotionFlags\")\n",
    "m_new.fit(train_df)\n",
    "\n",
    "#Future dataframe\n",
    "future=m_new.make_future_dataframe(periods=31, freq='D')\n",
    "future=future.merge(store_data[[\"ds\",\"PromotionFlags\"]],on=\"ds\",how=\"left\")\n",
    "future[\"PromotionFlags\"].fillna(1,inplace=True)  # with promo\n",
    "\n",
    "#Predicitions\n",
    "forecast=m_new.predict(future)\n",
    "forecast['yhat'] = forecast['yhat'].apply(lambda x: max(x, 0)) #negative predictions equal to zero\n",
    "forecast['yhat_lower'] = forecast['yhat_lower'].apply(lambda x: max(x, 0)) #it sets 0 the negative values\n",
    "forecast['yhat_upper'] = forecast['yhat_upper'].apply(lambda x: max(x, 0))\n",
    "print(forecast[['ds','yhat','yhat_lower','yhat_upper']].tail())\n",
    "\n",
    "# Forecast for Future Dates (Aug - Mid Sep) \n",
    "future_dates = pd.date_range(start='2015-08-01', end='2015-09-17')\n",
    "future_ext = pd.DataFrame({'ds': future_dates})\n",
    "future_ext = future_ext.merge(store_data[['ds', 'PromotionFlags']], on='ds', how='left')\n",
    "future_ext['PromotionFlags'].fillna(1, inplace=True)\n",
    "#predictions\n",
    "forecast_future = m_new.predict(future_ext)\n",
    "forecast_future['yhat'] = forecast_future['yhat'].apply(lambda x: max(x, 0))\n",
    "forecast_future['yhat_lower'] = forecast_future['yhat_lower'].apply(lambda x: max(x, 0))\n",
    "forecast_future['yhat_upper'] = forecast_future['yhat_upper'].apply(lambda x: max(x, 0))\n",
    "\n",
    "#Model fit\n",
    "merged=pd.merge(test_df[[\"ds\", \"y\"]], forecast[[\"ds\",\"yhat\"]],on=\"ds\",how=\"inner\")\n",
    "rmse=np.sqrt(mean_squared_error(merged[\"y\"],merged[\"yhat\"]))\n",
    "mape=mean_absolute_percentage_error(merged[\"y\"],merged[\"yhat\"])\n",
    "mae= mean_absolute_error(merged[\"y\"],merged[\"yhat\"])\n",
    "r2=r2_score(merged[\"y\"], merged[\"yhat\"])\n",
    "print(f\"R2:{r2:.2f}\")\n",
    "print(f\"RMSE:{rmse:.2f}\")\n",
    "print(f\"MAPE:{mape:.2%}\")\n",
    "print(f\"MAE:{mae:.2f}\")\n",
    "\n",
    "#Plot\n",
    "plt.figure(figsize=(14,7))\n",
    "plt.plot(merged[\"ds\"],merged[\"y\"],label=\"Actual Sales\",color=\"blue\")\n",
    "plt.plot(merged[\"ds\"],merged[\"yhat\"],label=\"Predicted Sales\",color=\"red\")\n",
    "plt.plot(forecast_future['ds'], forecast_future['yhat'], label='Forecast (Aug - Mid Sep)', color='orange', linestyle='--')\n",
    "plt.title(f\"Prophet Predictions vs Actual Sales for Store {Store_ID}\")\n",
    "plt.xlabel(\"Date\")\n",
    "plt.ylabel(\"Sales\")\n",
    "plt.suptitle(f\"RMSE:{rmse:.1f}|MAE:{mae:.1f}| MAPE:{mape:.1f}|R_squared:{r2:.1f}\",fontsize=10)\n",
    "plt.legend()\n",
    "plt.xticks(rotation=45)\n",
    "plt.tight_layout()\n",
    "plt.show()\n"
   ]
  },
  {
   "cell_type": "code",
   "execution_count": null,
   "id": "218aa950",
   "metadata": {},
   "outputs": [],
   "source": [
    "#log transformation with prophet\n",
    "# Store\n",
    "Store_ID=176\n",
    "\n",
    "#Data\n",
    "train_store=train_data[train_data[\"Store\"]==Store_ID][[\"Date\", \"y\"]].copy()\n",
    "test_store=test_data[test_data[\"Store\"]==Store_ID][[\"Date\", \"y\"]].copy()\n",
    "\n",
    "#Log transformation\n",
    "train_store = train_store.rename(columns={\"Date\": \"ds\"})\n",
    "train_store[\"y\"] = np.log1p(train_store[\"y\"])\n",
    "\n",
    "#model\n",
    "model=Prophet(holidays=holidays)\n",
    "model.fit(train_store)\n",
    "\n",
    "#Forecast\n",
    "future= pd.date_range(start=test_store[\"Date\"].min(), end='2015-09-17')\n",
    "future_df = pd.DataFrame({\"ds\": future})\n",
    "forecast = model.predict(future_df)\n",
    "forecast[\"yhat_exp\"] = np.expm1(forecast[\"yhat\"])\n",
    "\n",
    "#Evaluation\n",
    "test_store= test_store.set_index(\"Date\")\n",
    "pred_test= forecast.set_index(\"ds\").loc[test_store.index][\"yhat_exp\"]\n",
    "rmse = np.sqrt(mean_squared_error(test_store[\"y\"], pred_test))\n",
    "mae = mean_absolute_error(test_store[\"y\"], pred_test)\n",
    "mape = mean_absolute_percentage_error(test_store[\"y\"], pred_test)\n",
    "print(f\"RMSE: {rmse:.2f}\")\n",
    "print(f\"MAE: {mae:.2f}\")\n",
    "print(f\"MAPE: {mape:.2f}\")\n",
    "\n",
    "forecast[\"ds\"] = pd.to_datetime(forecast[\"ds\"])\n",
    "test_store.index = pd.to_datetime(test_store.index)\n",
    "\n",
    "#Plot\n",
    "plt.figure(figsize=(13, 7))\n",
    "plt.plot(test_store.index, test_store[\"y\"], label=\"Real Sales\", color=\"blue\")\n",
    "plt.plot(test_store.index, pred_test, label=\"Predicted Sales\", color=\"red\")\n",
    "plt.plot(forecast[\"ds\"], forecast[\"yhat_exp\"], label=\"Forecast\", color=\"green\", linestyle=\"--\")\n",
    "plt.title(f\"Prophet Sales Forecast for Store {Store_ID} with Log-Transformation\")\n",
    "plt.xlabel(\"Date\")\n",
    "plt.ylabel(\"Sales\")\n",
    "plt.suptitle(f\"RMSE:{rmse:.1f}|MAE:{mae:.1f}| MAPE:{mape:.1f}|\",fontsize=10)\n",
    "plt.legend()\n",
    "plt.show()"
   ]
  },
  {
   "cell_type": "code",
   "execution_count": null,
   "id": "97c90fb3",
   "metadata": {},
   "outputs": [],
   "source": [
    "#July data to check why there are some deviations in real vs predicted values\n",
    "#To observe what the model cannot understand\n",
    "# Store\n",
    "store_id=543\n",
    "#data for july \n",
    "july_data=data[(data['Store']==store_id)&(data['Date']>='2015-07-01') & (data['Date']<='2015-07-31')].copy()\n",
    "july_data['Date']=pd.to_datetime(july_data['Date'])\n",
    "\n",
    "#Results\n",
    "print(july_data[\"Promo\"].value_counts())\n",
    "print(july_data[\"Promo2\"].value_counts())\n",
    "print(july_data[\"StateHoliday\"].value_counts())\n",
    "print(july_data[\"SchoolHoliday\"].value_counts())"
   ]
  },
  {
   "cell_type": "code",
   "execution_count": null,
   "id": "e5c832fc",
   "metadata": {},
   "outputs": [],
   "source": [
    "#July data to check why there are somde deviations in real vs predicted values\n",
    "#To observe pattern that models cannot understand\n",
    "# Store\n",
    "store_id=262\n",
    "#data for july \n",
    "july_data=data[(data['Store']==store_id)&(data['Date']>='2015-07-01') & (data['Date']<='2015-07-31')].copy()\n",
    "july_data['Date']=pd.to_datetime(july_data['Date'])\n",
    "\n",
    "#Results\n",
    "print(july_data[\"Promo\"].value_counts())\n",
    "print(july_data[\"Promo2\"].value_counts())\n",
    "print(july_data[\"StateHoliday\"].value_counts())\n",
    "print(july_data[\"SchoolHoliday\"].value_counts())"
   ]
  },
  {
   "cell_type": "code",
   "execution_count": null,
   "id": "55419070",
   "metadata": {},
   "outputs": [],
   "source": [
    "#Feature Engineering for dates\n",
    "data['Month'] = data['Date'].dt.month \n",
    "data['Weekday'] = data['Date'].dt.weekday\n",
    "data['DayOfYear'] = data['Date'].dt.dayofyear\n",
    "data['IsWeekend'] = data['Date'].dt.weekday >= 5\n",
    "data['WeekOfYear'] = data['Date'].dt.isocalendar().week\n",
    "\n",
    "data['IsWeekend'] = data['Date'].dt.weekday.astype(int)\n",
    "data['HolidayIndicators'] = data['HolidayIndicators'].astype(int)\n",
    "data['PromotionFlags'] = data['PromotionFlags'].astype(int)"
   ]
  },
  {
   "cell_type": "markdown",
   "id": "6cc15fa4",
   "metadata": {},
   "source": [
    "## Machine Learning Models -> LightGBM & XGBoost"
   ]
  },
  {
   "cell_type": "code",
   "execution_count": null,
   "id": "50ee91de",
   "metadata": {},
   "outputs": [],
   "source": [
    "#Machine Learning models LightGBM & XGBoost\n",
    "#Libraries\n",
    "import lightgbm as lgb\n",
    "import xgboost as xgb\n",
    "from lightgbm import LGBMRegressor\n",
    "from sklearn.metrics import mean_squared_error, mean_absolute_error, r2_score,mean_absolute_percentage_error\n",
    "from lightgbm import early_stopping, log_evaluation\n",
    "from sklearn.preprocessing import StandardScaler\n",
    "from xgboost import XGBRegressor\n",
    "from xgboost import plot_importance\n",
    "from sklearn.model_selection import GridSearchCV\n",
    "from sklearn.model_selection import cross_val_score\n",
    "import shap\n",
    "from sklearn.model_selection import TimeSeriesSplit"
   ]
  },
  {
   "cell_type": "code",
   "execution_count": null,
   "id": "7a66c047",
   "metadata": {},
   "outputs": [],
   "source": [
    "#Select a series\n",
    "selected_store=1 \n",
    "data=data[data['Store']==selected_store].copy()"
   ]
  },
  {
   "cell_type": "code",
   "execution_count": null,
   "id": "b917b4b6",
   "metadata": {},
   "outputs": [],
   "source": [
    "#split the dataset in test & train\n",
    "split_date = '2015-07-01'\n",
    "train_data=data[data['Date']<split_date].copy()\n",
    "test_data =data[data['Date']>=split_date].copy()"
   ]
  },
  {
   "cell_type": "code",
   "execution_count": null,
   "id": "c7211b0e",
   "metadata": {},
   "outputs": [],
   "source": [
    "#Preparation for models\n",
    "target='y' #sales\n",
    "cols=['y','Date',\"StateHolidayIndicators\",\"PromotionFlags\",\"day\",\"year\",\"month\",\"HolidayIndicators\",\"Customers\",\"Store\"] \n",
    "X_train=train_data.drop(columns=cols) #Columns that are not needed are dropped\n",
    "y_train=train_data[target]\n",
    "X_test=test_data.drop(columns=cols)\n",
    "y_test=test_data[target]\n",
    "\n",
    "cat_cols=['StoreType','Assortment','PromoInterval',\"Promo\",\"Promo2\",\"StateHoliday\",\"SchoolHoliday\"]\n",
    "for col in cat_cols:\n",
    "    X_train[col] = X_train[col].astype('category')\n",
    "    X_test[col] = X_test[col].astype('category')"
   ]
  },
  {
   "cell_type": "code",
   "execution_count": null,
   "id": "daa0da46",
   "metadata": {},
   "outputs": [],
   "source": [
    "#Hyperparameter tuning \n",
    "param_grid= {\n",
    "    'num_leaves':[5],\n",
    "    'learning_rate': [0.05,0.1],\n",
    "    'n_estimators':[50,100],\n",
    "    'max_depth':[3, 5, 7],\n",
    "    'min_data_in_leaf':[10,20]\n",
    "}\n",
    "\n",
    "#LightGBM Regressor\n",
    "lgb_regressor=lgb.LGBMRegressor(objective='regression', boosting_type='gbdt')\n",
    "\n",
    "#Grid search method\n",
    "grid_search=GridSearchCV(\n",
    "    estimator=lgb_regressor,\n",
    "    param_grid=param_grid,\n",
    "    scoring='neg_root_mean_squared_error',  #negative RMSE \n",
    "    cv=5\n",
    ")\n",
    "\n",
    "#model train\n",
    "grid_search.fit(X_train, y_train)\n",
    "\n",
    "#Best hyperparameters\n",
    "best_params = grid_search.best_params_\n",
    "best_hyperparameters = list(best_params.keys())\n",
    "best_values = list(best_params.values())\n",
    "print(\"Best Hyperparameters:\", best_params)\n",
    "print(\"Best RMSE Score:\", -grid_search.best_score_)  # negative score beacuse it is negative RMSE"
   ]
  },
  {
   "cell_type": "code",
   "execution_count": null,
   "id": "3b39d634",
   "metadata": {},
   "outputs": [],
   "source": [
    "#Model Parameters \n",
    "par={\n",
    "    'metric':'rmse',\n",
    "    'boosting_type':'gbdt',\n",
    "    'num_leaves':5,\n",
    "    'learning_rate':0.1,\n",
    "    \"n_estimators\":100,\n",
    "    'max_depth': 5,\n",
    "    'min_data_in_leaf':10,\n",
    "    'verbose':-1,\n",
    "    \"objective\":\"regression_l2\",\n",
    "}"
   ]
  },
  {
   "cell_type": "code",
   "execution_count": null,
   "id": "b4d71b31",
   "metadata": {},
   "outputs": [],
   "source": [
    "#Model with all the variables and parameters selected by hyperparameter tuning\n",
    "model_lgbm=LGBMRegressor(**par)\n",
    "model_lgbm.fit(X_train,y_train,eval_set=[(X_test,y_test)],eval_metric=\"rmse\",callbacks=[early_stopping(stopping_rounds=50),log_evaluation(period=100)])"
   ]
  },
  {
   "cell_type": "code",
   "execution_count": null,
   "id": "476f3d2f",
   "metadata": {},
   "outputs": [],
   "source": [
    "#SHAP for all time series\n",
    "explainer=shap.Explainer(model_lgbm)\n",
    "#SHap values for x_test\n",
    "shap_values = explainer(X_test)\n",
    "#plot\n",
    "shap.summary_plot(shap_values, X_test)"
   ]
  },
  {
   "cell_type": "code",
   "execution_count": null,
   "id": "b83ec709",
   "metadata": {},
   "outputs": [],
   "source": [
    "#Predictions for all time series\n",
    "y_pred_lgbm=model_lgbm.predict(X_test)\n",
    "y_pred_lgbm[y_pred_lgbm<0]=0 #negative predictions are replaced by zero\n",
    "\n",
    "#Statistics for model fit\n",
    "rmse=np.sqrt(mean_squared_error(y_test,y_pred_lgbm))\n",
    "mae=mean_absolute_error(y_test,y_pred_lgbm)\n",
    "mape=mean_absolute_percentage_error(y_test,y_pred_lgbm)\n",
    "r2=r2_score(y_test,y_pred_lgbm)\n",
    "mse=mean_squared_error(y_test,y_pred_lgbm)\n",
    "#Results\n",
    "print(f\"RMSE:{rmse:.1f}\")\n",
    "print(f\"MAE:{mae:.1f}\")\n",
    "print(f\"MAPE:{mape:.1f}\")\n",
    "print(f\"R²:{r2:.1f}\")\n",
    "print(f\"MSE:{mse:.1f}\")"
   ]
  },
  {
   "cell_type": "code",
   "execution_count": null,
   "id": "94ebcbf2",
   "metadata": {},
   "outputs": [],
   "source": [
    "#CROSS VALIDATION CHECK for full model\n",
    "tscv = TimeSeriesSplit(n_splits=5)  #It is important to use \"TimeSeriesSplit\" in order to avoid information leakage on test data\n",
    "cv_scores=cross_val_score(model_lgbm,X_train,y_train,cv=tscv,scoring='neg_root_mean_squared_error')\n",
    "\n",
    "#RESULTS\n",
    "print(\"Cross-Validation RMSE Scores fo full LGBM Model:\",-cv_scores)\n",
    "print(\"Mean RMSE:\",-np.mean(cv_scores))\n",
    "print(\"Standard Deviation of RMSE:\",np.std(-cv_scores))"
   ]
  },
  {
   "cell_type": "code",
   "execution_count": null,
   "id": "73e6386d",
   "metadata": {},
   "outputs": [],
   "source": [
    "#Metrics for every store \n",
    "test_data=test_data.copy() \n",
    "test_data['PredictedSalesFULLLGBM']=y_pred_lgbm\n",
    "\n",
    "store_results_full = test_data.groupby('Store').apply(\n",
    "    lambda df: pd.Series({\n",
    "        'RMSE':np.sqrt(mean_squared_error(df['y'],df[\"PredictedSalesFULLLGBM\"])),\n",
    "        'MAE':mean_absolute_error(df['y'],df[\"PredictedSalesFULLLGBM\"]),\n",
    "        #\"MAPE\":mean_absolute_percentage_error(df['y'],df['PredictedSalesFULLLGBM']),\n",
    "        #'R²':r2_score(df['y'],df[\"PredictedSalesFULLLGBM\"])\n",
    "    })\n",
    ").reset_index()\n",
    "print(store_results_full)\n",
    "print(store_results_full[\"RMSE\"].describe())"
   ]
  },
  {
   "cell_type": "code",
   "execution_count": null,
   "id": "cf5868c8",
   "metadata": {},
   "outputs": [],
   "source": [
    "#Predictions vs Real values in test data for a specific store\n",
    "#Choose a store\n",
    "store_ID=543\n",
    "store_df=test_data[test_data['Store']==store_ID] #Predictions for this specific store \n",
    "store_df['Date']=pd.to_datetime(store_df['Date'])\n",
    "store_df=store_df.sort_values(by='Date')\n",
    "\n",
    "#Statistics\n",
    "rmse_store=np.sqrt(mean_squared_error(store_df['y'],store_df['PredictedSalesFULLLGBM']))\n",
    "mae_store=mean_absolute_error(store_df['y'],store_df['PredictedSalesFULLLGBM'])\n",
    "r2_store=r2_score(store_df['y'],store_df['PredictedSalesFULLLGBM'])\n",
    "mape=mean_absolute_percentage_error(store_df['y'],store_df['PredictedSalesFULLLGBM'])\n",
    "mse=mean_squared_error(store_df['y'],store_df['PredictedSalesFULLLGBM'])\n",
    "\n",
    "#Plot for predictions vs real values\n",
    "plt.figure(figsize=(12,5))\n",
    "plt.plot(store_df['Date'],store_df['y'],label='Real Sales')\n",
    "plt.plot(store_df['Date'],store_df['PredictedSalesFULLLGBM'],label='Predicted Sales')\n",
    "plt.title(f'Sales Predicitions for Store {store_ID}')\n",
    "plt.xlabel('Date')\n",
    "plt.ylabel('Sales')\n",
    "plt.legend()\n",
    "plt.title(f'LightGBM-Sales for Store {store_ID}')\n",
    "plt.suptitle(f\"RMSE:{rmse_store:.1f}| MAE:{mae_store:.1f}|MAPE:{mape:.1f}|MSE:{mse:.1f}|R2:{r2_store:.2f}\",fontsize=10)\n",
    "plt.xticks(rotation=45)\n",
    "plt.tight_layout()\n",
    "plt.show()\n"
   ]
  },
  {
   "cell_type": "code",
   "execution_count": null,
   "id": "35076117",
   "metadata": {},
   "outputs": [],
   "source": [
    "#New model with default parameters\n",
    "model_lgbm_default=LGBMRegressor()\n",
    "model_lgbm_default.fit(X_train,y_train,eval_set=[(X_test,y_test)],eval_metric=\"rmse\",callbacks=[early_stopping(stopping_rounds=50),log_evaluation(period=100)])\n",
    "\n",
    "#Predictions\n",
    "y_pred_lgbm_default=model_lgbm_default.predict(X_test)\n",
    "y_pred_lgbm_default[y_pred_lgbm_default<0]=0\n",
    "\n",
    "#Statistics for model fit\n",
    "rmse=np.sqrt(mean_squared_error(y_test,y_pred_lgbm_default))\n",
    "#Results\n",
    "print(f\"RMSE:{rmse:.1f}\")\n",
    "\n",
    "#CROSS VALIDATION CHECK for model with default parameters\n",
    "cv_scores=cross_val_score(model_lgbm_default,X_train,y_train,cv=tscv,scoring='neg_root_mean_squared_error')\n",
    "\n",
    "#RESULTS\n",
    "print(\"Cross-Validation RMSE Scores fo full LGBM Model:\",-cv_scores)\n",
    "print(\"Mean RMSE:\",-np.mean(cv_scores))\n",
    "print(\"Standard Deviation of RMSE:\",np.std(-cv_scores))\n",
    "\n",
    "test_data=test_data.copy() \n",
    "test_data['PredictedSalesLGBMdefault']=y_pred_lgbm_default\n",
    "\n",
    "store_results_full1 = test_data.groupby('Store').apply(\n",
    "    lambda df: pd.Series({\n",
    "        'RMSE':np.sqrt(mean_squared_error(df['y'],df[\"PredictedSalesLGBMdefault\"])),\n",
    "    })\n",
    ").reset_index()\n",
    "print(store_results_full1)\n",
    "print(store_results_full1[\"RMSE\"].describe()) #Statistics for RMSE for each shop"
   ]
  },
  {
   "cell_type": "code",
   "execution_count": null,
   "id": "02d1a49d",
   "metadata": {},
   "outputs": [],
   "source": [
    "#SHAP plot for all time series\n",
    "explainer=shap.Explainer(model_lgbm_default)\n",
    "#SHap values for x_test\n",
    "shap_values = explainer(X_test)\n",
    "#plot\n",
    "shap.summary_plot(shap_values,X_test)"
   ]
  },
  {
   "cell_type": "code",
   "execution_count": null,
   "id": "0b7559a8",
   "metadata": {},
   "outputs": [],
   "source": [
    "#Predictions vs Real values in test data for a specific store\n",
    "#Default model\n",
    "store_ID=543\n",
    "store_df=test_data[test_data['Store']==store_ID]\n",
    "store_df['Date']=pd.to_datetime(store_df['Date'])\n",
    "store_df=store_df.sort_values(by='Date')\n",
    "\n",
    "#Statistics\n",
    "rmse_store=np.sqrt(mean_squared_error(store_df['y'],store_df['PredictedSalesLGBMdefault']))\n",
    "mae_store=mean_absolute_error(store_df['y'],store_df['PredictedSalesLGBMdefault'])\n",
    "r2_store=r2_score(store_df['y'],store_df['PredictedSalesLGBMdefault'])\n",
    "mape=mean_absolute_percentage_error(store_df['y'],store_df['PredictedSalesLGBMdefault'])\n",
    "mse=mean_squared_error(store_df['y'],store_df['PredictedSalesLGBMdefault'])\n",
    "\n",
    "#Plot for predictions vs real values\n",
    "plt.figure(figsize=(12,5))\n",
    "plt.plot(store_df['Date'],store_df['y'],label='Real Sales')\n",
    "plt.plot(store_df['Date'],store_df['PredictedSalesLGBMdefault'],label='Predicted Sales')\n",
    "plt.title(f'Sales Predicitions for Store {store_ID}')\n",
    "plt.xlabel('Date')\n",
    "plt.ylabel('Sales')\n",
    "plt.legend()\n",
    "plt.title(f'LightGBM-Sales for Store {store_ID}')\n",
    "plt.suptitle(f\"RMSE:{rmse_store:.1f}| MAE:{mae_store:.1f}|MAPE:{mape:.1f}|MSE:{mse:.1f}|R2:{r2_store:.2f}\",fontsize=10)\n",
    "plt.xticks(rotation=45)\n",
    "plt.tight_layout()\n",
    "plt.show()\n",
    "\n",
    "#SHAP plot for specific store\n",
    "#Predictions for store_ID\n",
    "X_test_store=X_test[test_data['Store']==store_ID]\n",
    "#SHAP Explainer \n",
    "explainer=shap.TreeExplainer(model_lgbm_default,feature_perturbation=\"tree_path_dependent\")\n",
    "#SHAP values\n",
    "shap_values_store = explainer.shap_values(X_test_store)\n",
    "# SHAP summary diagram\n",
    "shap.summary_plot(shap_values_store,X_test_store,show=True)\n",
    "\n",
    "#Virtual SHAP plot (Force plot for all the predictions in July)\n",
    "shap.initjs()\n",
    "shap.force_plot(explainer.expected_value,shap_values_store[:31],X_test_store[:31])\n"
   ]
  },
  {
   "cell_type": "code",
   "execution_count": null,
   "id": "c01d22f8",
   "metadata": {},
   "outputs": [],
   "source": [
    "#Feature Importance Plot in order to choose the best variables for the model\n",
    "var_selection=pd.DataFrame({'Feature':X_train.columns,'Importance':model_lgbm_default.feature_importances_}).sort_values(by='Importance',ascending=False)\n",
    "print(var_selection.head(10)) #results\n",
    "\n",
    "#Plot with the importance of each variable\n",
    "plt.figure(figsize=(12,6))\n",
    "plt.barh(var_selection['Feature'][::-1],var_selection['Importance'][::-1])\n",
    "plt.title('Feature Importance')\n",
    "plt.xlabel('Importance')\n",
    "plt.tight_layout()\n",
    "plt.show()"
   ]
  },
  {
   "cell_type": "code",
   "execution_count": null,
   "id": "2b8d7972",
   "metadata": {},
   "outputs": [],
   "source": [
    "#Most important variables from the above plot \n",
    "important_features=['Promo2SinceWeek',\"CompetitionOpenSinceMonth\",\"CompetitionDistance\",\"CompetitionOpenSinceYear\",\"DayOfYear\"]\n",
    "\n",
    "#New model preparation with important variables\n",
    "X_train_new=X_train[important_features]\n",
    "X_test_new=X_test[important_features]\n",
    "\n",
    "#New model\n",
    "model_lgbm_new=LGBMRegressor(**par)\n",
    "model_lgbm_new.fit(X_train_new,y_train,eval_set=[(X_test_new,y_test)],eval_metric=\"rmse\",callbacks=[early_stopping(stopping_rounds=50),log_evaluation(period=100)])"
   ]
  },
  {
   "cell_type": "code",
   "execution_count": null,
   "id": "3dd5a24e",
   "metadata": {},
   "outputs": [],
   "source": [
    "#SHAP for second algorithm\n",
    "explainer_lgbm=shap.Explainer(model_lgbm_new)\n",
    "#SHap values for x_test\n",
    "shap_values1 = explainer_lgbm(X_test_new)\n",
    "#plot\n",
    "shap.summary_plot(shap_values1, X_test_new)"
   ]
  },
  {
   "cell_type": "code",
   "execution_count": null,
   "id": "209e617c",
   "metadata": {},
   "outputs": [],
   "source": [
    "#Predictions for second model\n",
    "y_pred=model_lgbm_new.predict(X_test_new)\n",
    "y_pred[y_pred<0]=0 #no negative predictions\n",
    "\n",
    "#Statistics for model evaluation\n",
    "rmse=np.sqrt(mean_squared_error(y_test,y_pred))\n",
    "mae=mean_absolute_error(y_test,y_pred)\n",
    "mape=mean_absolute_percentage_error(y_test,y_pred)\n",
    "r2=r2_score(y_test,y_pred)\n",
    "mse=mean_squared_error(y_test,y_pred)\n",
    "#Results\n",
    "print(f\"RMSE:{rmse:.1f}\")\n",
    "print(f\"MAE:{mae:.1f}\")\n",
    "print(f\"MAPE:{mape:.1f}\")\n",
    "print(f\"R²:{r2:.1f}\")\n",
    "print(f\"MSE:{mse:.1f}\")"
   ]
  },
  {
   "cell_type": "code",
   "execution_count": null,
   "id": "d88bda4c",
   "metadata": {},
   "outputs": [],
   "source": [
    "#CROSS VALIDATION for second model\n",
    "cv_scores=cross_val_score(model_lgbm_new,X_train_new,y_train,cv=tscv,scoring='neg_root_mean_squared_error')\n",
    "\n",
    "#RESULTS\n",
    "print(\"Cross-Validation RMSE Scores:\",-cv_scores)\n",
    "print(\"Mean RMSE:\",-np.mean(cv_scores))\n",
    "print(\"Standard Deviation of RMSE:\",np.std(-cv_scores))"
   ]
  },
  {
   "cell_type": "code",
   "execution_count": null,
   "id": "96310411",
   "metadata": {},
   "outputs": [],
   "source": [
    "#Statistics for every model predicitions per store ID\n",
    "test_data=test_data.copy() \n",
    "test_data['PredictedSales']=y_pred\n",
    "\n",
    "store_results = test_data.groupby('Store').apply(\n",
    "    lambda df: pd.Series({\n",
    "        'RMSE':np.sqrt(mean_squared_error(df['y'],df['PredictedSales'])),\n",
    "        'MAE':mean_absolute_error(df['y'],df['PredictedSales']),\n",
    "        #\"MAPE\":mean_absolute_percentage_error(df['y'],df['PredictedSales']),\n",
    "        'R²':r2_score(df['y'],df['PredictedSales'])\n",
    "    })\n",
    ").reset_index()\n",
    "print(store_results)\n",
    "print(store_results[\"RMSE\"].describe())"
   ]
  },
  {
   "cell_type": "code",
   "execution_count": null,
   "id": "fa63e898",
   "metadata": {},
   "outputs": [],
   "source": [
    "#Predictions vs Real values in test data for a specific store with second model\n",
    "store_ID=543\n",
    "store_df=test_data[test_data['Store']==store_ID] #sorted data\n",
    "store_df['Date']=pd.to_datetime(store_df['Date'])\n",
    "store_df=store_df.sort_values(by='Date')\n",
    "\n",
    "#Statistics\n",
    "rmse_store=np.sqrt(mean_squared_error(store_df['y'],store_df['PredictedSales']))\n",
    "mae_store=mean_absolute_error(store_df['y'],store_df['PredictedSales'])\n",
    "r2_store=r2_score(store_df['y'],store_df['PredictedSales'])\n",
    "mape=mean_absolute_percentage_error(store_df['y'],store_df['PredictedSales'])\n",
    "mse=mean_squared_error(store_df['y'],store_df['PredictedSales'])\n",
    "\n",
    "#Plot for predictions vs real values\n",
    "plt.figure(figsize=(12,5))\n",
    "plt.plot(store_df['Date'],store_df['y'],label='Real Sales')\n",
    "plt.plot(store_df['Date'],store_df['PredictedSales'],label='Predicted Sales')\n",
    "plt.title(f'Sales Predicitions for Store {store_ID}')\n",
    "plt.xlabel('Date')\n",
    "plt.ylabel('Sales')\n",
    "plt.legend()\n",
    "plt.title(f'LightGBM-Sales for Store {store_ID}')\n",
    "plt.suptitle(f\"RMSE:{rmse_store:.1f}| MAE:{mae_store:.1f}|MAPE:{mape:.1f}|MSE:{mse:.1f}|R2:{r2_store:.1f}\",fontsize=10)\n",
    "plt.xticks(rotation=45)\n",
    "plt.tight_layout()\n",
    "plt.show()"
   ]
  },
  {
   "cell_type": "code",
   "execution_count": null,
   "id": "cb7376e5",
   "metadata": {},
   "outputs": [],
   "source": [
    "#New Model with some important variables from my point of view\n",
    "features=['Promo2',\"Promo\",\"StoreType\",\"Assortment\",\"StateHoliday\",\"SchoolHoliday\"]\n",
    "\n",
    "#New model preparation with important variables\n",
    "X_train_neww=X_train[features]\n",
    "X_test_neww=X_test[features]\n",
    "\n",
    "#New model\n",
    "model_lgbm_neww=LGBMRegressor(**par)\n",
    "model_lgbm_neww.fit(X_train_neww,y_train,eval_set=[(X_test_neww,y_test)],eval_metric=\"rmse\",callbacks=[early_stopping(stopping_rounds=50),log_evaluation(period=100)])\n",
    "\n",
    "#SHAP\n",
    "explainer_lgbm=shap.Explainer(model_lgbm_neww)\n",
    "#SHap values for x_test\n",
    "shap_values1 = explainer_lgbm(X_test_neww)\n",
    "#plot\n",
    "shap.summary_plot(shap_values1, X_test_neww)\n",
    "\n",
    "#Predictions\n",
    "y_pred=model_lgbm_neww.predict(X_test_neww)\n",
    "y_pred[y_pred<0]=0 #no negative forecasts\n",
    "\n",
    "#Statistics for model fit\n",
    "rmse=np.sqrt(mean_squared_error(y_test,y_pred))\n",
    "mae=mean_absolute_error(y_test,y_pred)\n",
    "mape=mean_absolute_percentage_error(y_test,y_pred)\n",
    "#r2=r2_score(y_test,y_pred)\n",
    "mse=mean_squared_error(y_test,y_pred)\n",
    "#Results\n",
    "print(f\"RMSE:{rmse:.1f}\")\n",
    "print(f\"MAE:{mae:.1f}\")\n",
    "print(f\"MAPE:{mape:.1f}\")\n",
    "#print(f\"R²:{r2:.1f}\")\n",
    "print(f\"MSE:{mse:.1f}\")\n",
    "\n",
    "#CROSS VALIDATION CHECK\n",
    "cv_scores=cross_val_score(model_lgbm_neww,X_train_neww,y_train,cv=tscv,scoring='neg_root_mean_squared_error')\n",
    "#RESULTS\n",
    "print(\"Cross-Validation RMSE Scores:\",-cv_scores)\n",
    "print(\"Mean RMSE:\",-np.mean(cv_scores))\n",
    "print(\"Standard Deviation of RMSE:\",np.std(-cv_scores))\n",
    "\n",
    "test_data=test_data.copy() \n",
    "test_data['PredictedSaless']=y_pred"
   ]
  },
  {
   "cell_type": "code",
   "execution_count": null,
   "id": "07d44134",
   "metadata": {},
   "outputs": [],
   "source": [
    "#Predictions vs Real values in test data for a specific store for new model\n",
    "store_ID=543\n",
    "store_df=test_data[test_data['Store']==store_ID]\n",
    "store_df['Date']=pd.to_datetime(store_df['Date'])\n",
    "store_df=store_df.sort_values(by='Date')\n",
    "\n",
    "#Statistics\n",
    "rmse_store=np.sqrt(mean_squared_error(store_df['y'],store_df['PredictedSaless']))\n",
    "mae_store=mean_absolute_error(store_df['y'],store_df['PredictedSaless'])\n",
    "r2_store=r2_score(store_df['y'],store_df['PredictedSaless'])\n",
    "mape=mean_absolute_percentage_error(store_df['y'],store_df['PredictedSaless'])\n",
    "mse=mean_squared_error(store_df['y'],store_df['PredictedSaless'])\n",
    "\n",
    "#Plot for predictions vs real values\n",
    "plt.figure(figsize=(12,5))\n",
    "plt.plot(store_df['Date'],store_df['y'],label='Real Sales')\n",
    "plt.plot(store_df['Date'],store_df['PredictedSaless'],label='Predicted Sales')\n",
    "plt.title(f'Sales Predicitions for Store {store_ID}')\n",
    "plt.xlabel('Date')\n",
    "plt.ylabel('Sales')\n",
    "plt.legend()\n",
    "plt.title(f'LightGBM-Sales for Store {store_ID}')\n",
    "plt.suptitle(f\"RMSE:{rmse_store:.1f}| MAE:{mae_store:.1f}|MAPE:{mape:.1f}|MSE:{mse:.1f}|R2:{r2_store}\",fontsize=10)\n",
    "plt.xticks(rotation=45)\n",
    "plt.tight_layout()\n",
    "plt.show()"
   ]
  },
  {
   "cell_type": "code",
   "execution_count": null,
   "id": "4eb15d1f",
   "metadata": {},
   "outputs": [],
   "source": [
    "##The best model is the one with all the variables\n",
    "#As a result i use all the variables for future predictions"
   ]
  },
  {
   "cell_type": "code",
   "execution_count": null,
   "id": "d2f1b5e5",
   "metadata": {},
   "outputs": [],
   "source": [
    "#Time charachteristics for train data,test data and predictions data (t) \n",
    "def create_date_features(df):\n",
    "    df[\"Date\"]=pd.to_datetime(df[\"Date\"])\n",
    "    df[\"DayOfWeek\"]=df[\"Date\"].dt.dayofweek\n",
    "    df[\"Month\"]=df[\"Date\"].dt.month\n",
    "    df[\"DayOfYear\"]=df[\"Date\"].dt.day\n",
    "    df[\"IsWeekend\"]=(df[\"DayOfWeek\"] >= 5).astype(int)\n",
    "    return df\n",
    "\n",
    "for df in [train_data,test_data,t]:\n",
    "    create_date_features(df)\n",
    "\n",
    "#Model variables\n",
    "features=[\"StoreType\",\"Assortment\",'CompetitionOpenSinceMonth','CompetitionDistance',\"CompetitionOpenSinceYear\",\"Promo2SinceWeek\",\"DayOfWeek\",\n",
    "\"Month\",\"DayOfYear\",\"IsWeekend\",\"Promo\",\"Promo2\",\"Promo2SinceYear\",\"Store\",\"PromoInterval\",\"StateHoliday\",\"SchoolHoliday\",\"Open\"]\n",
    "\n",
    "#Variables that need to be converted as categorical\n",
    "cat_cols=[\"CompetitionOpenSinceYear\",\"Promo2SinceWeek\",\"CompetitionOpenSinceMonth\",\"StoreType\",\"Assortment\",\"Promo\",\"Promo2\",\"Promo2SinceYear\",\"Store\"\n",
    ",\"PromoInterval\",\"StateHoliday\",\"SchoolHoliday\",\"Open\"]\n",
    "\n",
    "target=\"y\" #sales\n",
    "\n",
    "# Split data\n",
    "X_train,y_train=train_data[features],train_data[target]\n",
    "X_test,y_test=test_data[features],test_data[target]\n",
    "X_future=t[features]\n",
    "\n",
    "#Features as categorical in all datasets\n",
    "for col in cat_cols:\n",
    "    for df in [X_train, X_test, X_future]:\n",
    "        df[col] = df[col].astype(\"category\")\n",
    "\n",
    "\n",
    "lgbmpred_model=LGBMRegressor()\n",
    "lgbmpred_model.fit(X_train,y_train,eval_set=[(X_test,y_test)],eval_metric=\"rmse\",callbacks=[early_stopping(stopping_rounds=50),log_evaluation(period=100)])\n",
    "#Predictions\n",
    "future_preds=lgbmpred_model.predict(X_future)\n",
    "future_preds[future_preds<0]=0 #negative predictions equal to 0\n",
    "t[\"PredictedSales\"]=future_preds #predictions are saved on t data frame that contains future information"
   ]
  },
  {
   "cell_type": "code",
   "execution_count": null,
   "id": "ea0a0b6b",
   "metadata": {},
   "outputs": [],
   "source": [
    "#Choose a store id\n",
    "store_id=262\n",
    "#Predictions for specific store\n",
    "store_preds=t[t[\"Store\"]==store_id][[\"Date\",\"PredictedSales\"]].copy()\n",
    "print(store_preds) #check\n",
    "\n",
    "#I create a function that returns only the predictions for stores and the plot\n",
    "def plot_store_forecast(store_id):\n",
    "    store_data=t[t[\"Store\"]==store_id].copy()\n",
    "    store_data.sort_values(\"Date\",inplace=True)\n",
    "    \n",
    "    plt.figure(figsize=(10,6))\n",
    "    plt.plot(store_data[\"Date\"],store_data[\"PredictedSales\"],label=f\"Forecast for Store {store_id}\",color='green')\n",
    "    plt.title(f\"Light GBM-Predicted Sales for Store {store_id} (August - September 2015)\")\n",
    "    plt.xlabel(\"Date\")\n",
    "    plt.ylabel(\"Sales\")\n",
    "    plt.xticks(rotation=45)\n",
    "    plt.legend()\n",
    "    plt.tight_layout()\n",
    "    plt.show()\n",
    "\n",
    "#Function\n",
    "plot_store_forecast(262)\n"
   ]
  },
  {
   "cell_type": "code",
   "execution_count": null,
   "id": "6529df36",
   "metadata": {},
   "outputs": [],
   "source": [
    "#Split Store IDs in 3 parts becasuse python can't run\n",
    "store_ids=test_data['Store'].unique()\n",
    "n=len(store_ids)\n",
    "one_third=n//3\n",
    "two_third=2*(n//3)\n",
    "first_part=store_ids[:one_third]\n",
    "second_part=store_ids[one_third:two_third]\n",
    "third_part=store_ids[two_third:]"
   ]
  },
  {
   "cell_type": "code",
   "execution_count": null,
   "id": "2fd48a4e",
   "metadata": {},
   "outputs": [],
   "source": [
    "#Plots with predictions vs real values for test set for all the stores in first part\n",
    "#Model with all the features - Default parameters\n",
    "#For loop for all the stores\n",
    "for store_id in first_part:\n",
    "    store_data=test_data[test_data['Store']==store_id]\n",
    "\n",
    "#Statistics\n",
    "    rmse_store=np.sqrt(mean_squared_error(store_data['y'],store_data['PredictedSalesLGBMdefault']))\n",
    "    mae_store=mean_absolute_error(store_data['y'],store_data['PredictedSalesLGBMdefault'])\n",
    "    r2_store=r2_score(store_data['y'],store_data['PredictedSalesLGBMdefault'])\n",
    "    mape=mean_absolute_percentage_error(store_data['y'],store_data['PredictedSalesLGBMdefault'])\n",
    "\n",
    "#Plot for predictions vs real values\n",
    "    plt.figure(figsize=(12,5))\n",
    "    plt.plot(store_data['Date'],store_data['y'],label='Real Sales')\n",
    "    plt.plot(store_data['Date'],store_data['PredictedSalesLGBMdefault'],label='Predicted Sales')\n",
    "    plt.title(f'Sales Predicitions for Store {store_id}')\n",
    "    plt.xlabel('Date')\n",
    "    plt.ylabel('Sales')\n",
    "    plt.legend()\n",
    "    plt.title(f'Sales for Store {store_id}')\n",
    "    plt.suptitle(f\"RMSE:{rmse_store:.2f}| MAE:{mae_store:.2f}| R²:{r2_store:.4f} | MAPE:{mape:.4f}\",fontsize=10)\n",
    "    plt.xticks(rotation=45)\n",
    "    plt.tight_layout()\n",
    "    plt.show()"
   ]
  },
  {
   "cell_type": "code",
   "execution_count": null,
   "id": "f7701e1c",
   "metadata": {},
   "outputs": [],
   "source": [
    "#Plots with predictions vs real values for all the stores in second part\n",
    "#Model that includes all the features , with default LightGBM parameters\n",
    "#For loop for all the stores\n",
    "for store_id in second_part:\n",
    "    store_data=test_data[test_data['Store']==store_id]\n",
    "\n",
    "#Statistics\n",
    "    rmse_store=np.sqrt(mean_squared_error(store_data['y'],store_data['PredictedSalesLGBMdefault']))\n",
    "    mae_store=mean_absolute_error(store_data['y'],store_data['PredictedSalesLGBMdefault'])\n",
    "    r2_store=r2_score(store_data['y'],store_data['PredictedSalesLGBMdefault'])\n",
    "    mape=mean_absolute_percentage_error(store_data['y'],store_data['PredictedSalesLGBMdefault'])\n",
    "\n",
    "#Plot for predictions vs real values\n",
    "    plt.figure(figsize=(12,5))\n",
    "    plt.plot(store_data['Date'],store_data['y'],label='Real Sales')\n",
    "    plt.plot(store_data['Date'],store_data['PredictedSalesLGBMdefault'],label='Predicted Sales')\n",
    "    plt.title(f'Sales Predicitions for Store {store_id}')\n",
    "    plt.xlabel('Date')\n",
    "    plt.ylabel('Sales')\n",
    "    plt.legend()\n",
    "    plt.title(f'Sales for Store {store_id}')\n",
    "    plt.suptitle(f\"RMSE:{rmse_store:.2f}| MAE:{mae_store:.2f}| R²:{r2_store:.4f}| MAPE:{mape:.4f}\",fontsize=10)\n",
    "    plt.xticks(rotation=45)\n",
    "    plt.tight_layout()\n",
    "    plt.show()"
   ]
  },
  {
   "cell_type": "code",
   "execution_count": null,
   "id": "1d7cf09b",
   "metadata": {},
   "outputs": [],
   "source": [
    "#Plots with predictions vs real values for all the stores in third part\n",
    "#Model with all the features \n",
    "#For loop for all the stores\n",
    "for store_id in third_part:\n",
    "    store_data=test_data[test_data['Store']==store_id]\n",
    "\n",
    "#Statistics\n",
    "    rmse_store=np.sqrt(mean_squared_error(store_data['y'],store_data['PredictedSalesLGBMdefault']))\n",
    "    mae_store=mean_absolute_error(store_data['y'],store_data['PredictedSalesLGBMdefault'])\n",
    "    r2_store=r2_score(store_data['y'],store_data['PredictedSalesLGBMdefault'])\n",
    "    mape=mean_absolute_percentage_error(store_data['y'],store_data['PredictedSalesLGBMdefault'])\n",
    "\n",
    "#Plot for predictions vs real values\n",
    "    plt.figure(figsize=(12,5))\n",
    "    plt.plot(store_data['Date'],store_data['y'],label='Real Sales')\n",
    "    plt.plot(store_data['Date'],store_data['PredictedSalesLGBMdefault'],label='Predicted Sales')\n",
    "    plt.title(f'Sales Predicitions for Store {store_id}')\n",
    "    plt.xlabel('Date')\n",
    "    plt.ylabel('Sales')\n",
    "    plt.legend()\n",
    "    plt.title(f'Sales for Store {store_id}')\n",
    "    plt.suptitle(f\"RMSE:{rmse_store:.2f}| MAE:{mae_store:.2f}| R²:{r2_store:.4f}| MAPE:{mape:.4f}\",fontsize=10)\n",
    "    plt.xticks(rotation=45)\n",
    "    plt.tight_layout()\n",
    "    plt.show()"
   ]
  },
  {
   "cell_type": "code",
   "execution_count": null,
   "id": "c60418d9",
   "metadata": {},
   "outputs": [],
   "source": [
    "##NOT NEEDED ##\n",
    "\n",
    "#Model with standarized features beacause of the outliers\n",
    "#scaler=StandardScaler()\n",
    "#dummy variables\n",
    "#X_train_dummies=pd.get_dummies(X_train,drop_first=True)\n",
    "#X_test_dummies=pd.get_dummies(X_test,drop_first=True)\n",
    "#Merge with data\n",
    "#X_train_dummies,X_test_dummies=X_train_dummies.align(X_test_dummies,fill_value=0,axis=1)\n",
    "#X_train_scaled=scaler.fit_transform(X_train_dummies)\n",
    "#X_test_scaled=scaler.transform(X_test_dummies)\n",
    "\n",
    "#As dataframe\n",
    "#X_train_scaled=pd.DataFrame(X_train_scaled,columns=X_train_dummies.columns)\n",
    "#X_test_scaled=pd.DataFrame(X_test_scaled,columns=X_test_dummies.columns)\n",
    "#Some columns have True or False in dummy variables\n",
    "#print(X_train_dummies.dtypes.value_counts())\n",
    "#print(X_test_dummies.dtypes.value_counts())\n",
    "\n",
    "#bool_columns=X_train_dummies.select_dtypes(include=['bool']).columns\n",
    "#print(bool_columns)\n",
    "#bool_columns1=X_test_dummies.select_dtypes(include=['bool']).columns\n",
    "#print(bool_columns1)\n",
    "\n",
    "#Convert bool as int\n",
    "#X_train_dummies[bool_columns]=X_train_dummies[bool_columns].astype(int)\n",
    "#X_test_dummies[bool_columns]=X_test_dummies[bool_columns].astype(int)\n",
    "#print(X_train_dummies.dtypes.value_counts())#check\n",
    "#print(X_test_dummies.dtypes.value_counts())#check\n",
    "\n",
    "#model with scaling\n",
    "#model_lgbms=LGBMRegressor(**par)\n",
    "#model_lgbms.fit(X_train_scaled,y_train,eval_set=[(X_test_scaled,y_test)],eval_metric=\"rmse\",callbacks=[early_stopping(stopping_rounds=50),log_evaluation(period=100)])\n",
    "\n",
    "##PROBLEM WITH FEATURE NAMESS###"
   ]
  },
  {
   "cell_type": "markdown",
   "id": "7b8b0cf6",
   "metadata": {},
   "source": [
    "## XGBoost model"
   ]
  },
  {
   "cell_type": "code",
   "execution_count": null,
   "id": "a7f9bdfc",
   "metadata": {},
   "outputs": [],
   "source": [
    "#XGBoost model\n",
    "categorical_columns=['StoreType','Assortment','PromoInterval',\"DayOfWeek\",\"Open\",\"CompetitionOpenSinceMonth\",\"CompetitionOpenSinceYear\",\"PromoInterval\",\"Promo2SinceWeek\",\"Promo2SinceYear\"] \n",
    "for col in categorical_columns:\n",
    "   X_train[col]=X_train[col].astype('category')\n",
    "   X_test[col]=X_test[col].astype('category')\n",
    "\n",
    "#Hyperparameter tuning\n",
    "param_grid={\n",
    "    'max_depth':[3,5],\n",
    "    'learning_rate':[0.01,0.1,0.3],\n",
    "    'n_estimators':[100,300,500]\n",
    "}\n",
    "\n",
    "#XGBoost Regressor\n",
    "xgb=XGBRegressor(n_estimators=100, objective='reg:squarederror', random_state=42,enable_categorical=True)\n",
    "\n",
    "#Grid Search\n",
    "grid_search=GridSearchCV(estimator=xgb,param_grid=param_grid,scoring='neg_root_mean_squared_error',cv=3,n_jobs=-1,verbose=2)\n",
    "\n",
    "#Model Train\n",
    "grid_search.fit(X_train, y_train)\n",
    "print(f\"Best parameters: {grid_search.best_params_}\")\n",
    "print(f\"Best RMSE Score: {-grid_search.best_score_}\")"
   ]
  },
  {
   "cell_type": "code",
   "execution_count": null,
   "id": "c6881301",
   "metadata": {},
   "outputs": [],
   "source": [
    "#Preparation\n",
    "target='y' #sales\n",
    "cols=['y','Date',\"StateHolidayIndicators\",\"PromotionFlags\",\"day\",\"year\",\"month\",\"HolidayIndicators\",\"Customers\",\"Store\"] \n",
    "X_train=train_data.drop(columns=cols)\n",
    "y_train=train_data[target]\n",
    "X_test=test_data.drop(columns=cols)\n",
    "y_test=test_data[target]"
   ]
  },
  {
   "cell_type": "code",
   "execution_count": null,
   "id": "47c513f5",
   "metadata": {},
   "outputs": [],
   "source": [
    "#XGBoost model with all the variables and parameters from hyperparameter tuning\n",
    "categorical_columns=[\"StateHoliday\",'StoreType','Assortment','PromoInterval',\"DayOfWeek\",\"Open\",\"CompetitionOpenSinceMonth\",\"CompetitionOpenSinceYear\",\"PromoInterval\",\"Promo2SinceWeek\",\"Promo2SinceYear\",\"Promo\",\"Promo2\"] \n",
    "for col in categorical_columns:\n",
    "   X_train[col]=X_train[col].astype('category')\n",
    "   X_test[col]=X_test[col].astype('category')\n",
    "\n",
    "#model with best parameters\n",
    "xgb_model=XGBRegressor(objective='reg:squarederror',learning_rate=0.3,max_depth=5,n_estimators=500,verbosity=1,enable_categorical=True)\n",
    "xgb_model.fit(X_train,y_train)"
   ]
  },
  {
   "cell_type": "code",
   "execution_count": null,
   "id": "8171deca",
   "metadata": {},
   "outputs": [],
   "source": [
    "#drop columns with predictions from previous models in x_test\n",
    "X_test=X_test.loc[:, ~X_test.columns.str.startswith('Predicted')]\n",
    "\n",
    "#predictions for first model\n",
    "y_predict=xgb_model.predict(X_test)\n",
    "y_predict[y_predict<0]=0\n",
    "\n",
    "#model performance\n",
    "rmse=np.sqrt(mean_squared_error(y_test,y_predict))\n",
    "r2=r2_score(y_test,y_predict)\n",
    "mape=mean_absolute_percentage_error(y_test,y_predict)\n",
    "#results\n",
    "print(f\"RMSE:{rmse:.1f}\")\n",
    "print(f\"R2:{r2:.1f}\")\n",
    "print(f\"MAPE:{mape:.1f}\")\n",
    "\n",
    "#CROSS VALIDATION\n",
    "cv_scores=cross_val_score(xgb_model,X_train,y_train,cv=tscv,scoring='neg_root_mean_squared_error')\n",
    "#Results\n",
    "print(\"Cross-Validation RMSE Scores:\", -cv_scores)\n",
    "print(\"Mean RMSE:\", -np.mean(cv_scores))\n",
    "print(\"Standard Deviation of RMSE:\",np.std(-cv_scores))"
   ]
  },
  {
   "cell_type": "code",
   "execution_count": null,
   "id": "dbc8491a",
   "metadata": {},
   "outputs": [],
   "source": [
    "#SHAP for XGBOOST that includes all the series\n",
    "explainer=shap.Explainer(xgb_model)\n",
    "#SHap values for x_test\n",
    "shap_values=explainer(X_test)\n",
    "#plot\n",
    "shap.summary_plot(shap_values,X_test)"
   ]
  },
  {
   "cell_type": "code",
   "execution_count": null,
   "id": "185831e9",
   "metadata": {},
   "outputs": [],
   "source": [
    "#Statistics for every model predicitions per store ID with first model\n",
    "test_data=test_data.copy() \n",
    "test_data['PredictedSalesXG']=y_predict\n",
    "\n",
    "store_results = test_data.groupby('Store').apply(\n",
    "    lambda df: pd.Series({\n",
    "        'RMSE':np.sqrt(mean_squared_error(df['y'],df['PredictedSalesXG'])),\n",
    "        'R²':r2_score(df['y'],df['PredictedSalesXG']),\n",
    "       # \"MAPE\":mean_absolute_percentage_error(df['y'],df['PredictedSalesXG'])\n",
    "    })\n",
    ").reset_index()\n",
    "print(store_results)\n",
    "print(store_results[\"RMSE\"].describe())\n",
    "print(store_results[\"R²\"].describe())"
   ]
  },
  {
   "cell_type": "code",
   "execution_count": null,
   "id": "0e324c71",
   "metadata": {},
   "outputs": [],
   "source": [
    "#Predictions vs real sales for a specific store\n",
    "#XGBoost Model that has all variables - Parameters with Hyperparameter tuning\n",
    "store_ID=543\n",
    "store_df=test_data[test_data['Store']==store_ID]\n",
    "store_df['Date']=pd.to_datetime(store_df['Date'])\n",
    "store_df=store_df.sort_values(by='Date')\n",
    "\n",
    "#Statistics\n",
    "rmse_store=np.sqrt(mean_squared_error(store_df['y'],store_df['PredictedSalesXG']))\n",
    "r2_store=r2_score(store_df['y'],store_df['PredictedSalesXG'])\n",
    "mape=mean_absolute_percentage_error(store_df['y'],store_df['PredictedSalesXG'])\n",
    "mae=mean_absolute_error(store_df[\"y\"],store_df[\"PredictedSalesXG\"])\n",
    "\n",
    "#Plot for predictions vs real values\n",
    "plt.figure(figsize=(12,5))\n",
    "plt.plot(store_df['Date'],store_df['y'],label='Real Sales')\n",
    "plt.plot(store_df['Date'],store_df['PredictedSalesXG'],label='Predicted Sales')\n",
    "plt.title(f'Sales Predicitions for Store {store_ID}')\n",
    "plt.xlabel('Date')\n",
    "plt.ylabel('Sales')\n",
    "plt.legend()\n",
    "plt.title(f'XGBoost-Sales for Store {store_ID}')\n",
    "plt.suptitle(f\"RMSE:{rmse_store:.1f}| MAE:{mae:.1f}| MAPE:{mape:.1f}|R2:{r2_store:.2f}\",fontsize=10)\n",
    "plt.xticks(rotation=45)\n",
    "plt.tight_layout()\n",
    "plt.show()\n",
    "\n",
    "#SHAP plot for specific store\n",
    "#Predictions for specific store\n",
    "X_test_store=X_test[test_data['Store']==store_ID]\n",
    "#SHAP Explainer\n",
    "explainer=shap.TreeExplainer(xgb_model,feature_perturbation=\"tree_path_dependent\")\n",
    "#Shap values\n",
    "shap_values_store=explainer.shap_values(X_test_store)\n",
    "#SHAP summary plot\n",
    "shap.summary_plot(shap_values_store,X_test_store,show=True)\n",
    "\n",
    "#Virtual SHAP plot for predictions on test dataset\n",
    "shap.initjs()\n",
    "shap.force_plot(explainer.expected_value,shap_values_store[:31],X_test_store[:31]) #Values for July \n"
   ]
  },
  {
   "cell_type": "code",
   "execution_count": null,
   "id": "3aaf7fce",
   "metadata": {},
   "outputs": [],
   "source": [
    "#model with default parameters\n",
    "xgb_model_default=XGBRegressor(objective='reg:squarederror',enable_categorical=True)\n",
    "xgb_model_default.fit(X_train,y_train)\n",
    "\n",
    "#predictions for first model\n",
    "y_predict_default=xgb_model_default.predict(X_test)\n",
    "y_predict_default[y_predict_default<0]=0\n",
    "\n",
    "#model performance\n",
    "rmse=np.sqrt(mean_squared_error(y_test,y_predict_default))\n",
    "print(f\"RMSE:{rmse:.1f}\")\n",
    "\n",
    "#CROSS VALIDATION\n",
    "cv_scores=cross_val_score(xgb_model_default,X_train, y_train,cv=tscv,scoring='neg_root_mean_squared_error')\n",
    "#Results\n",
    "print(\"Cross-Validation RMSE Scores:\", -cv_scores)\n",
    "print(\"Mean RMSE:\", -np.mean(cv_scores))\n",
    "print(\"Standard Deviation of RMSE:\",np.std(-cv_scores))\n",
    "\n",
    "#Statistics for every model predicitions per store ID with default model\n",
    "test_data=test_data.copy() \n",
    "test_data['PredictedSalesXGdefault']=y_predict_default\n",
    "\n",
    "store_results2 = test_data.groupby('Store').apply(\n",
    "    lambda df: pd.Series({\n",
    "        'RMSE':np.sqrt(mean_squared_error(df['y'],df['PredictedSalesXGdefault'])),\n",
    "    })\n",
    ").reset_index()\n",
    "print(store_results2)\n",
    "print(store_results2[\"RMSE\"].describe())"
   ]
  },
  {
   "cell_type": "code",
   "execution_count": null,
   "id": "bdfd83f9",
   "metadata": {},
   "outputs": [],
   "source": [
    "#Predictions vs real sales for a specific store\n",
    "#XGBoost Model that has all variables -Default Parameters \n",
    "store_ID=543\n",
    "store_df=test_data[test_data['Store']==store_ID]\n",
    "store_df['Date']=pd.to_datetime(store_df['Date'])\n",
    "store_df=store_df.sort_values(by='Date')\n",
    "\n",
    "#Statistics\n",
    "rmse_store=np.sqrt(mean_squared_error(store_df['y'],store_df['PredictedSalesXGdefault']))\n",
    "r2_store=r2_score(store_df['y'],store_df['PredictedSalesXGdefault'])\n",
    "mape=mean_absolute_percentage_error(store_df['y'],store_df['PredictedSalesXGdefault'])\n",
    "mae=mean_absolute_error(store_df[\"y\"],store_df[\"PredictedSalesXGdefault\"])\n",
    "\n",
    "#Plot for predictions vs real values\n",
    "plt.figure(figsize=(12,5))\n",
    "plt.plot(store_df['Date'],store_df['y'],label='Real Sales')\n",
    "plt.plot(store_df['Date'],store_df['PredictedSalesXGdefault'],label='Predicted Sales')\n",
    "plt.title(f'Sales Predicitions for Store {store_ID}')\n",
    "plt.xlabel('Date')\n",
    "plt.ylabel('Sales')\n",
    "plt.legend()\n",
    "plt.title(f'Default XGBoost-Sales for Store {store_ID}')\n",
    "plt.suptitle(f\"RMSE:{rmse_store:.1f}| MAE:{mae:.1f}| MAPE:{mape:.1f}|R2:{r2_store:.2f}\",fontsize=10)\n",
    "plt.xticks(rotation=45)\n",
    "plt.tight_layout()\n",
    "plt.show()"
   ]
  },
  {
   "cell_type": "code",
   "execution_count": null,
   "id": "7df9a90d",
   "metadata": {},
   "outputs": [],
   "source": [
    "#Variables selection with feature importance plot\n",
    "plot_importance(xgb_model,importance_type='gain',max_num_features=7)\n",
    "plt.show()"
   ]
  },
  {
   "cell_type": "code",
   "execution_count": null,
   "id": "508fd08a",
   "metadata": {},
   "outputs": [],
   "source": [
    "#important features from feature importance plot\n",
    "selected_features=['Promo2','Open','Promo2SinceYear',\"Promo\",\"Assortment\",\"StoreType\",\"CompetitionOpenSinceYear\"]\n",
    "X_train_new=X_train[selected_features]\n",
    "X_test_new=X_test[selected_features]"
   ]
  },
  {
   "cell_type": "code",
   "execution_count": null,
   "id": "785ff9dd",
   "metadata": {},
   "outputs": [],
   "source": [
    "#new model with important features\n",
    "xgb_model1=XGBRegressor(objective='reg:squarederror',learning_rate=0.05,verbosity=1,enable_categorical=True)\n",
    "xgb_model1.fit(X_train_new,y_train)\n",
    "\n",
    "#predictions\n",
    "y_predict1=xgb_model1.predict(X_test_new)\n",
    "y_predict1[y_predict1<0]=0\n",
    "\n",
    "#model performance\n",
    "rmse=np.sqrt(mean_squared_error(y_test,y_predict))\n",
    "r2=r2_score(y_test,y_predict)\n",
    "mape=mean_absolute_percentage_error(y_test,y_predict)\n",
    "#results\n",
    "print(f\"RMSE:{rmse:.1f}\")\n",
    "print(f\"R2:{r2:.1f}\")\n",
    "print(f\"MAPE:{mape:.1f}\")"
   ]
  },
  {
   "cell_type": "code",
   "execution_count": null,
   "id": "2825ada9",
   "metadata": {},
   "outputs": [],
   "source": [
    "#SHAP for XGBOOST algorithm\n",
    "explainer=shap.Explainer(xgb_model1)\n",
    "#SHap values for x_test\n",
    "shap_values=explainer(X_test_new)\n",
    "#plot\n",
    "shap.summary_plot(shap_values, X_test_new)"
   ]
  },
  {
   "cell_type": "code",
   "execution_count": null,
   "id": "3be171b4",
   "metadata": {},
   "outputs": [],
   "source": [
    "#CROSS VALIDATION\n",
    "cv_scores=cross_val_score(xgb_model1, X_train_new, y_train,cv=tscv,scoring='neg_root_mean_squared_error')\n",
    "#Results\n",
    "print(\"Cross-Validation RMSE Scores:\", -cv_scores)\n",
    "print(\"Mean RMSE:\", -np.mean(cv_scores))\n",
    "print(\"Standard Deviation of RMSE:\",np.std(-cv_scores))"
   ]
  },
  {
   "cell_type": "code",
   "execution_count": null,
   "id": "b93e4881",
   "metadata": {},
   "outputs": [],
   "source": [
    "#Statistics for every model predicitions per store ID\n",
    "test_data=test_data.copy() \n",
    "test_data['PredictedSalesXG1']=y_predict1\n",
    "\n",
    "store_results = test_data.groupby('Store').apply(\n",
    "    lambda df: pd.Series({\n",
    "        'RMSE':np.sqrt(mean_squared_error(df['y'],df['PredictedSalesXG1'])),\n",
    "        #'R²':r2_score(df['y'],df['PredictedSalesXG1']),\n",
    "       # \"MAPE\":mean_absolute_percentage_error(df['y'],df['PredictedSalesXG1'])\n",
    "    })\n",
    ").reset_index()\n",
    "print(store_results)\n",
    "print(store_results[\"RMSE\"].describe())"
   ]
  },
  {
   "cell_type": "code",
   "execution_count": null,
   "id": "135657ab",
   "metadata": {},
   "outputs": [],
   "source": [
    "#Predictions for a specific store\n",
    "#Choose a specific store \n",
    "store_ID=543\n",
    "store_df=test_data[test_data['Store']==store_ID]\n",
    "store_df['Date']=pd.to_datetime(store_df['Date'])\n",
    "store_df=store_df.sort_values(by='Date')\n",
    "\n",
    "#Statistics\n",
    "rmse_store=np.sqrt(mean_squared_error(store_df['y'],store_df['PredictedSalesXG1']))\n",
    "r2_store=r2_score(store_df['y'],store_df['PredictedSalesXG1'])\n",
    "mape=mean_absolute_percentage_error(store_df['y'],store_df['PredictedSalesXG1'])\n",
    "mae=mean_absolute_error(store_df[\"y\"],store_df[\"PredictedSalesXG1\"])\n",
    "\n",
    "#Plot for predictions vs real values\n",
    "plt.figure(figsize=(12,5))\n",
    "plt.plot(store_df['Date'],store_df['y'],label='Real Sales')\n",
    "plt.plot(store_df['Date'],store_df['PredictedSalesXG1'],label='Predicted Sales')\n",
    "plt.title(f'Sales Predicitions for Store {store_ID}')\n",
    "plt.xlabel('Date')\n",
    "plt.ylabel('Sales')\n",
    "plt.legend()\n",
    "plt.title(f'XGBoost-Sales for Store {store_ID}')\n",
    "plt.suptitle(f\"RMSE:{rmse_store:.2f}| MAE:{mae:.4f}| MAPE:{mape:.4f}\",fontsize=10)\n",
    "plt.xticks(rotation=45)\n",
    "plt.tight_layout()\n",
    "plt.show()"
   ]
  },
  {
   "cell_type": "code",
   "execution_count": null,
   "id": "f59fb69a",
   "metadata": {},
   "outputs": [],
   "source": [
    "#Plots for MODEL WITH ALL FEATURES\n",
    "#Plots with predictions vs real values for all the stores in first part \n",
    "#For loop for all the stores\n",
    "for store_id in first_part:\n",
    "    store_data=test_data[test_data['Store']==store_id]\n",
    "    store_data['Date']=pd.to_datetime(store_data['Date'])\n",
    "    store_data=store_data.sort_values(by='Date')\n",
    "\n",
    "#Statistics\n",
    "    rmse_store=np.sqrt(mean_squared_error(store_data['y'],store_data['PredictedSalesXG']))\n",
    "    r2_store=r2_score(store_data['y'],store_data['PredictedSalesXG'])\n",
    "    mape=mean_absolute_percentage_error(store_data['y'],store_data['PredictedSalesXG'])\n",
    "\n",
    "#Plot for predictions vs real values\n",
    "    plt.figure(figsize=(12,5))\n",
    "    plt.plot(store_data['Date'],store_data['y'],label='Real Sales')\n",
    "    plt.plot(store_data['Date'],store_data['PredictedSalesXG'],label='Predicted Sales')\n",
    "    plt.title(f'Sales Predicitions for Store {store_id}')\n",
    "    plt.xlabel('Date')\n",
    "    plt.ylabel('Sales')\n",
    "    plt.legend()\n",
    "    plt.title(f'Sales for Store {store_id}')\n",
    "    plt.suptitle(f\"RMSE:{rmse_store:.2f}|R²:{r2_store:.4f}| MAPE:{mape:.4f}\",fontsize=10)\n",
    "    plt.xticks(rotation=45)\n",
    "    plt.tight_layout()\n",
    "    plt.show()"
   ]
  },
  {
   "cell_type": "code",
   "execution_count": null,
   "id": "473fd59d",
   "metadata": {},
   "outputs": [],
   "source": [
    "#Plots for MODEL WITH ALL FEATURES\n",
    "#Plots with predictions vs real values  for all the stores in second part\n",
    "#For loop for all the stores\n",
    "for store_id in second_part:\n",
    "    store_data=test_data[test_data['Store']==store_id]\n",
    "    store_data['Date']=pd.to_datetime(store_data['Date'])\n",
    "    store_data=store_data.sort_values(by='Date')\n",
    "\n",
    "#Statistics\n",
    "    rmse_store=np.sqrt(mean_squared_error(store_data['y'],store_data['PredictedSalesXG']))\n",
    "    r2_store=r2_score(store_data['y'],store_data['PredictedSalesXG'])\n",
    "    mape=mean_absolute_percentage_error(store_data['y'],store_data['PredictedSalesXG'])\n",
    "\n",
    "#Plot for predictions vs real values\n",
    "    plt.figure(figsize=(12,5))\n",
    "    plt.plot(store_data['Date'],store_data['y'],label='Real Sales')\n",
    "    plt.plot(store_data['Date'],store_data['PredictedSalesXG'],label='Predicted Sales')\n",
    "    plt.title(f'Sales Predicitions for Store {store_id}')\n",
    "    plt.xlabel('Date')\n",
    "    plt.ylabel('Sales')\n",
    "    plt.legend()\n",
    "    plt.title(f'Sales for Store {store_id}')\n",
    "    plt.suptitle(f\"RMSE:{rmse_store:.2f}|R²:{r2_store:.4f}| MAPE:{mape:.4f}\",fontsize=10)\n",
    "    plt.xticks(rotation=45)\n",
    "    plt.tight_layout()\n",
    "    plt.show()"
   ]
  },
  {
   "cell_type": "code",
   "execution_count": null,
   "id": "b3cdf8d4",
   "metadata": {},
   "outputs": [],
   "source": [
    "#Plots for MODEL WITH ALL FEATURES\n",
    "#Plots with predictions vs real values for all the stores in third part\n",
    "#For loop for all the stores\n",
    "for store_id in third_part:\n",
    "    store_data=test_data[test_data['Store']==store_id]\n",
    "    store_data['Date']=pd.to_datetime(store_data['Date'])\n",
    "    store_data=store_data.sort_values(by='Date')\n",
    "\n",
    "#Statistics\n",
    "    rmse_store=np.sqrt(mean_squared_error(store_data['y'],store_data['PredictedSalesXG']))\n",
    "    r2_store=r2_score(store_data['y'],store_data['PredictedSalesXG'])\n",
    "    mape=mean_absolute_percentage_error(store_data['y'],store_data['PredictedSalesXG'])\n",
    "\n",
    "#Plot for predictions vs real values\n",
    "    plt.figure(figsize=(12,5))\n",
    "    plt.plot(store_data['Date'],store_data['y'],label='Real Sales')\n",
    "    plt.plot(store_data['Date'],store_data['PredictedSalesXG'],label='Predicted Sales')\n",
    "    plt.title(f'Sales Predicitions for Store {store_id}')\n",
    "    plt.xlabel('Date')\n",
    "    plt.ylabel('Sales')\n",
    "    plt.legend()\n",
    "    plt.title(f'Sales for Store {store_id}')\n",
    "    plt.suptitle(f\"RMSE:{rmse_store:.2f}|R²:{r2_store:.4f}| MAPE:{mape:.4f}\",fontsize=10)\n",
    "    plt.xticks(rotation=45)\n",
    "    plt.tight_layout()\n",
    "    plt.show()"
   ]
  },
  {
   "cell_type": "code",
   "execution_count": null,
   "id": "17e2bb3d",
   "metadata": {},
   "outputs": [],
   "source": [
    "# model with some important variables that I have chosen\n",
    "sel_features=['SchoolHoliday','Promo2','Promo','StoreType',\"Assortment\",\"StateHoliday\"]\n",
    "X_train_neww=X_train[sel_features]\n",
    "X_test_neww=X_test[sel_features]\n",
    "\n",
    "#second model\n",
    "xgb_model_second=XGBRegressor(objective='reg:squarederror',learning_rate=0.05,verbosity=1,enable_categorical=True)\n",
    "xgb_model_second.fit(X_train_neww,y_train)\n",
    "\n",
    "#predictions\n",
    "y_p=xgb_model_second.predict(X_test_neww)\n",
    "y_p[y_p<0]=0 #negative predictions are setted equal to zero\n",
    "\n",
    "#model performance\n",
    "rmse=np.sqrt(mean_squared_error(y_test,y_p))\n",
    "r2=r2_score(y_test,y_p)\n",
    "mape=mean_absolute_percentage_error(y_test,y_p)\n",
    "#results\n",
    "print(f\"MAPE:{mape:.4f}\")\n",
    "print(f\"RMSE:{rmse:.4f}\")\n",
    "print(f\"R2:{r2:.4f}\")"
   ]
  },
  {
   "cell_type": "code",
   "execution_count": null,
   "id": "ce9933cf",
   "metadata": {},
   "outputs": [],
   "source": [
    "#CROSS VALIDATION\n",
    "cv_scores=cross_val_score(xgb_model_second, X_train_neww, y_train,cv=tscv,scoring='neg_root_mean_squared_error')\n",
    "#Results\n",
    "print(\"Cross-Validation RMSE Scores:\", -cv_scores)\n",
    "print(\"Mean RMSE:\", -np.mean(cv_scores))\n",
    "print(\"Standard Deviation of RMSE:\",np.std(-cv_scores))"
   ]
  },
  {
   "cell_type": "code",
   "execution_count": null,
   "id": "3b8ddeea",
   "metadata": {},
   "outputs": [],
   "source": [
    "#SHAP for XGBOOST second model\n",
    "explainer=shap.Explainer(xgb_model_second)\n",
    "#SHap values for x_test\n",
    "shap_values=explainer(X_test_neww)\n",
    "#plot\n",
    "shap.summary_plot(shap_values,X_test_neww)"
   ]
  },
  {
   "cell_type": "code",
   "execution_count": null,
   "id": "0e41d76d",
   "metadata": {},
   "outputs": [],
   "source": [
    "#Statistics for every model predicitions per store ID with new model\n",
    "test_data=test_data.copy() \n",
    "test_data['PredictedSalesXGBOOST']=y_p\n",
    "\n",
    "store_results = test_data.groupby('Store').apply(\n",
    "    lambda df: pd.Series({\n",
    "        'RMSE':np.sqrt(mean_squared_error(df['y'],df['PredictedSalesXGBOOST'])),\n",
    "        'R²':r2_score(df['y'],df['PredictedSalesXGBOOST']),\n",
    "        \"MAPE\":mean_absolute_percentage_error(df['y'],df['PredictedSalesXGBOOST'])\n",
    "    })\n",
    ").reset_index()\n",
    "print(store_results)\n",
    "print(store_results[\"RMSE\"].describe())"
   ]
  },
  {
   "cell_type": "code",
   "execution_count": null,
   "id": "39e91149",
   "metadata": {},
   "outputs": [],
   "source": [
    "#Predictions for a specific store with new model\n",
    "store_ID=262\n",
    "store_df=test_data[test_data['Store']==store_ID]\n",
    "store_df['Date']=pd.to_datetime(store_df['Date'])\n",
    "store_df=store_df.sort_values(by='Date')\n",
    "\n",
    "#Statistics\n",
    "rmse_store=np.sqrt(mean_squared_error(store_df['y'],store_df['PredictedSalesXGBOOST']))\n",
    "r2_store=r2_score(store_df['y'],store_df['PredictedSalesXGBOOST'])\n",
    "mape=mean_absolute_percentage_error(store_df['y'],store_df['PredictedSalesXGBOOST'])\n",
    "\n",
    "#Plot for predictions vs real values\n",
    "plt.figure(figsize=(12,5))\n",
    "plt.plot(store_df['Date'],store_df['y'],label='Real Sales')\n",
    "plt.plot(store_df['Date'],store_df['PredictedSalesXGBOOST'],label='Predicted Sales')\n",
    "plt.title(f'Sales Predicitions for Store {store_ID}')\n",
    "plt.xlabel('Date')\n",
    "plt.ylabel('Sales')\n",
    "plt.legend()\n",
    "plt.title(f'Sales for Store {store_ID}')\n",
    "plt.suptitle(f\"RMSE:{rmse_store:.2f}| R²:{r2_store:.4f}| MAPE:{mape:.4f}\",fontsize=10)\n",
    "plt.xticks(rotation=45)\n",
    "plt.tight_layout()\n",
    "plt.show()"
   ]
  },
  {
   "cell_type": "code",
   "execution_count": null,
   "id": "38154176",
   "metadata": {},
   "outputs": [],
   "source": [
    "#Plots with predictions vs real values for all the stores in first part with new model\n",
    "#For loop for all the stores\n",
    "for store_id in first_part:\n",
    "    store_data=test_data[test_data['Store']==store_id]\n",
    "    store_data['Date']=pd.to_datetime(store_data['Date'])\n",
    "    store_data=store_data.sort_values(by='Date')\n",
    "\n",
    "#Statistics\n",
    "    rmse_store=np.sqrt(mean_squared_error(store_data['y'],store_data['PredictedSalesXGBOOST']))\n",
    "    r2_store=r2_score(store_data['y'],store_data['PredictedSalesXGBOOST'])\n",
    "    mape=mean_absolute_percentage_error(store_data['y'],store_data['PredictedSalesXGBOOST'])\n",
    "\n",
    "#Plot for predictions vs real values\n",
    "    plt.figure(figsize=(12,5))\n",
    "    plt.plot(store_data['Date'],store_data['y'],label='Real Sales')\n",
    "    plt.plot(store_data['Date'],store_data['PredictedSalesXGBOOST'],label='Predicted Sales')\n",
    "    plt.title(f'Sales Predicitions for Store {store_id}')\n",
    "    plt.xlabel('Date')\n",
    "    plt.ylabel('Sales')\n",
    "    plt.legend()\n",
    "    plt.title(f'Sales for Store {store_id}')\n",
    "    plt.suptitle(f\"RMSE:{rmse_store:.2f}|R²:{r2_store:.4f}| MAPE:{mape:.4f}\",fontsize=10)\n",
    "    plt.xticks(rotation=45)\n",
    "    plt.tight_layout()\n",
    "    plt.show()"
   ]
  },
  {
   "cell_type": "code",
   "execution_count": null,
   "id": "9522fd3b",
   "metadata": {},
   "outputs": [],
   "source": [
    "#Plots with predictions vs real values for all the stores in second part with new model\n",
    "#For loop for all the stores\n",
    "for store_id in second_part:\n",
    "    store_data=test_data[test_data['Store']==store_id]\n",
    "    store_data['Date']=pd.to_datetime(store_data['Date'])\n",
    "    store_data=store_data.sort_values(by='Date')\n",
    "\n",
    "#Statistics\n",
    "    rmse_store=np.sqrt(mean_squared_error(store_data['y'],store_data['PredictedSalesXGBOOST']))\n",
    "    r2_store=r2_score(store_data['y'],store_data['PredictedSalesXGBOOST'])\n",
    "    mape=mean_absolute_percentage_error(store_data['y'],store_data['PredictedSalesXGBOOST'])\n",
    "\n",
    "#Plot for predictions vs real values\n",
    "    plt.figure(figsize=(12,5))\n",
    "    plt.plot(store_data['Date'],store_data['y'],label='Real Sales')\n",
    "    plt.plot(store_data['Date'],store_data['PredictedSalesXGBOOST'],label='Predicted Sales')\n",
    "    plt.title(f'Sales Predicitions for Store {store_id}')\n",
    "    plt.xlabel('Date')\n",
    "    plt.ylabel('Sales')\n",
    "    plt.legend()\n",
    "    plt.title(f'Sales for Store {store_id}')\n",
    "    plt.suptitle(f\"RMSE:{rmse_store:.2f}|R²:{r2_store:.4f}| MAPE:{mape:.4f}\",fontsize=10)\n",
    "    plt.xticks(rotation=45)\n",
    "    plt.tight_layout()\n",
    "    plt.show()"
   ]
  },
  {
   "cell_type": "code",
   "execution_count": null,
   "id": "d0529f0d",
   "metadata": {},
   "outputs": [],
   "source": [
    "#Plots with predictions vs real values for all the stores in third part with new model\n",
    "#For loop for all the stores\n",
    "for store_id in third_part:\n",
    "    store_data=test_data[test_data['Store']==store_id]\n",
    "    store_data['Date']=pd.to_datetime(store_data['Date'])\n",
    "    store_data=store_data.sort_values(by='Date')\n",
    "\n",
    "#Statistics\n",
    "    rmse_store=np.sqrt(mean_squared_error(store_data['y'],store_data['PredictedSalesXGBOOST']))\n",
    "    r2_store=r2_score(store_data['y'],store_data['PredictedSalesXGBOOST'])\n",
    "     mape=mean_absolute_percentage_error(store_data['y'],store_data['PredictedSalesXGBOOST'])\n",
    "\n",
    "#Plot for predictions vs real values\n",
    "    plt.figure(figsize=(12,5))\n",
    "    plt.plot(store_data['Date'],store_data['y'],label='Real Sales')\n",
    "    plt.plot(store_data['Date'],store_data['PredictedSalesXGBOOST'],label='Predicted Sales')\n",
    "    plt.title(f'Sales Predicitions for Store {store_id}')\n",
    "    plt.xlabel('Date')\n",
    "    plt.ylabel('Sales')\n",
    "    plt.legend()\n",
    "    plt.title(f'Sales for Store {store_id}')\n",
    "    plt.suptitle(f\"RMSE:{rmse_store:.2f}|R²:{r2_store:.4f}| MAPE:{mape:.4f}\",fontsize=10)\n",
    "    plt.xticks(rotation=45)\n",
    "    plt.tight_layout()\n",
    "    plt.show()"
   ]
  },
  {
   "cell_type": "code",
   "execution_count": null,
   "id": "4e306a2c",
   "metadata": {},
   "outputs": [],
   "source": [
    "##PREDICTIONS FOR FIRST MODEL because it has the best accuracy\n",
    "\n",
    "#Time charachteristics for train data,test data and predictions data (t) \n",
    "def create_date_features(df):\n",
    "    df[\"Date\"]=pd.to_datetime(df[\"Date\"])\n",
    "    df[\"DayOfWeek\"]=df[\"Date\"].dt.dayofweek\n",
    "    df[\"Month\"]=df[\"Date\"].dt.month\n",
    "    df[\"DayOfYear\"]=df[\"Date\"].dt.day\n",
    "    df[\"IsWeekend\"]=(df[\"DayOfWeek\"] >= 5).astype(int)\n",
    "    return df\n",
    "\n",
    "for df in [train_data,test_data,t]:\n",
    "    create_date_features(df)\n",
    "\n",
    "#Model variables\n",
    "xg_features=[\"StoreType\",\"Assortment\",'CompetitionOpenSinceMonth','CompetitionDistance',\"CompetitionOpenSinceYear\",\"Promo2SinceWeek\",\"DayOfWeek\",\n",
    "\"Month\",\"DayOfYear\",\"IsWeekend\",\"Promo\",\"Promo2\",\"Promo2SinceYear\",\"PromoInterval\",\"StateHoliday\",\"SchoolHoliday\",\"Open\"]\n",
    "\n",
    "#Variables that need to be converted as categorical\n",
    "cat_cols=[\"CompetitionOpenSinceYear\",\"Open\",\"Promo2SinceWeek\",\"CompetitionOpenSinceMonth\",\"Assortment\",\"Promo\",\"Promo2\",\"Promo2SinceYear\"\n",
    ",\"PromoInterval\",\"StateHoliday\",\"SchoolHoliday\",\"StoreType\"]\n",
    "\n",
    "target=\"y\"\n",
    "\n",
    "# Split data\n",
    "X_train,y_train=train_data[xg_features],train_data[target]\n",
    "X_test,y_test=test_data[xg_features],test_data[target]\n",
    "X_futuree=t[xg_features]\n",
    "\n",
    "#Features as categorical in all datasets\n",
    "for col in cat_cols:\n",
    "    for df in [X_train, X_test, X_futuree]:\n",
    "        df[col] = df[col].astype(\"category\")\n",
    "\n",
    "\n",
    "xgpred_model=XGBRegressor(objective='reg:squarederror',learning_rate=0.3,max_depth=5,n_estimators=500,verbosity=1,enable_categorical=True)\n",
    "xgpred_model.fit(X_train,y_train,eval_set=[(X_test,y_test)])\n",
    "#Predictions\n",
    "future_xgpreds=xgpred_model.predict(X_futuree)\n",
    "future_xgpreds[future_xgpreds<0]=0 #negative predictions equal to 0\n",
    "t[\"xgPredictedSales\"]=future_xgpreds\n"
   ]
  },
  {
   "cell_type": "code",
   "execution_count": null,
   "id": "900bc99d",
   "metadata": {},
   "outputs": [],
   "source": [
    "#Choose a store id\n",
    "store_id=251\n",
    "#Predictions for specific store\n",
    "store_preds=t[t[\"Store\"]==store_id][[\"Date\",\"xgPredictedSales\"]].copy()\n",
    "print(store_preds) #check\n",
    "\n",
    "#I create a function that returns only the predictions for stores\n",
    "def plot_store_forecast_xg(store_id):\n",
    "    store_data=t[t[\"Store\"]==store_id].copy()\n",
    "    store_data.sort_values(\"Date\",inplace=True)\n",
    "    \n",
    "    plt.figure(figsize=(10,6))\n",
    "    plt.plot(store_data[\"Date\"],store_data[\"xgPredictedSales\"],label=f\"Forecast for Store {store_id}\",color='green')\n",
    "    plt.title(f\"XG Boost-Predicted Sales for Store {store_id} (August - September 2015)\")\n",
    "    plt.xlabel(\"Date\")\n",
    "    plt.ylabel(\"Sales\")\n",
    "    plt.xticks(rotation=45)\n",
    "    plt.legend()\n",
    "    plt.tight_layout()\n",
    "    plt.show()\n",
    "\n",
    "#Function\n",
    "plot_store_forecast_xg(251)"
   ]
  },
  {
   "cell_type": "markdown",
   "id": "5106a0f0",
   "metadata": {},
   "source": [
    "### Further Experiments"
   ]
  },
  {
   "cell_type": "code",
   "execution_count": null,
   "id": "9afa42d1",
   "metadata": {},
   "outputs": [],
   "source": [
    "#code that we can see how rmse changes when removing a variable \n",
    "#I tried this in order to see if i could reduce negative predictions in the model\n",
    "#Features\n",
    "xg_features=[\"StoreType\", \"Assortment\", 'CompetitionOpenSinceMonth','CompetitionDistance', \"CompetitionOpenSinceYear\", \"Open\",\"Promo2SinceWeek\", \"DayOfWeek\", \"Month\", \"DayOfYear\",\n",
    "\"IsWeekend\", \"Promo\", \"Promo2\",\"Promo2SinceYear\",\"Store\",\"PromoInterval\", \"StateHoliday\", \"SchoolHoliday\"]\n",
    "target=\"y\"\n",
    "\n",
    "#Empty vector\n",
    "results = []\n",
    "\n",
    "for feature in xg_features:\n",
    "    \n",
    "    trial_features=[f for f in xg_features if f != feature]\n",
    "    X_train_subset=X_train[trial_features]\n",
    "    X_test_subset=X_test[trial_features]\n",
    "\n",
    "    #Model\n",
    "    model=XGBRegressor(objective='reg:squarederror',learning_rate=0.3,max_depth=5,n_estimators=500,enable_categorical=True)\n",
    "    model.fit(X_train_subset, y_train)\n",
    "\n",
    "    #Forecast\n",
    "    preds=model.predict(X_test_subset)\n",
    "    preds=np.clip(preds,a_min=0,a_max=None) \n",
    "    #RMSE\n",
    "    rmse=np.sqrt(mean_squared_error(y_test,preds))\n",
    "    results.append((feature,rmse))\n",
    "\n",
    "# Results\n",
    "results_df=pd.DataFrame(results,columns=[\"Removed_Feature\",\"RMSE\"])\n",
    "results_df.sort_values(\"RMSE\")"
   ]
  },
  {
   "cell_type": "code",
   "execution_count": null,
   "id": "223880e4",
   "metadata": {},
   "outputs": [],
   "source": [
    "#NOT NEEDED ##\n",
    "#MAPE gets enormous values on our data because it is sensitive with zero sales\n",
    "#MAPE without outliers\n",
    "\n",
    "#def calculate_mape(y_true, y_pred):\n",
    "    #y_true, y_pred = np.array(y_true), np.array(y_pred)\n",
    "    #non_zero = y_true != 0\n",
    "    #return np.mean(np.abs((y_true[non_zero] - y_pred[non_zero]) / y_true[non_zero])) * 100\n",
    "\n",
    "#print(calculate_mape(store_df['y'],store_df['PredictedSales']))"
   ]
  },
  {
   "cell_type": "markdown",
   "id": "bab236ed",
   "metadata": {},
   "source": [
    "### PCA #not needed"
   ]
  },
  {
   "cell_type": "code",
   "execution_count": null,
   "id": "5b87314b",
   "metadata": {},
   "outputs": [],
   "source": [
    "#PCA  \n",
    "#from sklearn.preprocessing import StandardScaler\n",
    "#from sklearn.decomposition import PCA"
   ]
  },
  {
   "cell_type": "code",
   "execution_count": null,
   "id": "6c1842b4",
   "metadata": {},
   "outputs": [],
   "source": [
    "#Dummy variables for categorical data\n",
    "#data = pd.get_dummies(data, columns=['StoreType'], prefix='StoreType')\n",
    "#data = pd.get_dummies(data, columns=['Assortment'], prefix='Assortment')\n",
    "#data = pd.get_dummies(data, columns=['PromoInterval'], prefix='PromoInterval') "
   ]
  },
  {
   "cell_type": "code",
   "execution_count": null,
   "id": "66164d5a",
   "metadata": {},
   "outputs": [],
   "source": [
    "#data.columns"
   ]
  },
  {
   "cell_type": "code",
   "execution_count": null,
   "id": "f929381b",
   "metadata": {},
   "outputs": [],
   "source": [
    "#We have T or F so i change the type in order to get 0 or 1 values\n",
    "#data[\"Assortment_a\"] = data[\"Assortment_a\"].astype(int)\n",
    "#data[\"Assortment_b\"] = data[\"Assortment_b\"].astype(int)\n",
    "#data[\"Assortment_c\"] = data[\"Assortment_c\"].astype(int)\n",
    "\n",
    "#data[\"PromoInterval_Feb,May,Aug,Nov\"] = data[\"PromoInterval_Feb,May,Aug,Nov\"].astype(int)\n",
    "#data[\"PromoInterval_Jan,Apr,Jul,Oct\"] = data[\"PromoInterval_Jan,Apr,Jul,Oct\"].astype(int)\n",
    "#data[\"PromoInterval_Mar,Jun,Sept,Dec\"] = data[\"PromoInterval_Mar,Jun,Sept,Dec\"].astype(int)\n",
    "\n",
    "#data[\"StoreType_a\"] = data[\"StoreType_a\"].astype(int)\n",
    "#data[\"StoreType_b\"] = data[\"StoreType_b\"].astype(int)\n",
    "#data[\"StoreType_c\"] = data[\"StoreType_c\"].astype(int)\n",
    "#data[\"StoreType_d\"] = data[\"StoreType_d\"].astype(int)"
   ]
  },
  {
   "cell_type": "code",
   "execution_count": null,
   "id": "9c20ff86",
   "metadata": {},
   "outputs": [],
   "source": [
    "#data.head(1) #check"
   ]
  },
  {
   "cell_type": "code",
   "execution_count": null,
   "id": "9a8a4510",
   "metadata": {},
   "outputs": [],
   "source": [
    "#data.columns"
   ]
  },
  {
   "cell_type": "code",
   "execution_count": null,
   "id": "5ba2f960",
   "metadata": {},
   "outputs": [],
   "source": [
    "#features=['DayOfWeek', 'Customers', 'Open', 'CompetitionDistance','CompetitionOpenSinceMonth', 'CompetitionOpenSinceYear','PromotionFlags', 'HolidayIndicators',\n",
    "#'StoreType_a', 'StoreType_b', 'StoreType_c', 'StoreType_d','Assortment_a', 'Assortment_b', 'Assortment_c','PromoInterval_Feb,May,Aug,Nov', 'PromoInterval_Jan,Apr,Jul,Oct',\n",
    "#'PromoInterval_Mar,Jun,Sept,Dec']\n",
    "\n",
    "#X=data[features]\n",
    "#y=data['Sales']\n",
    "\n",
    "#scaler=StandardScaler()\n",
    "#X_scaled=scaler.fit_transform(X)\n",
    "\n",
    "#pca=PCA(n_components=5)\n",
    "#X_pca=pca.fit_transform(X_scaled)\n",
    "\n",
    "#print(pca.explained_variance_ratio_)"
   ]
  },
  {
   "cell_type": "code",
   "execution_count": null,
   "id": "76ba5437",
   "metadata": {},
   "outputs": [],
   "source": [
    "#pca_results=pd.DataFrame(pca.components_.T, columns=[f'PC{i+1}' for i in range(pca.n_components_)],index=X.columns)\n",
    "#pca_results = pca_results.round(3)\n",
    "#print(pca_results)"
   ]
  }
 ],
 "metadata": {
  "kernelspec": {
   "display_name": "myenv",
   "language": "python",
   "name": "python3"
  },
  "language_info": {
   "codemirror_mode": {
    "name": "ipython",
    "version": 3
   },
   "file_extension": ".py",
   "mimetype": "text/x-python",
   "name": "python",
   "nbconvert_exporter": "python",
   "pygments_lexer": "ipython3",
   "version": "3.12.9"
  }
 },
 "nbformat": 4,
 "nbformat_minor": 5
}
